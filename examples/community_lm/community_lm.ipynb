{
 "cells": [
  {
   "cell_type": "markdown",
   "id": "8ca8370c",
   "metadata": {},
   "source": [
    "# CommunityLM\n",
    "\n",
    "This is a replication of the experiments from [CommunityLM](https://arxiv.org/abs/2209.07065) (Jiang et al. 2022), which probes partisan worldviews from language models, based on the [original repo](https://github.com/hjian42/communitylm).\n",
    "\n",
    "Running all the experiments on a single GPU takes about 3-4 hours.\n",
    "\n",
    "Before running the notebook, please install requirements and download the data.\n",
    "```bash\n",
    "pip install -r requirements.txt\n",
    "bash download_data.sh\n",
    "```"
   ]
  },
  {
   "cell_type": "code",
   "execution_count": 1,
   "id": "29563e5d-41b0-4f89-8d8b-a54b40f8dfb7",
   "metadata": {},
   "outputs": [],
   "source": [
    "from llments.lm.base.hugging_face import HuggingFaceLM, HuggingFaceLMFitter\n",
    "from llments.lm.base.dataset_lm import load_from_text_file\n",
    "from llments.eval.sentiment import HuggingFaceSentimentEvaluator\n",
    "import pandas as pd\n",
    "import numpy as np\n",
    "from community_lm_constants import politician_feelings, groups_feelings, anes_df\n",
    "from community_lm_utils import generate_community_opinion, compute_group_stance\n",
    "\n",
    "device = 'cuda:0'  # change to 'mps' if you have a mac, or 'cuda:0' if you have an NVIDIA GPU "
   ]
  },
  {
   "cell_type": "markdown",
   "id": "4683f755",
   "metadata": {},
   "source": [
    "## Train a CommunityLM model (optional)\n",
    "\n",
    "The CommunityLM paper has released their pre-trained models on Hugging Face, so for the purpose of this notebook, we will use the pre-trained models. However, if you want to train a CommunityLM model from scratch, you can download training data to `data/{democrat,republican}-tweets.txt`, uncomment the following lines, and replace the `lm_name` variable in the following cell with `./data/{party}-twitter-gpt2`."
   ]
  },
  {
   "cell_type": "code",
   "execution_count": 6,
   "id": "cbd430fd",
   "metadata": {},
   "outputs": [
    {
     "ename": "FileNotFoundError",
     "evalue": "[Errno 2] No such file or directory: 'data/democratic_4.7M_tweets.txt'",
     "output_type": "error",
     "traceback": [
      "\u001b[0;31m---------------------------------------------------------------------------\u001b[0m",
      "\u001b[0;31mFileNotFoundError\u001b[0m                         Traceback (most recent call last)",
      "Cell \u001b[0;32mIn[6], line 3\u001b[0m\n\u001b[1;32m      1\u001b[0m base_model \u001b[38;5;241m=\u001b[39m HuggingFaceLM(\u001b[38;5;124m\"\u001b[39m\u001b[38;5;124mgpt2\u001b[39m\u001b[38;5;124m\"\u001b[39m, device\u001b[38;5;241m=\u001b[39mdevice)\n\u001b[1;32m      2\u001b[0m \u001b[38;5;28;01mfor\u001b[39;00m party \u001b[38;5;129;01min\u001b[39;00m [\u001b[38;5;124m'\u001b[39m\u001b[38;5;124mdemocratic\u001b[39m\u001b[38;5;124m'\u001b[39m, \u001b[38;5;124m'\u001b[39m\u001b[38;5;124mrepublican\u001b[39m\u001b[38;5;124m'\u001b[39m]:\n\u001b[0;32m----> 3\u001b[0m     dataset \u001b[38;5;241m=\u001b[39m \u001b[43mload_from_text_file\u001b[49m\u001b[43m(\u001b[49m\u001b[38;5;124;43mf\u001b[39;49m\u001b[38;5;124;43m\"\u001b[39;49m\u001b[38;5;124;43mdata/\u001b[39;49m\u001b[38;5;132;43;01m{\u001b[39;49;00m\u001b[43mparty\u001b[49m\u001b[38;5;132;43;01m}\u001b[39;49;00m\u001b[38;5;124;43m_4.7M_tweets.txt\u001b[39;49m\u001b[38;5;124;43m\"\u001b[39;49m\u001b[43m)\u001b[49m\n\u001b[1;32m      4\u001b[0m     fit_model \u001b[38;5;241m=\u001b[39m HuggingFaceLMFitter\u001b[38;5;241m.\u001b[39mfit(base_model, dataset, output_dir\u001b[38;5;241m=\u001b[39m\u001b[38;5;124mf\u001b[39m\u001b[38;5;124m\"\u001b[39m\u001b[38;5;124mdata/\u001b[39m\u001b[38;5;132;01m{\u001b[39;00mparty\u001b[38;5;132;01m}\u001b[39;00m\u001b[38;5;124m-twitter-gpt2\u001b[39m\u001b[38;5;124m\"\u001b[39m)\n",
      "File \u001b[0;32m~/llments/llments/lm/base/dataset_lm.py:126\u001b[0m, in \u001b[0;36mload_from_text_file\u001b[0;34m(text_file)\u001b[0m\n\u001b[1;32m    124\u001b[0m \u001b[38;5;28;01mdef\u001b[39;00m \u001b[38;5;21mload_from_text_file\u001b[39m(text_file: \u001b[38;5;28mstr\u001b[39m) \u001b[38;5;241m-\u001b[39m\u001b[38;5;241m>\u001b[39m DatasetLM:\n\u001b[1;32m    125\u001b[0m \u001b[38;5;250m    \u001b[39m\u001b[38;5;124;03m\"\"\"Load the distribution from a text file.\"\"\"\u001b[39;00m\n\u001b[0;32m--> 126\u001b[0m     \u001b[38;5;28;01mwith\u001b[39;00m \u001b[38;5;28;43mopen\u001b[39;49m\u001b[43m(\u001b[49m\u001b[43mtext_file\u001b[49m\u001b[43m,\u001b[49m\u001b[43m \u001b[49m\u001b[38;5;124;43m\"\u001b[39;49m\u001b[38;5;124;43mr\u001b[39;49m\u001b[38;5;124;43m\"\u001b[39;49m\u001b[43m)\u001b[49m \u001b[38;5;28;01mas\u001b[39;00m f:\n\u001b[1;32m    127\u001b[0m         \u001b[38;5;28;01mreturn\u001b[39;00m DatasetLM(f\u001b[38;5;241m.\u001b[39mreadlines())\n",
      "\u001b[0;31mFileNotFoundError\u001b[0m: [Errno 2] No such file or directory: 'data/democratic_4.7M_tweets.txt'"
     ]
    }
   ],
   "source": [
    "base_model = HuggingFaceLM(\"gpt2\", device=device)\n",
    "for party in ['dem', 'repub']:\n",
    "    dataset = load_from_text_file(f\"data/{party}_4.7M_tweets.txt\")\n",
    "    fit_model = HuggingFaceLMFitter.fit(base_model, dataset, output_dir=f\"data/{party}-twitter-gpt2\")"
   ]
  },
  {
   "cell_type": "markdown",
   "id": "d0022efe",
   "metadata": {},
   "source": [
    "## Generate Opinions using CommunityLM\n",
    "\n",
    "The following code generates opinions using CommunityLM."
   ]
  },
  {
   "cell_type": "code",
   "execution_count": 7,
   "id": "bacd15ad",
   "metadata": {},
   "outputs": [
    {
     "name": "stdout",
     "output_type": "stream",
     "text": [
      "generating democrat opinion for Prompt1 run 1...\n"
     ]
    },
    {
     "name": "stderr",
     "output_type": "stream",
     "text": [
      "Generating opinions: 100%|██████████| 30/30 [00:00<00:00, 7531.97it/s]\n"
     ]
    },
    {
     "name": "stdout",
     "output_type": "stream",
     "text": [
      "generating democrat opinion for Prompt2 run 1...\n"
     ]
    },
    {
     "name": "stderr",
     "output_type": "stream",
     "text": [
      "Generating opinions: 100%|██████████| 30/30 [00:00<00:00, 11896.48it/s]\n"
     ]
    },
    {
     "name": "stdout",
     "output_type": "stream",
     "text": [
      "generating democrat opinion for Prompt3 run 1...\n"
     ]
    },
    {
     "name": "stderr",
     "output_type": "stream",
     "text": [
      "Generating opinions: 100%|██████████| 30/30 [00:00<00:00, 14777.35it/s]\n"
     ]
    },
    {
     "name": "stdout",
     "output_type": "stream",
     "text": [
      "generating democrat opinion for Prompt4 run 1...\n"
     ]
    },
    {
     "name": "stderr",
     "output_type": "stream",
     "text": [
      "Generating opinions: 100%|██████████| 30/30 [00:00<00:00, 13582.59it/s]\n"
     ]
    },
    {
     "name": "stdout",
     "output_type": "stream",
     "text": [
      "generating republican opinion for Prompt1 run 1...\n"
     ]
    },
    {
     "name": "stderr",
     "output_type": "stream",
     "text": [
      "Generating opinions: 100%|██████████| 30/30 [00:00<00:00, 12124.60it/s]\n"
     ]
    },
    {
     "name": "stdout",
     "output_type": "stream",
     "text": [
      "generating republican opinion for Prompt2 run 1...\n"
     ]
    },
    {
     "name": "stderr",
     "output_type": "stream",
     "text": [
      "Generating opinions: 100%|██████████| 30/30 [00:00<00:00, 13182.73it/s]\n"
     ]
    },
    {
     "name": "stdout",
     "output_type": "stream",
     "text": [
      "generating republican opinion for Prompt3 run 1...\n"
     ]
    },
    {
     "name": "stderr",
     "output_type": "stream",
     "text": [
      "Generating opinions: 100%|██████████| 30/30 [00:00<00:00, 13084.03it/s]\n"
     ]
    },
    {
     "name": "stdout",
     "output_type": "stream",
     "text": [
      "generating republican opinion for Prompt4 run 1...\n"
     ]
    },
    {
     "name": "stderr",
     "output_type": "stream",
     "text": [
      "Generating opinions: 100%|██████████| 30/30 [00:00<00:00, 13160.67it/s]\n"
     ]
    },
    {
     "name": "stdout",
     "output_type": "stream",
     "text": [
      "generating democrat opinion for Prompt1 run 2...\n"
     ]
    },
    {
     "name": "stderr",
     "output_type": "stream",
     "text": [
      "Generating opinions: 100%|██████████| 30/30 [00:00<00:00, 11311.50it/s]\n"
     ]
    },
    {
     "name": "stdout",
     "output_type": "stream",
     "text": [
      "generating democrat opinion for Prompt2 run 2...\n"
     ]
    },
    {
     "name": "stderr",
     "output_type": "stream",
     "text": [
      "Generating opinions: 100%|██████████| 30/30 [00:00<00:00, 12196.29it/s]\n"
     ]
    },
    {
     "name": "stdout",
     "output_type": "stream",
     "text": [
      "generating democrat opinion for Prompt3 run 2...\n"
     ]
    },
    {
     "name": "stderr",
     "output_type": "stream",
     "text": [
      "Generating opinions: 100%|██████████| 30/30 [00:00<00:00, 12855.45it/s]\n"
     ]
    },
    {
     "name": "stdout",
     "output_type": "stream",
     "text": [
      "generating democrat opinion for Prompt4 run 2...\n"
     ]
    },
    {
     "name": "stderr",
     "output_type": "stream",
     "text": [
      "Generating opinions: 100%|██████████| 30/30 [00:00<00:00, 12366.50it/s]\n"
     ]
    },
    {
     "name": "stdout",
     "output_type": "stream",
     "text": [
      "generating republican opinion for Prompt1 run 2...\n"
     ]
    },
    {
     "name": "stderr",
     "output_type": "stream",
     "text": [
      "Generating opinions: 100%|██████████| 30/30 [00:00<00:00, 12609.39it/s]\n"
     ]
    },
    {
     "name": "stdout",
     "output_type": "stream",
     "text": [
      "generating republican opinion for Prompt2 run 2...\n"
     ]
    },
    {
     "name": "stderr",
     "output_type": "stream",
     "text": [
      "Generating opinions: 100%|██████████| 30/30 [00:00<00:00, 12683.11it/s]\n"
     ]
    },
    {
     "name": "stdout",
     "output_type": "stream",
     "text": [
      "generating republican opinion for Prompt3 run 2...\n"
     ]
    },
    {
     "name": "stderr",
     "output_type": "stream",
     "text": [
      "Generating opinions: 100%|██████████| 30/30 [00:00<00:00, 13145.54it/s]\n"
     ]
    },
    {
     "name": "stdout",
     "output_type": "stream",
     "text": [
      "generating republican opinion for Prompt4 run 2...\n"
     ]
    },
    {
     "name": "stderr",
     "output_type": "stream",
     "text": [
      "Generating opinions: 100%|██████████| 30/30 [00:00<00:00, 12809.64it/s]\n"
     ]
    },
    {
     "name": "stdout",
     "output_type": "stream",
     "text": [
      "generating democrat opinion for Prompt1 run 3...\n"
     ]
    },
    {
     "name": "stderr",
     "output_type": "stream",
     "text": [
      "Generating opinions: 100%|██████████| 30/30 [00:00<00:00, 12233.05it/s]\n"
     ]
    },
    {
     "name": "stdout",
     "output_type": "stream",
     "text": [
      "generating democrat opinion for Prompt2 run 3...\n"
     ]
    },
    {
     "name": "stderr",
     "output_type": "stream",
     "text": [
      "Generating opinions: 100%|██████████| 30/30 [00:00<00:00, 12965.39it/s]\n"
     ]
    },
    {
     "name": "stdout",
     "output_type": "stream",
     "text": [
      "generating democrat opinion for Prompt3 run 3...\n"
     ]
    },
    {
     "name": "stderr",
     "output_type": "stream",
     "text": [
      "Generating opinions: 100%|██████████| 30/30 [00:00<00:00, 13138.68it/s]\n"
     ]
    },
    {
     "name": "stdout",
     "output_type": "stream",
     "text": [
      "generating democrat opinion for Prompt4 run 3...\n"
     ]
    },
    {
     "name": "stderr",
     "output_type": "stream",
     "text": [
      "Generating opinions: 100%|██████████| 30/30 [00:00<00:00, 12565.32it/s]\n"
     ]
    },
    {
     "name": "stdout",
     "output_type": "stream",
     "text": [
      "generating republican opinion for Prompt1 run 3...\n"
     ]
    },
    {
     "name": "stderr",
     "output_type": "stream",
     "text": [
      "Generating opinions: 100%|██████████| 30/30 [00:00<00:00, 11989.43it/s]\n"
     ]
    },
    {
     "name": "stdout",
     "output_type": "stream",
     "text": [
      "generating republican opinion for Prompt2 run 3...\n"
     ]
    },
    {
     "name": "stderr",
     "output_type": "stream",
     "text": [
      "Generating opinions: 100%|██████████| 30/30 [00:00<00:00, 10810.06it/s]\n"
     ]
    },
    {
     "name": "stdout",
     "output_type": "stream",
     "text": [
      "generating republican opinion for Prompt3 run 3...\n"
     ]
    },
    {
     "name": "stderr",
     "output_type": "stream",
     "text": [
      "Generating opinions: 100%|██████████| 30/30 [00:00<00:00, 13135.93it/s]\n"
     ]
    },
    {
     "name": "stdout",
     "output_type": "stream",
     "text": [
      "generating republican opinion for Prompt4 run 3...\n"
     ]
    },
    {
     "name": "stderr",
     "output_type": "stream",
     "text": [
      "Generating opinions: 100%|██████████| 30/30 [00:00<00:00, 12862.02it/s]\n"
     ]
    },
    {
     "name": "stdout",
     "output_type": "stream",
     "text": [
      "generating democrat opinion for Prompt1 run 4...\n"
     ]
    },
    {
     "name": "stderr",
     "output_type": "stream",
     "text": [
      "Generating opinions: 100%|██████████| 30/30 [00:00<00:00, 12102.44it/s]\n"
     ]
    },
    {
     "name": "stdout",
     "output_type": "stream",
     "text": [
      "generating democrat opinion for Prompt2 run 4...\n"
     ]
    },
    {
     "name": "stderr",
     "output_type": "stream",
     "text": [
      "Generating opinions: 100%|██████████| 30/30 [00:00<00:00, 12842.33it/s]\n"
     ]
    },
    {
     "name": "stdout",
     "output_type": "stream",
     "text": [
      "generating democrat opinion for Prompt3 run 4...\n"
     ]
    },
    {
     "name": "stderr",
     "output_type": "stream",
     "text": [
      "Generating opinions: 100%|██████████| 30/30 [00:00<00:00, 13225.68it/s]\n"
     ]
    },
    {
     "name": "stdout",
     "output_type": "stream",
     "text": [
      "generating democrat opinion for Prompt4 run 4...\n"
     ]
    },
    {
     "name": "stderr",
     "output_type": "stream",
     "text": [
      "Generating opinions: 100%|██████████| 30/30 [00:00<00:00, 13155.16it/s]\n"
     ]
    },
    {
     "name": "stdout",
     "output_type": "stream",
     "text": [
      "generating republican opinion for Prompt1 run 4...\n"
     ]
    },
    {
     "name": "stderr",
     "output_type": "stream",
     "text": [
      "Generating opinions: 100%|██████████| 30/30 [00:00<00:00, 12169.16it/s]\n"
     ]
    },
    {
     "name": "stdout",
     "output_type": "stream",
     "text": [
      "generating republican opinion for Prompt2 run 4...\n"
     ]
    },
    {
     "name": "stderr",
     "output_type": "stream",
     "text": [
      "Generating opinions: 100%|██████████| 30/30 [00:00<00:00, 13099.01it/s]\n"
     ]
    },
    {
     "name": "stdout",
     "output_type": "stream",
     "text": [
      "generating republican opinion for Prompt3 run 4...\n"
     ]
    },
    {
     "name": "stderr",
     "output_type": "stream",
     "text": [
      "Generating opinions: 100%|██████████| 30/30 [00:00<00:00, 13308.21it/s]\n"
     ]
    },
    {
     "name": "stdout",
     "output_type": "stream",
     "text": [
      "generating republican opinion for Prompt4 run 4...\n"
     ]
    },
    {
     "name": "stderr",
     "output_type": "stream",
     "text": [
      "Generating opinions: 100%|██████████| 30/30 [00:00<00:00, 13152.41it/s]\n"
     ]
    },
    {
     "name": "stdout",
     "output_type": "stream",
     "text": [
      "generating democrat opinion for Prompt1 run 5...\n"
     ]
    },
    {
     "name": "stderr",
     "output_type": "stream",
     "text": [
      "Generating opinions: 100%|██████████| 30/30 [00:00<00:00, 12644.87it/s]\n"
     ]
    },
    {
     "name": "stdout",
     "output_type": "stream",
     "text": [
      "generating democrat opinion for Prompt2 run 5...\n"
     ]
    },
    {
     "name": "stderr",
     "output_type": "stream",
     "text": [
      "Generating opinions: 100%|██████████| 30/30 [00:00<00:00, 12795.31it/s]\n"
     ]
    },
    {
     "name": "stdout",
     "output_type": "stream",
     "text": [
      "generating democrat opinion for Prompt3 run 5...\n"
     ]
    },
    {
     "name": "stderr",
     "output_type": "stream",
     "text": [
      "Generating opinions: 100%|██████████| 30/30 [00:00<00:00, 13572.34it/s]\n"
     ]
    },
    {
     "name": "stdout",
     "output_type": "stream",
     "text": [
      "generating democrat opinion for Prompt4 run 5...\n"
     ]
    },
    {
     "name": "stderr",
     "output_type": "stream",
     "text": [
      "Generating opinions: 100%|██████████| 30/30 [00:00<00:00, 13449.03it/s]\n"
     ]
    },
    {
     "name": "stdout",
     "output_type": "stream",
     "text": [
      "generating republican opinion for Prompt1 run 5...\n"
     ]
    },
    {
     "name": "stderr",
     "output_type": "stream",
     "text": [
      "Generating opinions: 100%|██████████| 30/30 [00:00<00:00, 10524.35it/s]\n"
     ]
    },
    {
     "name": "stdout",
     "output_type": "stream",
     "text": [
      "generating republican opinion for Prompt2 run 5...\n"
     ]
    },
    {
     "name": "stderr",
     "output_type": "stream",
     "text": [
      "Generating opinions: 100%|██████████| 30/30 [00:00<00:00, 11926.93it/s]\n"
     ]
    },
    {
     "name": "stdout",
     "output_type": "stream",
     "text": [
      "generating republican opinion for Prompt3 run 5...\n"
     ]
    },
    {
     "name": "stderr",
     "output_type": "stream",
     "text": [
      "Generating opinions: 100%|██████████| 30/30 [00:00<00:00, 13373.27it/s]\n"
     ]
    },
    {
     "name": "stdout",
     "output_type": "stream",
     "text": [
      "generating republican opinion for Prompt4 run 5...\n"
     ]
    },
    {
     "name": "stderr",
     "output_type": "stream",
     "text": [
      "Generating opinions: 100%|██████████| 30/30 [00:00<00:00, 9595.75it/s]\n"
     ]
    }
   ],
   "source": [
    "for run in range(1, 6):\n",
    "    for party in ['democrat', 'republican']:\n",
    "        # This uses the pre-trained communitylm, but you can uncomment if you trained your own model\n",
    "        # lm_name = f'CommunityLM/{party}-twitter-gpt2'\n",
    "        lm_name = f'./data/{party[:-5]}-twitter-gpt2'\n",
    "        lm = HuggingFaceLM(lm_name, device=device)\n",
    "        for prompt_option in ['Prompt1', 'Prompt2', 'Prompt3', 'Prompt4']:\n",
    "            print(f'generating {party} opinion for {prompt_option} run {run}...')\n",
    "            output_path = f'output/CommunityLM_{party}-twitter-gpt2/run_{run}'\n",
    "            generate_community_opinion(lm, prompt_option, output_path, run)"
   ]
  },
  {
   "cell_type": "markdown",
   "id": "348fc5e7-aad4-4d1a-9436-0ae83585e8bb",
   "metadata": {},
   "source": [
    "## Perform Group-level Sentiment Analysis"
   ]
  },
  {
   "cell_type": "code",
   "execution_count": 8,
   "id": "d2049390",
   "metadata": {},
   "outputs": [
    {
     "name": "stderr",
     "output_type": "stream",
     "text": [
      "Some weights of the model checkpoint at cardiffnlp/twitter-roberta-base-sentiment-latest were not used when initializing RobertaForSequenceClassification: ['roberta.pooler.dense.bias', 'roberta.pooler.dense.weight']\n",
      "- This IS expected if you are initializing RobertaForSequenceClassification from the checkpoint of a model trained on another task or with another architecture (e.g. initializing a BertForSequenceClassification model from a BertForPreTraining model).\n",
      "- This IS NOT expected if you are initializing RobertaForSequenceClassification from the checkpoint of a model that you expect to be exactly identical (initializing a BertForSequenceClassification model from a BertForSequenceClassification model).\n"
     ]
    }
   ],
   "source": [
    "evaluator = HuggingFaceSentimentEvaluator(\n",
    "    \"cardiffnlp/twitter-roberta-base-sentiment-latest\",\n",
    "    device=device\n",
    ")\n",
    "for party in ['democrat', 'republican']:\n",
    "    compute_group_stance(\n",
    "        evaluator=evaluator,\n",
    "        data_folder=f'output/CommunityLM_{party}-twitter-gpt2',\n",
    "        output_filename=f'output/CommunityLM_{party}-twitter-gpt2/stance_prediction.csv',\n",
    "    )"
   ]
  },
  {
   "cell_type": "code",
   "execution_count": 2,
   "id": "eec53be2",
   "metadata": {},
   "outputs": [],
   "source": [
    "df_dem = pd.read_csv(\"output/CommunityLM_democrat-twitter-gpt2/stance_prediction.csv\")\n",
    "df_repub = pd.read_csv(\"output/CommunityLM_republican-twitter-gpt2/stance_prediction.csv\")"
   ]
  },
  {
   "cell_type": "markdown",
   "id": "6017a1d8-ae02-4adb-b3af-3d19911a61a2",
   "metadata": {
    "tags": []
   },
   "source": [
    "## Preparing ANES2020 Questions\n",
    "\n",
    "This is data from the American National Election Study (ANES)\n",
    "\n",
    "Website: https://electionstudies.org/\n",
    "Email:   anes@electionstudies.org\n"
   ]
  },
  {
   "cell_type": "code",
   "execution_count": null,
   "id": "04e5cf0c-3f2c-4cae-806a-3798f8138664",
   "metadata": {},
   "outputs": [
    {
     "name": "stdout",
     "output_type": "stream",
     "text": [
      "Number of Rows Total (3080, 470)\n",
      "Number of Rows for Partisans (2144, 470)\n"
     ]
    }
   ],
   "source": [
    "df = pd.read_csv(\"data/anes_pilot_2020ets_csv.csv\")\n",
    "\n",
    "print(f\"Number of Rows Total {df.shape}\")\n",
    "\n",
    "# only look self identified partisans 2144/3080. 1: Republican; 2: Democrat\n",
    "df = df[df.pid1r < 3]\n",
    "df.pid1r = df.pid1r.map({1: \"Republican\", 2: \"Democrat\"})\n",
    "print(f\"Number of Rows for Partisans {df.shape}\")"
   ]
  },
  {
   "cell_type": "code",
   "execution_count": 4,
   "id": "976e4ba7-6c58-4445-9522-fe844342df1f",
   "metadata": {},
   "outputs": [],
   "source": [
    "# 999 stands for missing values and 'pid1r' is the partisanship\n",
    "df_politician_results = df[['pid1r']+politician_feelings+groups_feelings].replace(999, np.nan).groupby(\"pid1r\").mean().T\n",
    "df_politician_results['is_repub_leading'] = (df_politician_results.Republican > df_politician_results.Democrat)\n",
    "# df_politician_results\n"
   ]
  },
  {
   "cell_type": "code",
   "execution_count": 5,
   "id": "a34e06de-bfdd-4475-a4d6-47a17d627bfb",
   "metadata": {},
   "outputs": [],
   "source": [
    "df_politician_results['Prompt1'] = anes_df['Prompt1'].to_list()\n",
    "df_politician_results['Prompt2'] = anes_df['Prompt2'].to_list()\n",
    "df_politician_results['Prompt3'] = anes_df['Prompt3'].to_list()\n",
    "df_politician_results['Prompt4'] = anes_df['Prompt4'].to_list()\n",
    "\n",
    "df_politician_results['pid'] = df_politician_results.index\n",
    "df_politician_results.to_csv(\"output/anes2020_pilot_prompt_probing.csv\", index=False)\n",
    "# df_politician_results"
   ]
  },
  {
   "cell_type": "code",
   "execution_count": 6,
   "id": "aabcbbde-38a0-4e7c-a0a3-93034ce589c0",
   "metadata": {},
   "outputs": [
    {
     "data": {
      "text/html": [
       "<div>\n",
       "<style scoped>\n",
       "    .dataframe tbody tr th:only-of-type {\n",
       "        vertical-align: middle;\n",
       "    }\n",
       "\n",
       "    .dataframe tbody tr th {\n",
       "        vertical-align: top;\n",
       "    }\n",
       "\n",
       "    .dataframe thead th {\n",
       "        text-align: right;\n",
       "    }\n",
       "</style>\n",
       "<table border=\"1\" class=\"dataframe\">\n",
       "  <thead>\n",
       "    <tr style=\"text-align: right;\">\n",
       "      <th>pid1r</th>\n",
       "      <th>Democrat</th>\n",
       "      <th>Republican</th>\n",
       "      <th>is_repub_leading</th>\n",
       "      <th>Prompt1</th>\n",
       "      <th>Prompt2</th>\n",
       "      <th>Prompt3</th>\n",
       "      <th>Prompt4</th>\n",
       "      <th>pid</th>\n",
       "      <th>diff</th>\n",
       "    </tr>\n",
       "  </thead>\n",
       "  <tbody>\n",
       "    <tr>\n",
       "      <th>ftasian</th>\n",
       "      <td>68.945549</td>\n",
       "      <td>63.443756</td>\n",
       "      <td>False</td>\n",
       "      <td>Asian people</td>\n",
       "      <td>Asian people are</td>\n",
       "      <td>Asian people are a</td>\n",
       "      <td>Asian people are the</td>\n",
       "      <td>ftasian</td>\n",
       "      <td>5.501792</td>\n",
       "    </tr>\n",
       "    <tr>\n",
       "      <th>ftwhite</th>\n",
       "      <td>71.250000</td>\n",
       "      <td>77.156540</td>\n",
       "      <td>True</td>\n",
       "      <td>White people</td>\n",
       "      <td>White people are</td>\n",
       "      <td>White people are a</td>\n",
       "      <td>White people are the</td>\n",
       "      <td>ftwhite</td>\n",
       "      <td>5.906540</td>\n",
       "    </tr>\n",
       "    <tr>\n",
       "      <th>fthisp</th>\n",
       "      <td>71.269363</td>\n",
       "      <td>63.595876</td>\n",
       "      <td>False</td>\n",
       "      <td>Hispanic people</td>\n",
       "      <td>Hispanic people are</td>\n",
       "      <td>Hispanic people are a</td>\n",
       "      <td>Hispanic people are the</td>\n",
       "      <td>fthisp</td>\n",
       "      <td>7.673487</td>\n",
       "    </tr>\n",
       "    <tr>\n",
       "      <th>ftfauci1</th>\n",
       "      <td>66.669877</td>\n",
       "      <td>58.275899</td>\n",
       "      <td>False</td>\n",
       "      <td>Dr. Anthony Fauci</td>\n",
       "      <td>Dr. Anthony Fauci is</td>\n",
       "      <td>Dr. Anthony Fauci is a</td>\n",
       "      <td>Dr. Anthony Fauci is the</td>\n",
       "      <td>ftfauci1</td>\n",
       "      <td>8.393979</td>\n",
       "    </tr>\n",
       "    <tr>\n",
       "      <th>ftblack</th>\n",
       "      <td>76.219638</td>\n",
       "      <td>66.510309</td>\n",
       "      <td>False</td>\n",
       "      <td>Black people</td>\n",
       "      <td>Black people are</td>\n",
       "      <td>Black people are a</td>\n",
       "      <td>Black people are the</td>\n",
       "      <td>ftblack</td>\n",
       "      <td>9.709329</td>\n",
       "    </tr>\n",
       "    <tr>\n",
       "      <th>ftrubio1</th>\n",
       "      <td>31.522052</td>\n",
       "      <td>43.008547</td>\n",
       "      <td>True</td>\n",
       "      <td>Marco Rubio</td>\n",
       "      <td>Marco Rubio is</td>\n",
       "      <td>Marco Rubio is a</td>\n",
       "      <td>Marco Rubio is the</td>\n",
       "      <td>ftrubio1</td>\n",
       "      <td>11.486495</td>\n",
       "    </tr>\n",
       "    <tr>\n",
       "      <th>ftcapitalists</th>\n",
       "      <td>46.675652</td>\n",
       "      <td>60.533054</td>\n",
       "      <td>True</td>\n",
       "      <td>capitalists</td>\n",
       "      <td>capitalists are</td>\n",
       "      <td>capitalists are a</td>\n",
       "      <td>capitalists are the</td>\n",
       "      <td>ftcapitalists</td>\n",
       "      <td>13.857401</td>\n",
       "    </tr>\n",
       "    <tr>\n",
       "      <th>ftbigbusiness</th>\n",
       "      <td>43.142114</td>\n",
       "      <td>57.847826</td>\n",
       "      <td>True</td>\n",
       "      <td>big business</td>\n",
       "      <td>big business is</td>\n",
       "      <td>big business is a</td>\n",
       "      <td>big business is the</td>\n",
       "      <td>ftbigbusiness</td>\n",
       "      <td>14.705712</td>\n",
       "    </tr>\n",
       "    <tr>\n",
       "      <th>ftlaborunions</th>\n",
       "      <td>60.672474</td>\n",
       "      <td>44.870466</td>\n",
       "      <td>False</td>\n",
       "      <td>labor unions</td>\n",
       "      <td>labor unions is</td>\n",
       "      <td>labor unions is a</td>\n",
       "      <td>labor unions is the</td>\n",
       "      <td>ftlaborunions</td>\n",
       "      <td>15.802008</td>\n",
       "    </tr>\n",
       "    <tr>\n",
       "      <th>fthaley1</th>\n",
       "      <td>29.860531</td>\n",
       "      <td>47.069714</td>\n",
       "      <td>True</td>\n",
       "      <td>Nikki Haley</td>\n",
       "      <td>Nikki Haley is</td>\n",
       "      <td>Nikki Haley is a</td>\n",
       "      <td>Nikki Haley is the</td>\n",
       "      <td>fthaley1</td>\n",
       "      <td>17.209183</td>\n",
       "    </tr>\n",
       "    <tr>\n",
       "      <th>ftthomas1</th>\n",
       "      <td>29.950000</td>\n",
       "      <td>48.631868</td>\n",
       "      <td>True</td>\n",
       "      <td>Clarence Thomas</td>\n",
       "      <td>Clarence Thomas is</td>\n",
       "      <td>Clarence Thomas is a</td>\n",
       "      <td>Clarence Thomas is the</td>\n",
       "      <td>ftthomas1</td>\n",
       "      <td>18.681868</td>\n",
       "    </tr>\n",
       "    <tr>\n",
       "      <th>ftyang1</th>\n",
       "      <td>49.279133</td>\n",
       "      <td>29.191176</td>\n",
       "      <td>False</td>\n",
       "      <td>Andrew Yang</td>\n",
       "      <td>Andrew Yang is</td>\n",
       "      <td>Andrew Yang is a</td>\n",
       "      <td>Andrew Yang is the</td>\n",
       "      <td>ftyang1</td>\n",
       "      <td>20.087956</td>\n",
       "    </tr>\n",
       "    <tr>\n",
       "      <th>ftklobuchar1</th>\n",
       "      <td>50.043439</td>\n",
       "      <td>22.171367</td>\n",
       "      <td>False</td>\n",
       "      <td>Amy Klobuchar</td>\n",
       "      <td>Amy Klobuchar is</td>\n",
       "      <td>Amy Klobuchar is a</td>\n",
       "      <td>Amy Klobuchar is the</td>\n",
       "      <td>ftklobuchar1</td>\n",
       "      <td>27.872072</td>\n",
       "    </tr>\n",
       "    <tr>\n",
       "      <th>ftfeminists</th>\n",
       "      <td>61.967938</td>\n",
       "      <td>33.920372</td>\n",
       "      <td>False</td>\n",
       "      <td>feminists</td>\n",
       "      <td>feminists are</td>\n",
       "      <td>feminists are a</td>\n",
       "      <td>feminists are the</td>\n",
       "      <td>ftfeminists</td>\n",
       "      <td>28.047565</td>\n",
       "    </tr>\n",
       "    <tr>\n",
       "      <th>fttransppl</th>\n",
       "      <td>63.217617</td>\n",
       "      <td>35.061983</td>\n",
       "      <td>False</td>\n",
       "      <td>transgender people</td>\n",
       "      <td>transgender people are</td>\n",
       "      <td>transgender people are a</td>\n",
       "      <td>transgender people are the</td>\n",
       "      <td>fttransppl</td>\n",
       "      <td>28.155633</td>\n",
       "    </tr>\n",
       "    <tr>\n",
       "      <th>ftsocialists</th>\n",
       "      <td>54.000869</td>\n",
       "      <td>24.106029</td>\n",
       "      <td>False</td>\n",
       "      <td>socialists</td>\n",
       "      <td>socialists are</td>\n",
       "      <td>socialists are a</td>\n",
       "      <td>socialists are the</td>\n",
       "      <td>ftsocialists</td>\n",
       "      <td>29.894840</td>\n",
       "    </tr>\n",
       "    <tr>\n",
       "      <th>ftillegal</th>\n",
       "      <td>56.169828</td>\n",
       "      <td>26.246646</td>\n",
       "      <td>False</td>\n",
       "      <td>illegal immigrants</td>\n",
       "      <td>illegal immigrants are</td>\n",
       "      <td>illegal immigrants are a</td>\n",
       "      <td>illegal immigrants are the</td>\n",
       "      <td>ftillegal</td>\n",
       "      <td>29.923182</td>\n",
       "    </tr>\n",
       "    <tr>\n",
       "      <th>ftmetoo</th>\n",
       "      <td>63.739774</td>\n",
       "      <td>32.730851</td>\n",
       "      <td>False</td>\n",
       "      <td>the #MeToo movement</td>\n",
       "      <td>the #MeToo movement is</td>\n",
       "      <td>the #MeToo movement is a</td>\n",
       "      <td>the #MeToo movement is the</td>\n",
       "      <td>ftmetoo</td>\n",
       "      <td>31.008923</td>\n",
       "    </tr>\n",
       "    <tr>\n",
       "      <th>ftbuttigieg1</th>\n",
       "      <td>52.786607</td>\n",
       "      <td>21.663441</td>\n",
       "      <td>False</td>\n",
       "      <td>Pete Buttigieg</td>\n",
       "      <td>Pete Buttigieg is</td>\n",
       "      <td>Pete Buttigieg is a</td>\n",
       "      <td>Pete Buttigieg is the</td>\n",
       "      <td>ftbuttigieg1</td>\n",
       "      <td>31.123166</td>\n",
       "    </tr>\n",
       "    <tr>\n",
       "      <th>ftharris1</th>\n",
       "      <td>52.120889</td>\n",
       "      <td>18.633008</td>\n",
       "      <td>False</td>\n",
       "      <td>Kamala Harris</td>\n",
       "      <td>Kamala Harris is</td>\n",
       "      <td>Kamala Harris is a</td>\n",
       "      <td>Kamala Harris is the</td>\n",
       "      <td>ftharris1</td>\n",
       "      <td>33.487881</td>\n",
       "    </tr>\n",
       "    <tr>\n",
       "      <th>ftocasioc1</th>\n",
       "      <td>50.596601</td>\n",
       "      <td>16.489752</td>\n",
       "      <td>False</td>\n",
       "      <td>Alexandria Ocasio-Cortez</td>\n",
       "      <td>Alexandria Ocasio-Cortez is</td>\n",
       "      <td>Alexandria Ocasio-Cortez is a</td>\n",
       "      <td>Alexandria Ocasio-Cortez is the</td>\n",
       "      <td>ftocasioc1</td>\n",
       "      <td>34.106849</td>\n",
       "    </tr>\n",
       "    <tr>\n",
       "      <th>ftwarren1</th>\n",
       "      <td>59.843478</td>\n",
       "      <td>20.457680</td>\n",
       "      <td>False</td>\n",
       "      <td>Elizabeth Warren</td>\n",
       "      <td>Elizabeth Warren is</td>\n",
       "      <td>Elizabeth Warren is a</td>\n",
       "      <td>Elizabeth Warren is the</td>\n",
       "      <td>ftwarren1</td>\n",
       "      <td>39.385798</td>\n",
       "    </tr>\n",
       "    <tr>\n",
       "      <th>ftbiden1</th>\n",
       "      <td>66.497423</td>\n",
       "      <td>24.401235</td>\n",
       "      <td>False</td>\n",
       "      <td>Joe Biden</td>\n",
       "      <td>Joe Biden is</td>\n",
       "      <td>Joe Biden is a</td>\n",
       "      <td>Joe Biden is the</td>\n",
       "      <td>ftbiden1</td>\n",
       "      <td>42.096188</td>\n",
       "    </tr>\n",
       "    <tr>\n",
       "      <th>ftsanders1</th>\n",
       "      <td>63.769828</td>\n",
       "      <td>20.503597</td>\n",
       "      <td>False</td>\n",
       "      <td>Bernie Sanders</td>\n",
       "      <td>Bernie Sanders is</td>\n",
       "      <td>Bernie Sanders is a</td>\n",
       "      <td>Bernie Sanders is the</td>\n",
       "      <td>ftsanders1</td>\n",
       "      <td>43.266230</td>\n",
       "    </tr>\n",
       "    <tr>\n",
       "      <th>ftpelosi1</th>\n",
       "      <td>61.758176</td>\n",
       "      <td>16.098664</td>\n",
       "      <td>False</td>\n",
       "      <td>Nancy Pelosi</td>\n",
       "      <td>Nancy Pelosi is</td>\n",
       "      <td>Nancy Pelosi is a</td>\n",
       "      <td>Nancy Pelosi is the</td>\n",
       "      <td>ftpelosi1</td>\n",
       "      <td>45.659512</td>\n",
       "    </tr>\n",
       "    <tr>\n",
       "      <th>ftdemocraticparty</th>\n",
       "      <td>71.237684</td>\n",
       "      <td>24.344262</td>\n",
       "      <td>False</td>\n",
       "      <td>the Democratic Party</td>\n",
       "      <td>the Democratic Party is</td>\n",
       "      <td>the Democratic Party is a</td>\n",
       "      <td>the Democratic Party is the</td>\n",
       "      <td>ftdemocraticparty</td>\n",
       "      <td>46.893421</td>\n",
       "    </tr>\n",
       "    <tr>\n",
       "      <th>ftpence1</th>\n",
       "      <td>24.091845</td>\n",
       "      <td>71.121524</td>\n",
       "      <td>True</td>\n",
       "      <td>Mike Pence</td>\n",
       "      <td>Mike Pence is</td>\n",
       "      <td>Mike Pence is a</td>\n",
       "      <td>Mike Pence is the</td>\n",
       "      <td>ftpence1</td>\n",
       "      <td>47.029679</td>\n",
       "    </tr>\n",
       "    <tr>\n",
       "      <th>ftrepublicanparty</th>\n",
       "      <td>25.016436</td>\n",
       "      <td>74.465641</td>\n",
       "      <td>True</td>\n",
       "      <td>the Republican Party</td>\n",
       "      <td>the Republican Party is</td>\n",
       "      <td>the Republican Party is a</td>\n",
       "      <td>the Republican Party is the</td>\n",
       "      <td>ftrepublicanparty</td>\n",
       "      <td>49.449205</td>\n",
       "    </tr>\n",
       "    <tr>\n",
       "      <th>ftobama1</th>\n",
       "      <td>81.292704</td>\n",
       "      <td>29.992821</td>\n",
       "      <td>False</td>\n",
       "      <td>Barack Obama</td>\n",
       "      <td>Barack Obama is</td>\n",
       "      <td>Barack Obama is a</td>\n",
       "      <td>Barack Obama is the</td>\n",
       "      <td>ftobama1</td>\n",
       "      <td>51.299883</td>\n",
       "    </tr>\n",
       "    <tr>\n",
       "      <th>fttrump1</th>\n",
       "      <td>17.664378</td>\n",
       "      <td>77.833163</td>\n",
       "      <td>True</td>\n",
       "      <td>Donald Trump</td>\n",
       "      <td>Donald Trump is</td>\n",
       "      <td>Donald Trump is a</td>\n",
       "      <td>Donald Trump is the</td>\n",
       "      <td>fttrump1</td>\n",
       "      <td>60.168785</td>\n",
       "    </tr>\n",
       "  </tbody>\n",
       "</table>\n",
       "</div>"
      ],
      "text/plain": [
       "pid1r               Democrat  Republican  is_repub_leading  \\\n",
       "ftasian            68.945549   63.443756             False   \n",
       "ftwhite            71.250000   77.156540              True   \n",
       "fthisp             71.269363   63.595876             False   \n",
       "ftfauci1           66.669877   58.275899             False   \n",
       "ftblack            76.219638   66.510309             False   \n",
       "ftrubio1           31.522052   43.008547              True   \n",
       "ftcapitalists      46.675652   60.533054              True   \n",
       "ftbigbusiness      43.142114   57.847826              True   \n",
       "ftlaborunions      60.672474   44.870466             False   \n",
       "fthaley1           29.860531   47.069714              True   \n",
       "ftthomas1          29.950000   48.631868              True   \n",
       "ftyang1            49.279133   29.191176             False   \n",
       "ftklobuchar1       50.043439   22.171367             False   \n",
       "ftfeminists        61.967938   33.920372             False   \n",
       "fttransppl         63.217617   35.061983             False   \n",
       "ftsocialists       54.000869   24.106029             False   \n",
       "ftillegal          56.169828   26.246646             False   \n",
       "ftmetoo            63.739774   32.730851             False   \n",
       "ftbuttigieg1       52.786607   21.663441             False   \n",
       "ftharris1          52.120889   18.633008             False   \n",
       "ftocasioc1         50.596601   16.489752             False   \n",
       "ftwarren1          59.843478   20.457680             False   \n",
       "ftbiden1           66.497423   24.401235             False   \n",
       "ftsanders1         63.769828   20.503597             False   \n",
       "ftpelosi1          61.758176   16.098664             False   \n",
       "ftdemocraticparty  71.237684   24.344262             False   \n",
       "ftpence1           24.091845   71.121524              True   \n",
       "ftrepublicanparty  25.016436   74.465641              True   \n",
       "ftobama1           81.292704   29.992821             False   \n",
       "fttrump1           17.664378   77.833163              True   \n",
       "\n",
       "pid1r                               Prompt1                      Prompt2  \\\n",
       "ftasian                        Asian people             Asian people are   \n",
       "ftwhite                        White people             White people are   \n",
       "fthisp                      Hispanic people          Hispanic people are   \n",
       "ftfauci1                  Dr. Anthony Fauci         Dr. Anthony Fauci is   \n",
       "ftblack                        Black people             Black people are   \n",
       "ftrubio1                        Marco Rubio               Marco Rubio is   \n",
       "ftcapitalists                   capitalists              capitalists are   \n",
       "ftbigbusiness                  big business              big business is   \n",
       "ftlaborunions                  labor unions              labor unions is   \n",
       "fthaley1                        Nikki Haley               Nikki Haley is   \n",
       "ftthomas1                   Clarence Thomas           Clarence Thomas is   \n",
       "ftyang1                         Andrew Yang               Andrew Yang is   \n",
       "ftklobuchar1                  Amy Klobuchar             Amy Klobuchar is   \n",
       "ftfeminists                       feminists                feminists are   \n",
       "fttransppl               transgender people       transgender people are   \n",
       "ftsocialists                     socialists               socialists are   \n",
       "ftillegal                illegal immigrants       illegal immigrants are   \n",
       "ftmetoo                 the #MeToo movement       the #MeToo movement is   \n",
       "ftbuttigieg1                 Pete Buttigieg            Pete Buttigieg is   \n",
       "ftharris1                     Kamala Harris             Kamala Harris is   \n",
       "ftocasioc1         Alexandria Ocasio-Cortez  Alexandria Ocasio-Cortez is   \n",
       "ftwarren1                  Elizabeth Warren          Elizabeth Warren is   \n",
       "ftbiden1                          Joe Biden                 Joe Biden is   \n",
       "ftsanders1                   Bernie Sanders            Bernie Sanders is   \n",
       "ftpelosi1                      Nancy Pelosi              Nancy Pelosi is   \n",
       "ftdemocraticparty      the Democratic Party      the Democratic Party is   \n",
       "ftpence1                         Mike Pence                Mike Pence is   \n",
       "ftrepublicanparty      the Republican Party      the Republican Party is   \n",
       "ftobama1                       Barack Obama              Barack Obama is   \n",
       "fttrump1                       Donald Trump              Donald Trump is   \n",
       "\n",
       "pid1r                                    Prompt3  \\\n",
       "ftasian                       Asian people are a   \n",
       "ftwhite                       White people are a   \n",
       "fthisp                     Hispanic people are a   \n",
       "ftfauci1                  Dr. Anthony Fauci is a   \n",
       "ftblack                       Black people are a   \n",
       "ftrubio1                        Marco Rubio is a   \n",
       "ftcapitalists                  capitalists are a   \n",
       "ftbigbusiness                  big business is a   \n",
       "ftlaborunions                  labor unions is a   \n",
       "fthaley1                        Nikki Haley is a   \n",
       "ftthomas1                   Clarence Thomas is a   \n",
       "ftyang1                         Andrew Yang is a   \n",
       "ftklobuchar1                  Amy Klobuchar is a   \n",
       "ftfeminists                      feminists are a   \n",
       "fttransppl              transgender people are a   \n",
       "ftsocialists                    socialists are a   \n",
       "ftillegal               illegal immigrants are a   \n",
       "ftmetoo                 the #MeToo movement is a   \n",
       "ftbuttigieg1                 Pete Buttigieg is a   \n",
       "ftharris1                     Kamala Harris is a   \n",
       "ftocasioc1         Alexandria Ocasio-Cortez is a   \n",
       "ftwarren1                  Elizabeth Warren is a   \n",
       "ftbiden1                          Joe Biden is a   \n",
       "ftsanders1                   Bernie Sanders is a   \n",
       "ftpelosi1                      Nancy Pelosi is a   \n",
       "ftdemocraticparty      the Democratic Party is a   \n",
       "ftpence1                         Mike Pence is a   \n",
       "ftrepublicanparty      the Republican Party is a   \n",
       "ftobama1                       Barack Obama is a   \n",
       "fttrump1                       Donald Trump is a   \n",
       "\n",
       "pid1r                                      Prompt4                pid  \\\n",
       "ftasian                       Asian people are the            ftasian   \n",
       "ftwhite                       White people are the            ftwhite   \n",
       "fthisp                     Hispanic people are the             fthisp   \n",
       "ftfauci1                  Dr. Anthony Fauci is the           ftfauci1   \n",
       "ftblack                       Black people are the            ftblack   \n",
       "ftrubio1                        Marco Rubio is the           ftrubio1   \n",
       "ftcapitalists                  capitalists are the      ftcapitalists   \n",
       "ftbigbusiness                  big business is the      ftbigbusiness   \n",
       "ftlaborunions                  labor unions is the      ftlaborunions   \n",
       "fthaley1                        Nikki Haley is the           fthaley1   \n",
       "ftthomas1                   Clarence Thomas is the          ftthomas1   \n",
       "ftyang1                         Andrew Yang is the            ftyang1   \n",
       "ftklobuchar1                  Amy Klobuchar is the       ftklobuchar1   \n",
       "ftfeminists                      feminists are the        ftfeminists   \n",
       "fttransppl              transgender people are the         fttransppl   \n",
       "ftsocialists                    socialists are the       ftsocialists   \n",
       "ftillegal               illegal immigrants are the          ftillegal   \n",
       "ftmetoo                 the #MeToo movement is the            ftmetoo   \n",
       "ftbuttigieg1                 Pete Buttigieg is the       ftbuttigieg1   \n",
       "ftharris1                     Kamala Harris is the          ftharris1   \n",
       "ftocasioc1         Alexandria Ocasio-Cortez is the         ftocasioc1   \n",
       "ftwarren1                  Elizabeth Warren is the          ftwarren1   \n",
       "ftbiden1                          Joe Biden is the           ftbiden1   \n",
       "ftsanders1                   Bernie Sanders is the         ftsanders1   \n",
       "ftpelosi1                      Nancy Pelosi is the          ftpelosi1   \n",
       "ftdemocraticparty      the Democratic Party is the  ftdemocraticparty   \n",
       "ftpence1                         Mike Pence is the           ftpence1   \n",
       "ftrepublicanparty      the Republican Party is the  ftrepublicanparty   \n",
       "ftobama1                       Barack Obama is the           ftobama1   \n",
       "fttrump1                       Donald Trump is the           fttrump1   \n",
       "\n",
       "pid1r                   diff  \n",
       "ftasian             5.501792  \n",
       "ftwhite             5.906540  \n",
       "fthisp              7.673487  \n",
       "ftfauci1            8.393979  \n",
       "ftblack             9.709329  \n",
       "ftrubio1           11.486495  \n",
       "ftcapitalists      13.857401  \n",
       "ftbigbusiness      14.705712  \n",
       "ftlaborunions      15.802008  \n",
       "fthaley1           17.209183  \n",
       "ftthomas1          18.681868  \n",
       "ftyang1            20.087956  \n",
       "ftklobuchar1       27.872072  \n",
       "ftfeminists        28.047565  \n",
       "fttransppl         28.155633  \n",
       "ftsocialists       29.894840  \n",
       "ftillegal          29.923182  \n",
       "ftmetoo            31.008923  \n",
       "ftbuttigieg1       31.123166  \n",
       "ftharris1          33.487881  \n",
       "ftocasioc1         34.106849  \n",
       "ftwarren1          39.385798  \n",
       "ftbiden1           42.096188  \n",
       "ftsanders1         43.266230  \n",
       "ftpelosi1          45.659512  \n",
       "ftdemocraticparty  46.893421  \n",
       "ftpence1           47.029679  \n",
       "ftrepublicanparty  49.449205  \n",
       "ftobama1           51.299883  \n",
       "fttrump1           60.168785  "
      ]
     },
     "execution_count": 6,
     "metadata": {},
     "output_type": "execute_result"
    }
   ],
   "source": [
    "df_politician_results['diff'] = (df_politician_results.Democrat-df_politician_results.Republican).apply(abs)\n",
    "df_politician_results.sort_values(by=['diff'])"
   ]
  },
  {
   "cell_type": "markdown",
   "id": "48fe8318-5836-448c-bb50-301845732f53",
   "metadata": {},
   "source": [
    "## Evaluate fine-tuned GPT-2 CommunityLM models\n",
    "\n",
    "This evaluates the sentiment of the completions generated by each model according to a sentiment classification model."
   ]
  },
  {
   "cell_type": "code",
   "execution_count": 7,
   "id": "68f6811b-099e-4ba5-993c-3b7ada968f2e",
   "metadata": {},
   "outputs": [],
   "source": [
    "import pandas as pd\n",
    "from sklearn.metrics import accuracy_score\n",
    "from sklearn.metrics import precision_recall_fscore_support\n",
    "\n",
    "def compute_scores(df_anes, df_dem, df_repub):\n",
    "    df_repub['prediction'] = (df_repub['group_sentiment'] > df_dem['group_sentiment'])\n",
    "\n",
    "    gold_labels = df_anes.is_repub_leading.astype(int).values\n",
    "    rows = []\n",
    "    for run in range(1, 6):\n",
    "        run = \"run_{}\".format(run)\n",
    "        for prompt_format in range(1, 5):\n",
    "            prompt_format = \"Prompt{}\".format(prompt_format)\n",
    "            df_ = df_repub[(df_repub.run == run) & (df_repub.prompt_format == prompt_format)]\n",
    "            pred_labels = df_.prediction.astype(int).values\n",
    "            acc = accuracy_score(gold_labels, pred_labels) \n",
    "            p, r, f1, _ = precision_recall_fscore_support(gold_labels, pred_labels, average='weighted')\n",
    "            rows.append([run, prompt_format, acc, p, r, f1])\n",
    "    df_scores = pd.DataFrame(rows, columns=[\"run\", \"prompt_format\", \"accuracy\", \"precision\", \"recall\", \"f1\"])\n",
    "    return df_scores"
   ]
  },
  {
   "cell_type": "code",
   "execution_count": 8,
   "id": "0d429b20",
   "metadata": {},
   "outputs": [
    {
     "data": {
      "text/html": [
       "<div>\n",
       "<style scoped>\n",
       "    .dataframe tbody tr th:only-of-type {\n",
       "        vertical-align: middle;\n",
       "    }\n",
       "\n",
       "    .dataframe tbody tr th {\n",
       "        vertical-align: top;\n",
       "    }\n",
       "\n",
       "    .dataframe thead th {\n",
       "        text-align: right;\n",
       "    }\n",
       "</style>\n",
       "<table border=\"1\" class=\"dataframe\">\n",
       "  <thead>\n",
       "    <tr style=\"text-align: right;\">\n",
       "      <th></th>\n",
       "      <th>Unnamed: 0</th>\n",
       "      <th>model_name</th>\n",
       "      <th>run</th>\n",
       "      <th>prompt_format</th>\n",
       "      <th>question</th>\n",
       "      <th>group_sentiment</th>\n",
       "    </tr>\n",
       "  </thead>\n",
       "  <tbody>\n",
       "    <tr>\n",
       "      <th>0</th>\n",
       "      <td>0</td>\n",
       "      <td>CommunityLM_republican-twitter-gpt2</td>\n",
       "      <td>run_1</td>\n",
       "      <td>Prompt1</td>\n",
       "      <td>fttrump1</td>\n",
       "      <td>41.85</td>\n",
       "    </tr>\n",
       "    <tr>\n",
       "      <th>1</th>\n",
       "      <td>1</td>\n",
       "      <td>CommunityLM_republican-twitter-gpt2</td>\n",
       "      <td>run_1</td>\n",
       "      <td>Prompt1</td>\n",
       "      <td>ftobama1</td>\n",
       "      <td>34.30</td>\n",
       "    </tr>\n",
       "    <tr>\n",
       "      <th>2</th>\n",
       "      <td>2</td>\n",
       "      <td>CommunityLM_republican-twitter-gpt2</td>\n",
       "      <td>run_1</td>\n",
       "      <td>Prompt1</td>\n",
       "      <td>ftbiden1</td>\n",
       "      <td>26.70</td>\n",
       "    </tr>\n",
       "    <tr>\n",
       "      <th>3</th>\n",
       "      <td>3</td>\n",
       "      <td>CommunityLM_republican-twitter-gpt2</td>\n",
       "      <td>run_1</td>\n",
       "      <td>Prompt1</td>\n",
       "      <td>ftwarren1</td>\n",
       "      <td>34.40</td>\n",
       "    </tr>\n",
       "    <tr>\n",
       "      <th>4</th>\n",
       "      <td>4</td>\n",
       "      <td>CommunityLM_republican-twitter-gpt2</td>\n",
       "      <td>run_1</td>\n",
       "      <td>Prompt1</td>\n",
       "      <td>ftsanders1</td>\n",
       "      <td>37.65</td>\n",
       "    </tr>\n",
       "    <tr>\n",
       "      <th>...</th>\n",
       "      <td>...</td>\n",
       "      <td>...</td>\n",
       "      <td>...</td>\n",
       "      <td>...</td>\n",
       "      <td>...</td>\n",
       "      <td>...</td>\n",
       "    </tr>\n",
       "    <tr>\n",
       "      <th>595</th>\n",
       "      <td>595</td>\n",
       "      <td>CommunityLM_republican-twitter-gpt2</td>\n",
       "      <td>run_5</td>\n",
       "      <td>Prompt4</td>\n",
       "      <td>ftcapitalists</td>\n",
       "      <td>8.20</td>\n",
       "    </tr>\n",
       "    <tr>\n",
       "      <th>596</th>\n",
       "      <td>596</td>\n",
       "      <td>CommunityLM_republican-twitter-gpt2</td>\n",
       "      <td>run_5</td>\n",
       "      <td>Prompt4</td>\n",
       "      <td>ftbigbusiness</td>\n",
       "      <td>62.25</td>\n",
       "    </tr>\n",
       "    <tr>\n",
       "      <th>597</th>\n",
       "      <td>597</td>\n",
       "      <td>CommunityLM_republican-twitter-gpt2</td>\n",
       "      <td>run_5</td>\n",
       "      <td>Prompt4</td>\n",
       "      <td>ftlaborunions</td>\n",
       "      <td>26.80</td>\n",
       "    </tr>\n",
       "    <tr>\n",
       "      <th>598</th>\n",
       "      <td>598</td>\n",
       "      <td>CommunityLM_republican-twitter-gpt2</td>\n",
       "      <td>run_5</td>\n",
       "      <td>Prompt4</td>\n",
       "      <td>ftrepublicanparty</td>\n",
       "      <td>11.00</td>\n",
       "    </tr>\n",
       "    <tr>\n",
       "      <th>599</th>\n",
       "      <td>599</td>\n",
       "      <td>CommunityLM_republican-twitter-gpt2</td>\n",
       "      <td>run_5</td>\n",
       "      <td>Prompt4</td>\n",
       "      <td>ftdemocraticparty</td>\n",
       "      <td>4.25</td>\n",
       "    </tr>\n",
       "  </tbody>\n",
       "</table>\n",
       "<p>600 rows × 6 columns</p>\n",
       "</div>"
      ],
      "text/plain": [
       "     Unnamed: 0                           model_name    run prompt_format  \\\n",
       "0             0  CommunityLM_republican-twitter-gpt2  run_1       Prompt1   \n",
       "1             1  CommunityLM_republican-twitter-gpt2  run_1       Prompt1   \n",
       "2             2  CommunityLM_republican-twitter-gpt2  run_1       Prompt1   \n",
       "3             3  CommunityLM_republican-twitter-gpt2  run_1       Prompt1   \n",
       "4             4  CommunityLM_republican-twitter-gpt2  run_1       Prompt1   \n",
       "..          ...                                  ...    ...           ...   \n",
       "595         595  CommunityLM_republican-twitter-gpt2  run_5       Prompt4   \n",
       "596         596  CommunityLM_republican-twitter-gpt2  run_5       Prompt4   \n",
       "597         597  CommunityLM_republican-twitter-gpt2  run_5       Prompt4   \n",
       "598         598  CommunityLM_republican-twitter-gpt2  run_5       Prompt4   \n",
       "599         599  CommunityLM_republican-twitter-gpt2  run_5       Prompt4   \n",
       "\n",
       "              question  group_sentiment  \n",
       "0             fttrump1            41.85  \n",
       "1             ftobama1            34.30  \n",
       "2             ftbiden1            26.70  \n",
       "3            ftwarren1            34.40  \n",
       "4           ftsanders1            37.65  \n",
       "..                 ...              ...  \n",
       "595      ftcapitalists             8.20  \n",
       "596      ftbigbusiness            62.25  \n",
       "597      ftlaborunions            26.80  \n",
       "598  ftrepublicanparty            11.00  \n",
       "599  ftdemocraticparty             4.25  \n",
       "\n",
       "[600 rows x 6 columns]"
      ]
     },
     "execution_count": 8,
     "metadata": {},
     "output_type": "execute_result"
    }
   ],
   "source": [
    "df_repub"
   ]
  },
  {
   "cell_type": "code",
   "execution_count": 9,
   "id": "d0a6ef2b-ff35-49dc-92a7-0fb984fed6ea",
   "metadata": {},
   "outputs": [
    {
     "data": {
      "text/html": [
       "<div>\n",
       "<style scoped>\n",
       "    .dataframe tbody tr th:only-of-type {\n",
       "        vertical-align: middle;\n",
       "    }\n",
       "\n",
       "    .dataframe tbody tr th {\n",
       "        vertical-align: top;\n",
       "    }\n",
       "\n",
       "    .dataframe thead th {\n",
       "        text-align: right;\n",
       "    }\n",
       "</style>\n",
       "<table border=\"1\" class=\"dataframe\">\n",
       "  <thead>\n",
       "    <tr style=\"text-align: right;\">\n",
       "      <th></th>\n",
       "      <th>run</th>\n",
       "      <th>prompt_format</th>\n",
       "      <th>accuracy</th>\n",
       "      <th>precision</th>\n",
       "      <th>recall</th>\n",
       "      <th>f1</th>\n",
       "    </tr>\n",
       "  </thead>\n",
       "  <tbody>\n",
       "    <tr>\n",
       "      <th>0</th>\n",
       "      <td>run_1</td>\n",
       "      <td>Prompt1</td>\n",
       "      <td>0.866667</td>\n",
       "      <td>0.865839</td>\n",
       "      <td>0.866667</td>\n",
       "      <td>0.861364</td>\n",
       "    </tr>\n",
       "    <tr>\n",
       "      <th>1</th>\n",
       "      <td>run_1</td>\n",
       "      <td>Prompt2</td>\n",
       "      <td>1.000000</td>\n",
       "      <td>1.000000</td>\n",
       "      <td>1.000000</td>\n",
       "      <td>1.000000</td>\n",
       "    </tr>\n",
       "    <tr>\n",
       "      <th>2</th>\n",
       "      <td>run_1</td>\n",
       "      <td>Prompt3</td>\n",
       "      <td>0.900000</td>\n",
       "      <td>0.912500</td>\n",
       "      <td>0.900000</td>\n",
       "      <td>0.893333</td>\n",
       "    </tr>\n",
       "    <tr>\n",
       "      <th>3</th>\n",
       "      <td>run_1</td>\n",
       "      <td>Prompt4</td>\n",
       "      <td>1.000000</td>\n",
       "      <td>1.000000</td>\n",
       "      <td>1.000000</td>\n",
       "      <td>1.000000</td>\n",
       "    </tr>\n",
       "    <tr>\n",
       "      <th>4</th>\n",
       "      <td>run_2</td>\n",
       "      <td>Prompt1</td>\n",
       "      <td>0.833333</td>\n",
       "      <td>0.829545</td>\n",
       "      <td>0.833333</td>\n",
       "      <td>0.830369</td>\n",
       "    </tr>\n",
       "    <tr>\n",
       "      <th>5</th>\n",
       "      <td>run_2</td>\n",
       "      <td>Prompt2</td>\n",
       "      <td>1.000000</td>\n",
       "      <td>1.000000</td>\n",
       "      <td>1.000000</td>\n",
       "      <td>1.000000</td>\n",
       "    </tr>\n",
       "    <tr>\n",
       "      <th>6</th>\n",
       "      <td>run_2</td>\n",
       "      <td>Prompt3</td>\n",
       "      <td>0.933333</td>\n",
       "      <td>0.939130</td>\n",
       "      <td>0.933333</td>\n",
       "      <td>0.930682</td>\n",
       "    </tr>\n",
       "    <tr>\n",
       "      <th>7</th>\n",
       "      <td>run_2</td>\n",
       "      <td>Prompt4</td>\n",
       "      <td>0.933333</td>\n",
       "      <td>0.933333</td>\n",
       "      <td>0.933333</td>\n",
       "      <td>0.933333</td>\n",
       "    </tr>\n",
       "    <tr>\n",
       "      <th>8</th>\n",
       "      <td>run_3</td>\n",
       "      <td>Prompt1</td>\n",
       "      <td>0.866667</td>\n",
       "      <td>0.866667</td>\n",
       "      <td>0.866667</td>\n",
       "      <td>0.866667</td>\n",
       "    </tr>\n",
       "    <tr>\n",
       "      <th>9</th>\n",
       "      <td>run_3</td>\n",
       "      <td>Prompt2</td>\n",
       "      <td>1.000000</td>\n",
       "      <td>1.000000</td>\n",
       "      <td>1.000000</td>\n",
       "      <td>1.000000</td>\n",
       "    </tr>\n",
       "    <tr>\n",
       "      <th>10</th>\n",
       "      <td>run_3</td>\n",
       "      <td>Prompt3</td>\n",
       "      <td>0.900000</td>\n",
       "      <td>0.912500</td>\n",
       "      <td>0.900000</td>\n",
       "      <td>0.893333</td>\n",
       "    </tr>\n",
       "    <tr>\n",
       "      <th>11</th>\n",
       "      <td>run_3</td>\n",
       "      <td>Prompt4</td>\n",
       "      <td>0.900000</td>\n",
       "      <td>0.912500</td>\n",
       "      <td>0.900000</td>\n",
       "      <td>0.893333</td>\n",
       "    </tr>\n",
       "    <tr>\n",
       "      <th>12</th>\n",
       "      <td>run_4</td>\n",
       "      <td>Prompt1</td>\n",
       "      <td>0.833333</td>\n",
       "      <td>0.829545</td>\n",
       "      <td>0.833333</td>\n",
       "      <td>0.830369</td>\n",
       "    </tr>\n",
       "    <tr>\n",
       "      <th>13</th>\n",
       "      <td>run_4</td>\n",
       "      <td>Prompt2</td>\n",
       "      <td>0.966667</td>\n",
       "      <td>0.970000</td>\n",
       "      <td>0.966667</td>\n",
       "      <td>0.967137</td>\n",
       "    </tr>\n",
       "    <tr>\n",
       "      <th>14</th>\n",
       "      <td>run_4</td>\n",
       "      <td>Prompt3</td>\n",
       "      <td>0.900000</td>\n",
       "      <td>0.912500</td>\n",
       "      <td>0.900000</td>\n",
       "      <td>0.893333</td>\n",
       "    </tr>\n",
       "    <tr>\n",
       "      <th>15</th>\n",
       "      <td>run_4</td>\n",
       "      <td>Prompt4</td>\n",
       "      <td>0.933333</td>\n",
       "      <td>0.939130</td>\n",
       "      <td>0.933333</td>\n",
       "      <td>0.930682</td>\n",
       "    </tr>\n",
       "    <tr>\n",
       "      <th>16</th>\n",
       "      <td>run_5</td>\n",
       "      <td>Prompt1</td>\n",
       "      <td>0.833333</td>\n",
       "      <td>0.829545</td>\n",
       "      <td>0.833333</td>\n",
       "      <td>0.830369</td>\n",
       "    </tr>\n",
       "    <tr>\n",
       "      <th>17</th>\n",
       "      <td>run_5</td>\n",
       "      <td>Prompt2</td>\n",
       "      <td>0.933333</td>\n",
       "      <td>0.933333</td>\n",
       "      <td>0.933333</td>\n",
       "      <td>0.933333</td>\n",
       "    </tr>\n",
       "    <tr>\n",
       "      <th>18</th>\n",
       "      <td>run_5</td>\n",
       "      <td>Prompt3</td>\n",
       "      <td>0.933333</td>\n",
       "      <td>0.939130</td>\n",
       "      <td>0.933333</td>\n",
       "      <td>0.930682</td>\n",
       "    </tr>\n",
       "    <tr>\n",
       "      <th>19</th>\n",
       "      <td>run_5</td>\n",
       "      <td>Prompt4</td>\n",
       "      <td>0.966667</td>\n",
       "      <td>0.968182</td>\n",
       "      <td>0.966667</td>\n",
       "      <td>0.966074</td>\n",
       "    </tr>\n",
       "  </tbody>\n",
       "</table>\n",
       "</div>"
      ],
      "text/plain": [
       "      run prompt_format  accuracy  precision    recall        f1\n",
       "0   run_1       Prompt1  0.866667   0.865839  0.866667  0.861364\n",
       "1   run_1       Prompt2  1.000000   1.000000  1.000000  1.000000\n",
       "2   run_1       Prompt3  0.900000   0.912500  0.900000  0.893333\n",
       "3   run_1       Prompt4  1.000000   1.000000  1.000000  1.000000\n",
       "4   run_2       Prompt1  0.833333   0.829545  0.833333  0.830369\n",
       "5   run_2       Prompt2  1.000000   1.000000  1.000000  1.000000\n",
       "6   run_2       Prompt3  0.933333   0.939130  0.933333  0.930682\n",
       "7   run_2       Prompt4  0.933333   0.933333  0.933333  0.933333\n",
       "8   run_3       Prompt1  0.866667   0.866667  0.866667  0.866667\n",
       "9   run_3       Prompt2  1.000000   1.000000  1.000000  1.000000\n",
       "10  run_3       Prompt3  0.900000   0.912500  0.900000  0.893333\n",
       "11  run_3       Prompt4  0.900000   0.912500  0.900000  0.893333\n",
       "12  run_4       Prompt1  0.833333   0.829545  0.833333  0.830369\n",
       "13  run_4       Prompt2  0.966667   0.970000  0.966667  0.967137\n",
       "14  run_4       Prompt3  0.900000   0.912500  0.900000  0.893333\n",
       "15  run_4       Prompt4  0.933333   0.939130  0.933333  0.930682\n",
       "16  run_5       Prompt1  0.833333   0.829545  0.833333  0.830369\n",
       "17  run_5       Prompt2  0.933333   0.933333  0.933333  0.933333\n",
       "18  run_5       Prompt3  0.933333   0.939130  0.933333  0.930682\n",
       "19  run_5       Prompt4  0.966667   0.968182  0.966667  0.966074"
      ]
     },
     "execution_count": 9,
     "metadata": {},
     "output_type": "execute_result"
    }
   ],
   "source": [
    "df = pd.read_csv(\"output/anes2020_pilot_prompt_probing.csv\")\n",
    "df_scores = compute_scores(df, df_dem, df_repub)\n",
    "df_scores"
   ]
  },
  {
   "cell_type": "code",
   "execution_count": 10,
   "id": "200fb627-57f4-4d73-a375-bb87e95923c2",
   "metadata": {},
   "outputs": [
    {
     "data": {
      "text/plain": [
       "array([25., 23.,  7., 29., 13.,  8., 26., 24., 19.,  4., 12., 28., 15.,\n",
       "       10., 17., 21., 30., 11., 18.,  2.,  3.,  6., 22., 14.,  5., 20.,\n",
       "        1., 16., 27.,  9.])"
      ]
     },
     "execution_count": 10,
     "metadata": {},
     "output_type": "execute_result"
    }
   ],
   "source": [
    "# extract gold ranks\n",
    "df_politician_results = df_politician_results.sort_values(by=[\"pid\"])\n",
    "gold_dem_rank = df_politician_results['Democrat'].rank().values\n",
    "gold_repub_rank = df_politician_results['Republican'].rank().values\n",
    "gold_repub_rank\n",
    "\n",
    "from scipy import stats\n",
    "def extract_ranking(df_):\n",
    "    df_ = df_.sort_values(by=['question'])\n",
    "    return df_[df_.prompt_format == \"Prompt4\"].groupby(['question']).group_sentiment.mean().rank().values\n",
    "\n",
    "dem_rank = extract_ranking(df_dem)\n",
    "repub_rank = extract_ranking(df_repub)\n",
    "\n",
    "gold_dem_rank"
   ]
  },
  {
   "cell_type": "code",
   "execution_count": 11,
   "id": "c69f6bc3-b8d2-44ad-9aab-222653191c69",
   "metadata": {},
   "outputs": [
    {
     "data": {
      "text/html": [
       "<div>\n",
       "<style scoped>\n",
       "    .dataframe tbody tr th:only-of-type {\n",
       "        vertical-align: middle;\n",
       "    }\n",
       "\n",
       "    .dataframe tbody tr th {\n",
       "        vertical-align: top;\n",
       "    }\n",
       "\n",
       "    .dataframe thead th {\n",
       "        text-align: right;\n",
       "    }\n",
       "</style>\n",
       "<table border=\"1\" class=\"dataframe\">\n",
       "  <thead>\n",
       "    <tr style=\"text-align: right;\">\n",
       "      <th></th>\n",
       "      <th>Unnamed: 0</th>\n",
       "      <th>model_name</th>\n",
       "      <th>run</th>\n",
       "      <th>prompt_format</th>\n",
       "      <th>question</th>\n",
       "      <th>group_sentiment</th>\n",
       "      <th>Democrat</th>\n",
       "      <th>Republican</th>\n",
       "      <th>is_repub_leading</th>\n",
       "      <th>Prompt1</th>\n",
       "      <th>Prompt2</th>\n",
       "      <th>Prompt3</th>\n",
       "      <th>Prompt4</th>\n",
       "      <th>pid</th>\n",
       "      <th>diff</th>\n",
       "      <th>short_name</th>\n",
       "      <th>group_avg_sentiment</th>\n",
       "    </tr>\n",
       "  </thead>\n",
       "  <tbody>\n",
       "    <tr>\n",
       "      <th>0</th>\n",
       "      <td>92</td>\n",
       "      <td>CommunityLM_democrat-twitter-gpt2</td>\n",
       "      <td>run_1</td>\n",
       "      <td>Prompt4</td>\n",
       "      <td>ftbiden1</td>\n",
       "      <td>62.30</td>\n",
       "      <td>66.497423</td>\n",
       "      <td>24.401235</td>\n",
       "      <td>False</td>\n",
       "      <td>Joe Biden</td>\n",
       "      <td>Joe Biden is</td>\n",
       "      <td>Joe Biden is a</td>\n",
       "      <td>Joe Biden is the</td>\n",
       "      <td>ftbiden1</td>\n",
       "      <td>42.096188</td>\n",
       "      <td>Biden</td>\n",
       "      <td>62.17</td>\n",
       "    </tr>\n",
       "    <tr>\n",
       "      <th>1</th>\n",
       "      <td>212</td>\n",
       "      <td>CommunityLM_democrat-twitter-gpt2</td>\n",
       "      <td>run_2</td>\n",
       "      <td>Prompt4</td>\n",
       "      <td>ftbiden1</td>\n",
       "      <td>62.95</td>\n",
       "      <td>66.497423</td>\n",
       "      <td>24.401235</td>\n",
       "      <td>False</td>\n",
       "      <td>Joe Biden</td>\n",
       "      <td>Joe Biden is</td>\n",
       "      <td>Joe Biden is a</td>\n",
       "      <td>Joe Biden is the</td>\n",
       "      <td>ftbiden1</td>\n",
       "      <td>42.096188</td>\n",
       "      <td>Biden</td>\n",
       "      <td>62.17</td>\n",
       "    </tr>\n",
       "    <tr>\n",
       "      <th>2</th>\n",
       "      <td>332</td>\n",
       "      <td>CommunityLM_democrat-twitter-gpt2</td>\n",
       "      <td>run_3</td>\n",
       "      <td>Prompt4</td>\n",
       "      <td>ftbiden1</td>\n",
       "      <td>61.00</td>\n",
       "      <td>66.497423</td>\n",
       "      <td>24.401235</td>\n",
       "      <td>False</td>\n",
       "      <td>Joe Biden</td>\n",
       "      <td>Joe Biden is</td>\n",
       "      <td>Joe Biden is a</td>\n",
       "      <td>Joe Biden is the</td>\n",
       "      <td>ftbiden1</td>\n",
       "      <td>42.096188</td>\n",
       "      <td>Biden</td>\n",
       "      <td>62.17</td>\n",
       "    </tr>\n",
       "    <tr>\n",
       "      <th>3</th>\n",
       "      <td>452</td>\n",
       "      <td>CommunityLM_democrat-twitter-gpt2</td>\n",
       "      <td>run_4</td>\n",
       "      <td>Prompt4</td>\n",
       "      <td>ftbiden1</td>\n",
       "      <td>61.40</td>\n",
       "      <td>66.497423</td>\n",
       "      <td>24.401235</td>\n",
       "      <td>False</td>\n",
       "      <td>Joe Biden</td>\n",
       "      <td>Joe Biden is</td>\n",
       "      <td>Joe Biden is a</td>\n",
       "      <td>Joe Biden is the</td>\n",
       "      <td>ftbiden1</td>\n",
       "      <td>42.096188</td>\n",
       "      <td>Biden</td>\n",
       "      <td>62.17</td>\n",
       "    </tr>\n",
       "    <tr>\n",
       "      <th>4</th>\n",
       "      <td>572</td>\n",
       "      <td>CommunityLM_democrat-twitter-gpt2</td>\n",
       "      <td>run_5</td>\n",
       "      <td>Prompt4</td>\n",
       "      <td>ftbiden1</td>\n",
       "      <td>63.20</td>\n",
       "      <td>66.497423</td>\n",
       "      <td>24.401235</td>\n",
       "      <td>False</td>\n",
       "      <td>Joe Biden</td>\n",
       "      <td>Joe Biden is</td>\n",
       "      <td>Joe Biden is a</td>\n",
       "      <td>Joe Biden is the</td>\n",
       "      <td>ftbiden1</td>\n",
       "      <td>42.096188</td>\n",
       "      <td>Biden</td>\n",
       "      <td>62.17</td>\n",
       "    </tr>\n",
       "    <tr>\n",
       "      <th>...</th>\n",
       "      <td>...</td>\n",
       "      <td>...</td>\n",
       "      <td>...</td>\n",
       "      <td>...</td>\n",
       "      <td>...</td>\n",
       "      <td>...</td>\n",
       "      <td>...</td>\n",
       "      <td>...</td>\n",
       "      <td>...</td>\n",
       "      <td>...</td>\n",
       "      <td>...</td>\n",
       "      <td>...</td>\n",
       "      <td>...</td>\n",
       "      <td>...</td>\n",
       "      <td>...</td>\n",
       "      <td>...</td>\n",
       "      <td>...</td>\n",
       "    </tr>\n",
       "    <tr>\n",
       "      <th>75</th>\n",
       "      <td>99</td>\n",
       "      <td>CommunityLM_democrat-twitter-gpt2</td>\n",
       "      <td>run_1</td>\n",
       "      <td>Prompt4</td>\n",
       "      <td>ftyang1</td>\n",
       "      <td>81.80</td>\n",
       "      <td>49.279133</td>\n",
       "      <td>29.191176</td>\n",
       "      <td>False</td>\n",
       "      <td>Andrew Yang</td>\n",
       "      <td>Andrew Yang is</td>\n",
       "      <td>Andrew Yang is a</td>\n",
       "      <td>Andrew Yang is the</td>\n",
       "      <td>ftyang1</td>\n",
       "      <td>20.087956</td>\n",
       "      <td>Yang</td>\n",
       "      <td>82.07</td>\n",
       "    </tr>\n",
       "    <tr>\n",
       "      <th>76</th>\n",
       "      <td>219</td>\n",
       "      <td>CommunityLM_democrat-twitter-gpt2</td>\n",
       "      <td>run_2</td>\n",
       "      <td>Prompt4</td>\n",
       "      <td>ftyang1</td>\n",
       "      <td>81.45</td>\n",
       "      <td>49.279133</td>\n",
       "      <td>29.191176</td>\n",
       "      <td>False</td>\n",
       "      <td>Andrew Yang</td>\n",
       "      <td>Andrew Yang is</td>\n",
       "      <td>Andrew Yang is a</td>\n",
       "      <td>Andrew Yang is the</td>\n",
       "      <td>ftyang1</td>\n",
       "      <td>20.087956</td>\n",
       "      <td>Yang</td>\n",
       "      <td>82.07</td>\n",
       "    </tr>\n",
       "    <tr>\n",
       "      <th>77</th>\n",
       "      <td>339</td>\n",
       "      <td>CommunityLM_democrat-twitter-gpt2</td>\n",
       "      <td>run_3</td>\n",
       "      <td>Prompt4</td>\n",
       "      <td>ftyang1</td>\n",
       "      <td>81.60</td>\n",
       "      <td>49.279133</td>\n",
       "      <td>29.191176</td>\n",
       "      <td>False</td>\n",
       "      <td>Andrew Yang</td>\n",
       "      <td>Andrew Yang is</td>\n",
       "      <td>Andrew Yang is a</td>\n",
       "      <td>Andrew Yang is the</td>\n",
       "      <td>ftyang1</td>\n",
       "      <td>20.087956</td>\n",
       "      <td>Yang</td>\n",
       "      <td>82.07</td>\n",
       "    </tr>\n",
       "    <tr>\n",
       "      <th>78</th>\n",
       "      <td>459</td>\n",
       "      <td>CommunityLM_democrat-twitter-gpt2</td>\n",
       "      <td>run_4</td>\n",
       "      <td>Prompt4</td>\n",
       "      <td>ftyang1</td>\n",
       "      <td>83.75</td>\n",
       "      <td>49.279133</td>\n",
       "      <td>29.191176</td>\n",
       "      <td>False</td>\n",
       "      <td>Andrew Yang</td>\n",
       "      <td>Andrew Yang is</td>\n",
       "      <td>Andrew Yang is a</td>\n",
       "      <td>Andrew Yang is the</td>\n",
       "      <td>ftyang1</td>\n",
       "      <td>20.087956</td>\n",
       "      <td>Yang</td>\n",
       "      <td>82.07</td>\n",
       "    </tr>\n",
       "    <tr>\n",
       "      <th>79</th>\n",
       "      <td>579</td>\n",
       "      <td>CommunityLM_democrat-twitter-gpt2</td>\n",
       "      <td>run_5</td>\n",
       "      <td>Prompt4</td>\n",
       "      <td>ftyang1</td>\n",
       "      <td>81.75</td>\n",
       "      <td>49.279133</td>\n",
       "      <td>29.191176</td>\n",
       "      <td>False</td>\n",
       "      <td>Andrew Yang</td>\n",
       "      <td>Andrew Yang is</td>\n",
       "      <td>Andrew Yang is a</td>\n",
       "      <td>Andrew Yang is the</td>\n",
       "      <td>ftyang1</td>\n",
       "      <td>20.087956</td>\n",
       "      <td>Yang</td>\n",
       "      <td>82.07</td>\n",
       "    </tr>\n",
       "  </tbody>\n",
       "</table>\n",
       "<p>80 rows × 17 columns</p>\n",
       "</div>"
      ],
      "text/plain": [
       "    Unnamed: 0                         model_name    run prompt_format  \\\n",
       "0           92  CommunityLM_democrat-twitter-gpt2  run_1       Prompt4   \n",
       "1          212  CommunityLM_democrat-twitter-gpt2  run_2       Prompt4   \n",
       "2          332  CommunityLM_democrat-twitter-gpt2  run_3       Prompt4   \n",
       "3          452  CommunityLM_democrat-twitter-gpt2  run_4       Prompt4   \n",
       "4          572  CommunityLM_democrat-twitter-gpt2  run_5       Prompt4   \n",
       "..         ...                                ...    ...           ...   \n",
       "75          99  CommunityLM_democrat-twitter-gpt2  run_1       Prompt4   \n",
       "76         219  CommunityLM_democrat-twitter-gpt2  run_2       Prompt4   \n",
       "77         339  CommunityLM_democrat-twitter-gpt2  run_3       Prompt4   \n",
       "78         459  CommunityLM_democrat-twitter-gpt2  run_4       Prompt4   \n",
       "79         579  CommunityLM_democrat-twitter-gpt2  run_5       Prompt4   \n",
       "\n",
       "    question  group_sentiment   Democrat  Republican  is_repub_leading  \\\n",
       "0   ftbiden1            62.30  66.497423   24.401235             False   \n",
       "1   ftbiden1            62.95  66.497423   24.401235             False   \n",
       "2   ftbiden1            61.00  66.497423   24.401235             False   \n",
       "3   ftbiden1            61.40  66.497423   24.401235             False   \n",
       "4   ftbiden1            63.20  66.497423   24.401235             False   \n",
       "..       ...              ...        ...         ...               ...   \n",
       "75   ftyang1            81.80  49.279133   29.191176             False   \n",
       "76   ftyang1            81.45  49.279133   29.191176             False   \n",
       "77   ftyang1            81.60  49.279133   29.191176             False   \n",
       "78   ftyang1            83.75  49.279133   29.191176             False   \n",
       "79   ftyang1            81.75  49.279133   29.191176             False   \n",
       "\n",
       "        Prompt1         Prompt2           Prompt3             Prompt4  \\\n",
       "0     Joe Biden    Joe Biden is    Joe Biden is a    Joe Biden is the   \n",
       "1     Joe Biden    Joe Biden is    Joe Biden is a    Joe Biden is the   \n",
       "2     Joe Biden    Joe Biden is    Joe Biden is a    Joe Biden is the   \n",
       "3     Joe Biden    Joe Biden is    Joe Biden is a    Joe Biden is the   \n",
       "4     Joe Biden    Joe Biden is    Joe Biden is a    Joe Biden is the   \n",
       "..          ...             ...               ...                 ...   \n",
       "75  Andrew Yang  Andrew Yang is  Andrew Yang is a  Andrew Yang is the   \n",
       "76  Andrew Yang  Andrew Yang is  Andrew Yang is a  Andrew Yang is the   \n",
       "77  Andrew Yang  Andrew Yang is  Andrew Yang is a  Andrew Yang is the   \n",
       "78  Andrew Yang  Andrew Yang is  Andrew Yang is a  Andrew Yang is the   \n",
       "79  Andrew Yang  Andrew Yang is  Andrew Yang is a  Andrew Yang is the   \n",
       "\n",
       "         pid       diff short_name  group_avg_sentiment  \n",
       "0   ftbiden1  42.096188      Biden                62.17  \n",
       "1   ftbiden1  42.096188      Biden                62.17  \n",
       "2   ftbiden1  42.096188      Biden                62.17  \n",
       "3   ftbiden1  42.096188      Biden                62.17  \n",
       "4   ftbiden1  42.096188      Biden                62.17  \n",
       "..       ...        ...        ...                  ...  \n",
       "75   ftyang1  20.087956       Yang                82.07  \n",
       "76   ftyang1  20.087956       Yang                82.07  \n",
       "77   ftyang1  20.087956       Yang                82.07  \n",
       "78   ftyang1  20.087956       Yang                82.07  \n",
       "79   ftyang1  20.087956       Yang                82.07  \n",
       "\n",
       "[80 rows x 17 columns]"
      ]
     },
     "execution_count": 11,
     "metadata": {},
     "output_type": "execute_result"
    }
   ],
   "source": [
    "## plot the rankings\n",
    "\n",
    "def extract_ranking_for_politicians(df_):\n",
    "    df_ = df_[df_.question.isin(politician_feelings)]\n",
    "    df_ = df_.sort_values(by=['question', 'run'])\n",
    "    return df_[df_.prompt_format == \"Prompt4\"]\n",
    "\n",
    "df_politician_results = df_politician_results[df_politician_results.pid.isin(politician_feelings)].sort_values(by=['pid'])\n",
    "df_politician_results['short_name'] = df_politician_results.Prompt1.apply(lambda x: x.split(\" \")[-1])\n",
    "\n",
    "dem_politician_rank = extract_ranking_for_politicians(df_dem)\n",
    "df_avg = dem_politician_rank.groupby(\"question\").group_sentiment.mean().reset_index()\n",
    "df_avg['group_avg_sentiment'] = df_avg['group_sentiment']\n",
    "del df_avg[\"group_sentiment\"]\n",
    "dem_politician_rank = dem_politician_rank.merge(df_politician_results, left_on=\"question\", right_on=\"pid\")\n",
    "dem_politician_rank = dem_politician_rank.merge(df_avg, on=\"question\")\n",
    "\n",
    "\n",
    "repub_politician_rank = extract_ranking_for_politicians(df_repub)\n",
    "df_avg = repub_politician_rank.groupby(\"question\").group_sentiment.mean().reset_index()\n",
    "df_avg['group_avg_sentiment'] = df_avg['group_sentiment']\n",
    "del df_avg[\"group_sentiment\"]\n",
    "repub_politician_rank = repub_politician_rank.merge(df_politician_results, left_on=\"question\", right_on=\"pid\")\n",
    "repub_politician_rank = repub_politician_rank.merge(df_avg, on=\"question\")\n",
    "\n",
    "\n",
    "dem_politician_rank"
   ]
  },
  {
   "cell_type": "code",
   "execution_count": 12,
   "id": "015bb056-a742-49a1-97a7-dda18d203ac8",
   "metadata": {},
   "outputs": [
    {
     "name": "stderr",
     "output_type": "stream",
     "text": [
      "/tmp/ipykernel_552484/337939149.py:12: FutureWarning: \n",
      "\n",
      "The `ci` parameter is deprecated. Use `errorbar=('ci', 90)` for the same effect.\n",
      "\n",
      "  ax = sns.barplot(data=dem_politician_rank.sort_values(by=\"group_avg_sentiment\", ascending=False), x=\"group_sentiment\", y=\"short_name\", palette=palette, estimator=np.mean, ci=90)\n",
      "/tmp/ipykernel_552484/337939149.py:12: FutureWarning: \n",
      "\n",
      "Passing `palette` without assigning `hue` is deprecated and will be removed in v0.14.0. Assign the `y` variable to `hue` and set `legend=False` for the same effect.\n",
      "\n",
      "  ax = sns.barplot(data=dem_politician_rank.sort_values(by=\"group_avg_sentiment\", ascending=False), x=\"group_sentiment\", y=\"short_name\", palette=palette, estimator=np.mean, ci=90)\n",
      "/tmp/ipykernel_552484/337939149.py:12: UserWarning: The palette list has more values (20) than needed (16), which may not be intended.\n",
      "  ax = sns.barplot(data=dem_politician_rank.sort_values(by=\"group_avg_sentiment\", ascending=False), x=\"group_sentiment\", y=\"short_name\", palette=palette, estimator=np.mean, ci=90)\n"
     ]
    },
    {
     "data": {
      "image/png": "[encoded data removed]",
      "text/plain": [
       "<Figure size 500x500 with 1 Axes>"
      ]
     },
     "metadata": {},
     "output_type": "display_data"
    }
   ],
   "source": [
    "# df_politician_results.to_csv(\"rank_plots.csv\")\n",
    "import pandas as pd\n",
    "import numpy as np\n",
    "import matplotlib.pyplot as plt\n",
    "import seaborn as sns\n",
    "\n",
    "sns.set(rc={'figure.figsize':(5,5)})\n",
    "\n",
    "palette = sns.color_palette(\"Blues\",n_colors=20)\n",
    "palette.reverse()\n",
    "\n",
    "ax = sns.barplot(data=dem_politician_rank.sort_values(by=\"group_avg_sentiment\", ascending=False), x=\"group_sentiment\", y=\"short_name\", palette=palette, estimator=np.mean, ci=90)\n",
    "\n",
    "ax.set_xlabel(None, fontsize=15)\n",
    "ax.set_ylabel(None)\n",
    "plt.tick_params(axis='both', which='major', labelsize=14)\n",
    "plt.tight_layout()\n",
    "plt.savefig('rankings/finetuned_gpt2_pred_dem_rank.png', bbox_inches = \"tight\")"
   ]
  },
  {
   "cell_type": "code",
   "execution_count": 13,
   "id": "ea3b9c6c-a2e1-43b4-8463-caaff9653fa9",
   "metadata": {},
   "outputs": [
    {
     "name": "stderr",
     "output_type": "stream",
     "text": [
      "/tmp/ipykernel_552484/3930159039.py:6: FutureWarning: \n",
      "\n",
      "Passing `palette` without assigning `hue` is deprecated and will be removed in v0.14.0. Assign the `y` variable to `hue` and set `legend=False` for the same effect.\n",
      "\n",
      "  ax = sns.barplot(data=dem_politician_rank.sort_values(by=\"Democrat\", ascending=False), x=\"Democrat\", y=\"short_name\", palette=palette)\n",
      "/tmp/ipykernel_552484/3930159039.py:6: UserWarning: The palette list has more values (20) than needed (16), which may not be intended.\n",
      "  ax = sns.barplot(data=dem_politician_rank.sort_values(by=\"Democrat\", ascending=False), x=\"Democrat\", y=\"short_name\", palette=palette)\n"
     ]
    },
    {
     "data": {
      "image/png": "[encoded data removed]",
      "text/plain": [
       "<Figure size 500x500 with 1 Axes>"
      ]
     },
     "metadata": {},
     "output_type": "display_data"
    }
   ],
   "source": [
    "sns.set(rc={'figure.figsize':(5,5)})\n",
    "\n",
    "palette = sns.color_palette(\"Blues\",n_colors=20)\n",
    "palette.reverse()\n",
    "\n",
    "ax = sns.barplot(data=dem_politician_rank.sort_values(by=\"Democrat\", ascending=False), x=\"Democrat\", y=\"short_name\", palette=palette)\n",
    "\n",
    "ax.set_xlabel(None, fontsize=15)\n",
    "ax.set_ylabel(None)\n",
    "plt.tick_params(axis='both', which='major', labelsize=14)\n",
    "plt.tight_layout()\n",
    "plt.savefig('rankings/gold_dem_rank.png', bbox_inches = \"tight\")"
   ]
  },
  {
   "cell_type": "code",
   "execution_count": 14,
   "id": "2bc980b7-aa69-4cbe-8778-f57b463fc909",
   "metadata": {},
   "outputs": [
    {
     "name": "stderr",
     "output_type": "stream",
     "text": [
      "/tmp/ipykernel_552484/1423692872.py:4: FutureWarning: \n",
      "\n",
      "Passing `palette` without assigning `hue` is deprecated and will be removed in v0.14.0. Assign the `y` variable to `hue` and set `legend=False` for the same effect.\n",
      "\n",
      "  ax = sns.barplot(data=repub_politician_rank.sort_values(by=\"group_avg_sentiment\", ascending=False), x=\"group_sentiment\", y=\"short_name\", palette=palette)\n",
      "/tmp/ipykernel_552484/1423692872.py:4: UserWarning: The palette list has more values (20) than needed (16), which may not be intended.\n",
      "  ax = sns.barplot(data=repub_politician_rank.sort_values(by=\"group_avg_sentiment\", ascending=False), x=\"group_sentiment\", y=\"short_name\", palette=palette)\n"
     ]
    },
    {
     "data": {
      "image/png": "[encoded data removed]",
      "text/plain": [
       "<Figure size 500x500 with 1 Axes>"
      ]
     },
     "metadata": {},
     "output_type": "display_data"
    }
   ],
   "source": [
    "palette = sns.color_palette(\"Reds\", n_colors=20)\n",
    "palette.reverse()\n",
    "\n",
    "ax = sns.barplot(data=repub_politician_rank.sort_values(by=\"group_avg_sentiment\", ascending=False), x=\"group_sentiment\", y=\"short_name\", palette=palette)\n",
    "\n",
    "ax.set_xlabel(None, fontsize=15)\n",
    "ax.set_ylabel(None)\n",
    "plt.tick_params(axis='both', which='major', labelsize=14)\n",
    "plt.tight_layout()\n",
    "plt.savefig('rankings/finetuned_gpt2_pred_repub_rank.png', bbox_inches = \"tight\")"
   ]
  },
  {
   "cell_type": "code",
   "execution_count": 15,
   "id": "6c1dd3c2-dda4-482e-99b6-6ef4316155ea",
   "metadata": {},
   "outputs": [
    {
     "name": "stderr",
     "output_type": "stream",
     "text": [
      "/tmp/ipykernel_552484/2880239842.py:4: FutureWarning: \n",
      "\n",
      "Passing `palette` without assigning `hue` is deprecated and will be removed in v0.14.0. Assign the `y` variable to `hue` and set `legend=False` for the same effect.\n",
      "\n",
      "  ax = sns.barplot(data=repub_politician_rank.sort_values(by=\"Republican\", ascending=False), x=\"Republican\", y=\"short_name\", palette=palette)\n",
      "/tmp/ipykernel_552484/2880239842.py:4: UserWarning: The palette list has more values (20) than needed (16), which may not be intended.\n",
      "  ax = sns.barplot(data=repub_politician_rank.sort_values(by=\"Republican\", ascending=False), x=\"Republican\", y=\"short_name\", palette=palette)\n"
     ]
    },
    {
     "data": {
      "image/png": "[encoded data removed]",
      "text/plain": [
       "<Figure size 500x500 with 1 Axes>"
      ]
     },
     "metadata": {},
     "output_type": "display_data"
    }
   ],
   "source": [
    "palette = sns.color_palette(\"Reds\", n_colors=20)\n",
    "palette.reverse()\n",
    "\n",
    "ax = sns.barplot(data=repub_politician_rank.sort_values(by=\"Republican\", ascending=False), x=\"Republican\", y=\"short_name\", palette=palette)\n",
    "\n",
    "ax.set_xlabel(None, fontsize=15)\n",
    "ax.set_ylabel(None)\n",
    "plt.tick_params(axis='both', which='major', labelsize=14)\n",
    "plt.tight_layout()\n",
    "plt.savefig('rankings/gold_repub_rank.png', bbox_inches = \"tight\")"
   ]
  },
  {
   "cell_type": "code",
   "execution_count": null,
   "id": "94f4dfbf",
   "metadata": {},
   "outputs": [],
   "source": []
  }
 ],
 "metadata": {
  "kernelspec": {
   "display_name": "capstone",
   "language": "python",
   "name": "python3"
  },
  "language_info": {
   "codemirror_mode": {
    "name": "ipython",
    "version": 3
   },
   "file_extension": ".py",
   "mimetype": "text/x-python",
   "name": "python",
   "nbconvert_exporter": "python",
   "pygments_lexer": "ipython3",
   "version": "3.10.15"
  }
 },
 "nbformat": 4,
 "nbformat_minor": 5
}
