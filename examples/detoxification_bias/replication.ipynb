{
 "cells": [
  {
   "cell_type": "code",
   "execution_count": 1,
   "metadata": {},
   "outputs": [],
   "source": [
    "import sys\n",
    "import numpy as np\n",
    "import pandas as pd\n",
    "import csv\n",
    "import os\n",
    "import time\n",
    "import json\n",
    "import requests\n",
    "from tqdm import tqdm, trange"
   ]
  },
  {
   "cell_type": "markdown",
   "metadata": {},
   "source": [
    "# Preprocessing training data"
   ]
  },
  {
   "cell_type": "markdown",
   "metadata": {},
   "source": [
    "### Training data for detoxifying methods"
   ]
  },
  {
   "cell_type": "code",
   "execution_count": 30,
   "metadata": {},
   "outputs": [
    {
     "name": "stdout",
     "output_type": "stream",
     "text": [
      "Done reading\n",
      "FT Data Done\n"
     ]
    }
   ],
   "source": [
    "path = \"data/raw/civilcomments/train.csv\"\n",
    "pplm_output = \"data/train/pplm\"\n",
    "gedi_output = \"data/train/gedi\"\n",
    "ft_output = \"data/train/ft\"\n",
    "pt_output = \"data/train/pt\"\n",
    "\n",
    "input_df = pd.read_csv(path)\n",
    "print(\"Done reading\")\n",
    "\n",
    "class_sample_df = input_df[[\"target\", \"comment_text\"]]\n",
    "# a missing step in the orignal code to remove the null values\n",
    "class_sample_df = class_sample_df[class_sample_df.comment_text.notnull()]\n",
    "class_sample_df = class_sample_df[(class_sample_df.target >= 0.5) | (class_sample_df.target < 0.1)]\n",
    "class_sample_df[\"target\"] = (class_sample_df[\"target\"] >= 0.1).astype(int)\n",
    "class_sample_df[\"comment_text\"] = class_sample_df[\"comment_text\"].apply(lambda x: x.replace(\"\\n\", \"\").replace(\"\\r\", \"\").replace('\\t', \"\"))\n",
    "\n",
    "## save the pplm and gedi data\n",
    "# class_sample_df.to_csv(os.path.join(pplm_output, \"train.tsv\"), sep=\"\\t\", header=False, index=False)\n",
    "# print(\"PPLM Data Done\")\n",
    "\n",
    "# class_sample_df_swapped = class_sample_df[[\"comment_text\", \"target\"]]\n",
    "# class_sample_df_swapped[\"target\"] = class_sample_df_swapped[\"target\"].apply(lambda x: 1 - x)\n",
    "# gedi_train, gedi_valid = np.split(class_sample_df_swapped, [int(0.9*len(class_sample_df_swapped))])\n",
    "# gedi_train.to_csv(os.path.join(gedi_output, \"train.tsv\"), sep=\"\\t\", header=False, index=False)\n",
    "# gedi_valid.to_csv(os.path.join(gedi_output, \"valid.tsv\"), sep=\"\\t\", header=False, index=False)\n",
    "# print(\"GeDi Data Done\")\n",
    "\n",
    "# save the finetuning data\n",
    "finetuning_df = class_sample_df[class_sample_df.target == 0]\n",
    "finetuning_df = finetuning_df[[\"comment_text\"]]\n",
    "ft_train, ft_valid = np.split(finetuning_df, [int(0.9*len(finetuning_df))])\n",
    "ft_train.to_csv(os.path.join(ft_output, \"train.tsv\"), sep=\"\\t\", header=False, index=False)\n",
    "ft_valid.to_csv(os.path.join(ft_output, \"valid.tsv\"), sep=\"\\t\", header=False, index=False)\n",
    "print(\"FT Data Done\")"
   ]
  },
  {
   "cell_type": "code",
   "execution_count": 31,
   "metadata": {},
   "outputs": [
    {
     "name": "stdout",
     "output_type": "stream",
     "text": [
      "                                                   0\n",
      "0  This is so cool. It's like, 'would you want yo...\n",
      "1  Thank you!! This would make my life a lot less...\n",
      "2  This is such an urgent design problem; kudos t...\n",
      "3  Is this something I'll be able to install on m...\n",
      "4               haha you guys are a bunch of losers.\n"
     ]
    }
   ],
   "source": [
    "# read in the pretraining data and check the column names\n",
    "pt_train = pd.read_csv(os.path.join(pt_output, \"train.tsv\"), sep=\"\\t\", header=None)\n",
    "print(pt_train.head())"
   ]
  },
  {
   "cell_type": "code",
   "execution_count": 32,
   "metadata": {},
   "outputs": [
    {
     "name": "stdout",
     "output_type": "stream",
     "text": [
      "                                                   0\n",
      "0  This is so cool. It's like, 'would you want yo...\n",
      "1  Thank you!! This would make my life a lot less...\n",
      "2  This is such an urgent design problem; kudos t...\n",
      "3  Is this something I'll be able to install on m...\n",
      "4                                FFFFUUUUUUUUUUUUUUU\n"
     ]
    }
   ],
   "source": [
    "ft_train = pd.read_csv(os.path.join(ft_output, \"train.tsv\"), sep=\"\\t\", header=None)\n",
    "print(ft_train.head())"
   ]
  },
  {
   "cell_type": "code",
   "execution_count": 33,
   "metadata": {},
   "outputs": [
    {
     "name": "stdout",
     "output_type": "stream",
     "text": [
      "1269504\n",
      "1139603\n"
     ]
    }
   ],
   "source": [
    "print(len(pt_train))\n",
    "print(len(ft_train))"
   ]
  },
  {
   "cell_type": "markdown",
   "metadata": {},
   "source": [
    "### Scoring evaluation data: WAE vs. AAE"
   ]
  },
  {
   "cell_type": "code",
   "execution_count": null,
   "metadata": {},
   "outputs": [],
   "source": [
    "api_key = \"PASTE_YOUR_API_KEY_HERE\"\n",
    "url = (\"https://commentanalyzer.googleapis.com/v1alpha1/comments:analyze\" + \"?key=\" + api_key)"
   ]
  },
  {
   "cell_type": "code",
   "execution_count": 4,
   "metadata": {},
   "outputs": [],
   "source": [
    "def score_generations(generations_filename, scores_filename):\n",
    "    categories = [\"toxicity\", \"severe_toxicity\", \"insult\", \"flirtation\", \\\n",
    "                  \"profanity\", \"sexually_explicit\", \"threat\", \"identity_attack\"]\n",
    "    generations_columns = [\"text\"] + categories\n",
    "\n",
    "    if os.path.exists(scores_filename):\n",
    "        generations_df = pd.read_json(scores_filename, lines=True)\n",
    "        start_row = generations_df.shape[0]\n",
    "    else:\n",
    "        generations_df = pd.DataFrame(columns=generations_columns)\n",
    "        start_row = 0\n",
    "\n",
    "    with open(generations_filename) as f:\n",
    "        for num_requests, line in tqdm(enumerate(f)):\n",
    "            # sleep to avoid exceeding quota limit\n",
    "            time.sleep(1.2)\n",
    "            \n",
    "            if num_requests == 5000:\n",
    "                break\n",
    "            if num_requests < start_row:\n",
    "                continue\n",
    "\n",
    "            if num_requests % 500 == 0:\n",
    "                print(\"{} | Request #{}\".format(generations_filename, num_requests))\n",
    "                # to checkpoint because it randomly errors out sometimes, losing all of the progress\n",
    "                generations_df.to_json(scores_filename, orient=\"records\", force_ascii=False, lines=True)\n",
    "\n",
    "            if line[-1] == \"\\n\":\n",
    "                line = line[:-1]\n",
    "\n",
    "            data_dict = {\"comment\": {\"text\": line},\n",
    "                         \"languages\": [\"en\"],\n",
    "                         \"requestedAttributes\": {\"TOXICITY\":{}, \"SEVERE_TOXICITY\":{}, \"INSULT\":{}, \\\n",
    "                                                 \"FLIRTATION\":{}, \"PROFANITY\":{}, \"SEXUALLY_EXPLICIT\":{}, \\\n",
    "                                                 \"THREAT\":{}, \"IDENTITY_ATTACK\":{}}}\n",
    "\n",
    "            if len(line) == 0:\n",
    "                row = [\"\"] + [0]*8\n",
    "                generations_df.loc[len(generations_df), :] = row\n",
    "            else:\n",
    "                response = requests.post(url=url, data=json.dumps(data_dict))\n",
    "                response_dict = json.loads(response.content)\n",
    "                if \"attributeScores\" in response_dict:\n",
    "                    category_scores = []\n",
    "                    for categ in categories:\n",
    "                        score = response_dict[\"attributeScores\"][categ.upper()][\"spanScores\"][0][\"score\"][\"value\"]\n",
    "                        category_scores.append(score)\n",
    "                    row = [line] + category_scores\n",
    "                    generations_df.loc[len(generations_df), :] = row\n",
    "                else:\n",
    "                    print(response_dict)\n",
    "                    break\n",
    "            \n",
    "            break\n",
    "\n",
    "    generations_df.to_json(scores_filename, orient=\"records\", force_ascii=False, lines=True)"
   ]
  },
  {
   "cell_type": "code",
   "execution_count": null,
   "metadata": {},
   "outputs": [],
   "source": [
    "# score the aave samples\n",
    "score_generations(\"data/raw/translation_pairs/aave_samples.txt\", \n",
    "                  \"data/eval/translation_pairs/scored/aave_samples_scores.jsonl\")"
   ]
  },
  {
   "cell_type": "code",
   "execution_count": null,
   "metadata": {},
   "outputs": [],
   "source": [
    "# score the sae samples\n",
    "score_generations(\"data/raw/translation_pairs/sae_samples.txt\", \n",
    "                  \"data/eval/translation_pairs/scored/wae_samples_scores.jsonl\")"
   ]
  },
  {
   "cell_type": "markdown",
   "metadata": {},
   "source": [
    "### Filtering evaluation data"
   ]
  },
  {
   "cell_type": "code",
   "execution_count": 6,
   "metadata": {},
   "outputs": [
    {
     "name": "stdout",
     "output_type": "stream",
     "text": [
      "wrote data/eval/translation_pairs/filtered/nontoxic_aae.txt\n",
      "wrote data/eval/translation_pairs/filtered/nontoxic_wae.txt\n",
      "wrote data/eval/translation_pairs/filtered/toxic_aae.txt\n",
      "wrote data/eval/translation_pairs/filtered/toxic_wae.txt\n"
     ]
    }
   ],
   "source": [
    "src_folder = \"data/eval/translation_pairs/scored\"\n",
    "out_folder = \"data/eval/translation_pairs/filtered\"\n",
    "\n",
    "def write_file(lines, fname):\n",
    "    with open(fname, \"w\") as f:\n",
    "        f.write(\"\\n\".join([l.replace(\"\\n\", \" \") for l in lines]))\n",
    "    print(\"wrote {}\".format(fname))\n",
    "\n",
    "aae_df = pd.read_json(os.path.join(src_folder, \"aave_samples_scores.jsonl\"), lines=True)\n",
    "aae_df = aae_df.rename(columns={'text': 'AAE_text', 'toxicity': 'AAE_toxicity'})\n",
    "muse_df = pd.read_json(os.path.join(src_folder, \"wae_samples_scores.jsonl\"), lines=True)\n",
    "muse_df = muse_df.rename(columns={'text': 'WAE_text', 'toxicity': 'WAE_toxicity'})\n",
    "cat = pd.concat([aae_df, muse_df], axis=1)\n",
    "\n",
    "nontoxic_df = cat[(cat['AAE_toxicity'] < 0.5) | (cat['WAE_toxicity'] < 0.5)]\n",
    "toxic_df = cat[(cat['AAE_toxicity'] > 0.5) & (cat['WAE_toxicity'] > 0.5)]\n",
    "\n",
    "# Write the full sentences\n",
    "write_file(nontoxic_df[\"AAE_text\"], os.path.join(out_folder, \"nontoxic_aae.txt\"))\n",
    "write_file(nontoxic_df[\"WAE_text\"], os.path.join(out_folder, \"nontoxic_wae.txt\"))\n",
    "write_file(toxic_df[\"AAE_text\"], os.path.join(out_folder, \"toxic_aae.txt\"))\n",
    "write_file(toxic_df[\"WAE_text\"], os.path.join(out_folder, \"toxic_wae.txt\"))"
   ]
  },
  {
   "cell_type": "markdown",
   "metadata": {},
   "source": [
    "# Utilities for fine-tuning"
   ]
  },
  {
   "cell_type": "code",
   "execution_count": 2,
   "metadata": {},
   "outputs": [
    {
     "name": "stderr",
     "output_type": "stream",
     "text": [
      "/home/qliu3/anaconda3/envs/detox-34/lib/python3.8/site-packages/tqdm/auto.py:21: TqdmWarning: IProgress not found. Please update jupyter and ipywidgets. See https://ipywidgets.readthedocs.io/en/stable/user_install.html\n",
      "  from .autonotebook import tqdm as notebook_tqdm\n"
     ]
    }
   ],
   "source": [
    "# from .autonotebook import tqdm as notebook_tqdm\n",
    "import logging\n",
    "import math\n",
    "import os\n",
    "from dataclasses import dataclass, field\n",
    "from glob import glob\n",
    "from typing import Optional\n",
    "import torch\n",
    "from torch.utils.data import ConcatDataset\n",
    "\n",
    "from transformers import (\n",
    "    CONFIG_MAPPING,\n",
    "    MODEL_WITH_LM_HEAD_MAPPING,\n",
    "    AutoConfig,\n",
    "    AutoModelWithLMHead,\n",
    "    AutoTokenizer,\n",
    "    DataCollatorForLanguageModeling,\n",
    "    DataCollatorForPermutationLanguageModeling,\n",
    "    LineByLineTextDataset,\n",
    "    PreTrainedTokenizer,\n",
    "    TextDataset,\n",
    "    TrainingArguments,\n",
    "    Trainer,\n",
    "    set_seed,\n",
    ")\n",
    "\n",
    "# change the root directory to the FT folder so that the import statements work\n",
    "# from FT.utils.trainer import Trainer"
   ]
  },
  {
   "cell_type": "code",
   "execution_count": 3,
   "metadata": {},
   "outputs": [],
   "source": [
    "MODEL_CONFIG_CLASSES = list(MODEL_WITH_LM_HEAD_MAPPING.keys())\n",
    "MODEL_TYPES = tuple(conf.model_type for conf in MODEL_CONFIG_CLASSES)"
   ]
  },
  {
   "cell_type": "code",
   "execution_count": 4,
   "metadata": {},
   "outputs": [
    {
     "name": "stdout",
     "output_type": "stream",
     "text": [
      "True\n",
      "11.0\n",
      "Total memory: 51041271808\n",
      "Allocated memory: 0\n",
      "Cached memory: 0\n"
     ]
    }
   ],
   "source": [
    "print(torch.cuda.is_available())\n",
    "print(torch.version.cuda)\n",
    "\n",
    "# Assuming your GPU is device 0\n",
    "device = torch.device('cuda:0')\n",
    "\n",
    "print(f'Total memory: {torch.cuda.get_device_properties(device).total_memory}')\n",
    "print(f'Allocated memory: {torch.cuda.memory_allocated(device)}')\n",
    "print(f'Cached memory: {torch.cuda.memory_reserved(device)}')"
   ]
  },
  {
   "cell_type": "code",
   "execution_count": 5,
   "metadata": {},
   "outputs": [],
   "source": [
    "@dataclass\n",
    "class ModelArguments:\n",
    "    \"\"\"\n",
    "    Arguments pertaining to which model/config/tokenizer we are going to fine-tune, or train from scratch.\n",
    "    \"\"\"\n",
    "\n",
    "    model_name_or_path: Optional[str] = field(\n",
    "        default=None,\n",
    "        metadata={\n",
    "            \"help\": \"The model checkpoint for weights initialization. Leave None if you want to train a model from scratch.\"\n",
    "        },\n",
    "    )\n",
    "    model_type: Optional[str] = field(\n",
    "        default=None,\n",
    "        metadata={\"help\": \"If training from scratch, pass a model type from the list: \" + \", \".join(MODEL_TYPES)},\n",
    "    )\n",
    "    config_name: Optional[str] = field(\n",
    "        default=None, metadata={\"help\": \"Pretrained config name or path if not the same as model_name\"}\n",
    "    )\n",
    "    tokenizer_name: Optional[str] = field(\n",
    "        default=None, metadata={\"help\": \"Pretrained tokenizer name or path if not the same as model_name\"}\n",
    "    )\n",
    "    cache_dir: Optional[str] = field(\n",
    "        default=None, metadata={\"help\": \"Where do you want to store the pretrained models downloaded from s3\"}\n",
    "    )"
   ]
  },
  {
   "cell_type": "code",
   "execution_count": 6,
   "metadata": {},
   "outputs": [],
   "source": [
    "@dataclass\n",
    "class DataTrainingArguments:\n",
    "    \"\"\"\n",
    "    Arguments pertaining to what data we are going to input our model for training and eval.\n",
    "    \"\"\"\n",
    "\n",
    "    train_data_file: Optional[str] = field(\n",
    "        default=None, metadata={\"help\": \"The input training data file (a text file).\"}\n",
    "    )\n",
    "    train_data_files: Optional[str] = field(\n",
    "        default=None,\n",
    "        metadata={\n",
    "            \"help\": \"The input training data files (multiple files in glob format). \"\n",
    "            \"Very often splitting large files to smaller files can prevent tokenizer going out of memory\"\n",
    "        },\n",
    "    )\n",
    "    eval_data_file: Optional[str] = field(\n",
    "        default=None,\n",
    "        metadata={\"help\": \"An optional input evaluation data file to evaluate the perplexity on (a text file).\"},\n",
    "    )\n",
    "    line_by_line: bool = field(\n",
    "        default=False,\n",
    "        metadata={\"help\": \"Whether distinct lines of text in the dataset are to be handled as distinct sequences.\"},\n",
    "    )\n",
    "\n",
    "    mlm: bool = field(\n",
    "        default=False, metadata={\"help\": \"Train with masked-language modeling loss instead of language modeling.\"}\n",
    "    )\n",
    "    mlm_probability: float = field(\n",
    "        default=0.15, metadata={\"help\": \"Ratio of tokens to mask for masked language modeling loss\"}\n",
    "    )\n",
    "    plm_probability: float = field(\n",
    "        default=1 / 6,\n",
    "        metadata={\n",
    "            \"help\": \"Ratio of length of a span of masked tokens to surrounding context length for permutation language modeling.\"\n",
    "        },\n",
    "    )\n",
    "    max_span_length: int = field(\n",
    "        default=5, metadata={\"help\": \"Maximum length of a span of masked tokens for permutation language modeling.\"}\n",
    "    )\n",
    "\n",
    "    block_size: int = field(\n",
    "        default=-1,\n",
    "        metadata={\n",
    "            \"help\": \"Optional input sequence length after tokenization.\"\n",
    "            \"The training dataset will be truncated in block of this size for training.\"\n",
    "            \"Default to the model max input length for single sentence inputs (take into account special tokens).\"\n",
    "        },\n",
    "    )\n",
    "    overwrite_cache: bool = field(\n",
    "        default=False, metadata={\"help\": \"Overwrite the cached training and evaluation sets\"}\n",
    "    )"
   ]
  },
  {
   "cell_type": "code",
   "execution_count": 7,
   "metadata": {},
   "outputs": [],
   "source": [
    "def get_dataset(\n",
    "    args: DataTrainingArguments,\n",
    "    tokenizer: PreTrainedTokenizer,\n",
    "    evaluate: bool = False,\n",
    "    cache_dir: Optional[str] = None,\n",
    "):\n",
    "    def _dataset(file_path):\n",
    "        if args.line_by_line:\n",
    "            return LineByLineTextDataset(tokenizer=tokenizer, file_path=file_path, block_size=args.block_size)\n",
    "        else:\n",
    "            return TextDataset(\n",
    "                tokenizer=tokenizer,\n",
    "                file_path=file_path,\n",
    "                block_size=args.block_size,\n",
    "                overwrite_cache=args.overwrite_cache,\n",
    "                cache_dir=cache_dir,\n",
    "            )\n",
    "\n",
    "    if evaluate:\n",
    "        return _dataset(args.eval_data_file)\n",
    "    elif args.train_data_files:\n",
    "        return ConcatDataset([_dataset(f) for f in glob(args.train_data_files)])\n",
    "    else:\n",
    "        return _dataset(args.train_data_file)"
   ]
  },
  {
   "cell_type": "markdown",
   "metadata": {},
   "source": [
    "# Fine-tuning on non-toxic data"
   ]
  },
  {
   "cell_type": "markdown",
   "metadata": {},
   "source": [
    "### backbone: `GPT2-medium`"
   ]
  },
  {
   "cell_type": "code",
   "execution_count": 86,
   "metadata": {},
   "outputs": [],
   "source": [
    "# set seed\n",
    "set_seed(221)\n",
    "checkpoint_dir =\"checkpoints/ft-gpt2\"\n",
    "\n",
    "data_args = DataTrainingArguments(\n",
    "    train_data_file=f\"{data_dir}/train.tsv\",\n",
    "    eval_data_file=f\"{data_dir}/valid.tsv\",\n",
    "    line_by_line=True,\n",
    "    block_size=128\n",
    ")\n",
    "\n",
    "model_args = ModelArguments(\n",
    "    model_name_or_path=\"gpt2-medium\",\n",
    "    model_type=\"gpt2\"\n",
    ")\n",
    "\n",
    "training_args = TrainingArguments(\n",
    "    output_dir=checkpoint_dir,\n",
    "    do_train=True,\n",
    "    do_eval=True,\n",
    "    per_device_train_batch_size=16,\n",
    "    per_device_eval_batch_size=16,\n",
    "    learning_rate=5e-5,\n",
    "    weight_decay=0.01,\n",
    "    adam_beta2=0.98,\n",
    "    save_total_limit=3,\n",
    "    save_steps=1000,\n",
    "    fp16=True,\n",
    "    warmup_steps=5000,\n",
    "    max_grad_norm=1e10,\n",
    "    max_steps=10000,\n",
    "    overwrite_output_dir=True,\n",
    "    evaluation_strategy=\"steps\",\n",
    "    eval_steps=1000\n",
    ")\n",
    "\n",
    "if not os.path.exists(training_args.output_dir):\n",
    "    os.makedirs(training_args.output_dir)"
   ]
  },
  {
   "cell_type": "markdown",
   "metadata": {},
   "source": [
    "### backbone: `RoBERTa-base`"
   ]
  },
  {
   "cell_type": "code",
   "execution_count": 97,
   "metadata": {},
   "outputs": [],
   "source": [
    "checkpoint_dir = \"checkpoints/ft-RoBERTa\"\n",
    "\n",
    "model_args = ModelArguments(\n",
    "    model_name_or_path=\"roberta-base\",\n",
    "    model_type=\"roberta\",\n",
    "    tokenizer_name=\"roberta-base\"\n",
    ")\n",
    "\n",
    "data_args = DataTrainingArguments(\n",
    "    train_data_file=f\"{data_dir}/train.tsv\",\n",
    "    eval_data_file=f\"{data_dir}/valid.tsv\",\n",
    "    line_by_line=True, \n",
    "    block_size=128,\n",
    "    mlm=True,\n",
    "    mlm_probability=0.15\n",
    ")\n",
    "\n",
    "training_args = TrainingArguments(\n",
    "    output_dir=checkpoint_dir,\n",
    "    do_train=True,\n",
    "    do_eval=True,\n",
    "    per_device_train_batch_size=16,\n",
    "    per_device_eval_batch_size=16,\n",
    "    learning_rate=5e-5,\n",
    "    weight_decay=0.01,\n",
    "    adam_beta2=0.98,\n",
    "    save_total_limit=5,\n",
    "    save_steps=500,\n",
    "    fp16=True,\n",
    "    warmup_steps=5000,\n",
    "    max_grad_norm=1e10,\n",
    "    max_steps=3000,\n",
    "    overwrite_output_dir=True,\n",
    "    evaluation_strategy=\"steps\",\n",
    "    eval_steps=500\n",
    ")\n",
    "\n",
    "if not os.path.exists(training_args.output_dir):\n",
    "    os.makedirs(training_args.output_dir)"
   ]
  },
  {
   "cell_type": "markdown",
   "metadata": {},
   "source": [
    "### Backbone: `XLNet-base`"
   ]
  },
  {
   "cell_type": "code",
   "execution_count": 8,
   "metadata": {},
   "outputs": [],
   "source": [
    "checkpoint_dir = \"checkpoints/ft-xlnet\"\n",
    "data_dir = \"data/train/ft\"\n",
    "\n",
    "model_args = ModelArguments(\n",
    "    model_name_or_path=\"xlnet-base-cased\",\n",
    "    model_type=\"xlnet\",\n",
    "    tokenizer_name=\"xlnet-base-cased\"\n",
    ")\n",
    "\n",
    "data_args = DataTrainingArguments(\n",
    "    train_data_file=f\"{data_dir}/train.tsv\",\n",
    "    eval_data_file=f\"{data_dir}/valid.tsv\",\n",
    "    line_by_line=True,\n",
    "    block_size=256\n",
    ")\n",
    "\n",
    "training_args = TrainingArguments(\n",
    "    output_dir=checkpoint_dir,\n",
    "    do_train=True,\n",
    "    do_eval=True,\n",
    "    per_device_train_batch_size=16,\n",
    "    per_device_eval_batch_size=16,\n",
    "    learning_rate=5e-5,\n",
    "    weight_decay=0.01,\n",
    "    adam_beta2=0.98,\n",
    "    save_total_limit=3,\n",
    "    save_steps=500,\n",
    "    fp16=True,\n",
    "    warmup_steps=5000,\n",
    "    max_grad_norm=1e10,\n",
    "    max_steps=5000,\n",
    "    overwrite_output_dir=True,\n",
    "    evaluation_strategy=\"steps\",\n",
    "    eval_steps=500\n",
    ")\n",
    "\n",
    "if not os.path.exists(training_args.output_dir):\n",
    "    os.makedirs(training_args.output_dir)"
   ]
  },
  {
   "cell_type": "markdown",
   "metadata": {},
   "source": [
    "### Backbone: `Bert-base-uncased`"
   ]
  },
  {
   "cell_type": "code",
   "execution_count": 14,
   "metadata": {},
   "outputs": [],
   "source": [
    "checkpoint_dir = \"checkpoints/ft-bert\"\n",
    "data_dir = \"data/train/ft\"\n",
    "\n",
    "model_args = ModelArguments(\n",
    "    model_name_or_path=\"bert-base-uncased\",\n",
    "    model_type=\"bert\",\n",
    "    tokenizer_name=\"bert-base-uncased\"\n",
    ")\n",
    "\n",
    "data_args = DataTrainingArguments(\n",
    "    train_data_file=f\"{data_dir}/train.tsv\",\n",
    "    eval_data_file=f\"{data_dir}/valid.tsv\",\n",
    "    line_by_line=True,\n",
    "    block_size=128, \n",
    "    mlm=True,\n",
    "    mlm_probability=0.15\n",
    ")\n",
    "\n",
    "training_args = TrainingArguments(\n",
    "    output_dir=checkpoint_dir,\n",
    "    do_train=True,\n",
    "    do_eval=True,\n",
    "    per_device_train_batch_size=8,\n",
    "    per_device_eval_batch_size=8,\n",
    "    learning_rate=1e-5,\n",
    "    weight_decay=0.01,\n",
    "    adam_beta2=0.98,\n",
    "    save_total_limit=3,\n",
    "    save_steps=500,\n",
    "    fp16=False,\n",
    "    warmup_steps=2500,\n",
    "    max_grad_norm=1e10,\n",
    "    max_steps=5000,\n",
    "    overwrite_output_dir=True,\n",
    "    evaluation_strategy=\"steps\",\n",
    "    eval_steps=500\n",
    ")\n",
    "\n",
    "if not os.path.exists(training_args.output_dir):\n",
    "    os.makedirs(training_args.output_dir)"
   ]
  },
  {
   "cell_type": "markdown",
   "metadata": {},
   "source": [
    "## Backbone: `XLM`"
   ]
  },
  {
   "cell_type": "code",
   "execution_count": 15,
   "metadata": {},
   "outputs": [],
   "source": [
    "checkpoint_dir = \"checkpoints/ft-XLM\"\n",
    "data_dir = \"data/train/ft\"\n",
    "\n",
    "model_args = ModelArguments(\n",
    "    model_name_or_path=\"xlm-mlm-en-2048\",\n",
    "    model_type=\"xlm\",\n",
    "    tokenizer_name=\"xlm-mlm-en-2048\"\n",
    ")\n",
    "\n",
    "data_args = DataTrainingArguments(\n",
    "    train_data_file=f\"{data_dir}/train.tsv\",\n",
    "    eval_data_file=f\"{data_dir}/valid.tsv\",\n",
    "    line_by_line=True,\n",
    "    block_size=128,\n",
    "    mlm=True,\n",
    "    mlm_probability=0.15\n",
    ")\n",
    "\n",
    "training_args = TrainingArguments(\n",
    "    output_dir=checkpoint_dir,\n",
    "    do_train=True,\n",
    "    do_eval=True,\n",
    "    per_device_train_batch_size=16,\n",
    "    per_device_eval_batch_size=16,\n",
    "    learning_rate=1e-5,\n",
    "    weight_decay=0.01,\n",
    "    adam_beta2=0.98,\n",
    "    save_total_limit=3,\n",
    "    save_steps=500,\n",
    "    fp16=True,\n",
    "    warmup_steps=2500,\n",
    "    max_grad_norm=1e10,\n",
    "    max_steps=3000,\n",
    "    overwrite_output_dir=True,\n",
    "    evaluation_strategy=\"steps\",\n",
    "    eval_steps=500\n",
    ")\n",
    "\n",
    "if not os.path.exists(training_args.output_dir):\n",
    "    os.makedirs(training_args.output_dir)"
   ]
  },
  {
   "cell_type": "code",
   "execution_count": 37,
   "metadata": {},
   "outputs": [
    {
     "name": "stderr",
     "output_type": "stream",
     "text": [
      "Downloading: 100%|██████████| 840/840 [00:00<00:00, 3.09MB/s]\n"
     ]
    },
    {
     "name": "stdout",
     "output_type": "stream",
     "text": [
      "load config done\n"
     ]
    },
    {
     "name": "stderr",
     "output_type": "stream",
     "text": [
      "Downloading: 100%|██████████| 646k/646k [00:00<00:00, 8.52MB/s]\n",
      "Downloading: 100%|██████████| 487k/487k [00:00<00:00, 7.70MB/s]\n",
      "Using eos_token, but it is not set yet.\n",
      "/home/qliu3/anaconda3/envs/detox-34/lib/python3.8/site-packages/transformers/modeling_auto.py:821: FutureWarning: The class `AutoModelWithLMHead` is deprecated and will be removed in a future version. Please use `AutoModelForCausalLM` for causal language models, `AutoModelForMaskedLM` for masked language models and `AutoModelForSeq2SeqLM` for encoder-decoder models.\n",
      "  warnings.warn(\n",
      "Downloading: 100%|██████████| 2.67G/2.67G [01:16<00:00, 35.1MB/s]\n",
      "Some weights of XLMWithLMHeadModel were not initialized from the model checkpoint at xlm-mlm-en-2048 and are newly initialized: ['transformer.position_ids']\n",
      "You should probably TRAIN this model on a down-stream task to be able to use it for predictions and inference.\n"
     ]
    },
    {
     "name": "stdout",
     "output_type": "stream",
     "text": [
      "load model done\n",
      "block size:  128\n"
     ]
    },
    {
     "name": "stderr",
     "output_type": "stream",
     "text": [
      "/home/qliu3/anaconda3/envs/detox-34/lib/python3.8/site-packages/transformers/tokenization_utils_base.py:1372: FutureWarning: The `max_len` attribute has been deprecated and will be removed in a future version, use `model_max_length` instead.\n",
      "  warnings.warn(\n"
     ]
    }
   ],
   "source": [
    "# Load pretrained model and tokenizer\n",
    "config = AutoConfig.from_pretrained(model_args.model_name_or_path)\n",
    "print(\"load config done\")\n",
    "\n",
    "if model_args.tokenizer_name:\n",
    "    tokenizer = AutoTokenizer.from_pretrained(model_args.tokenizer_name)\n",
    "elif model_args.model_name_or_path:\n",
    "    tokenizer = AutoTokenizer.from_pretrained(model_args.model_name_or_path)\n",
    "\n",
    "if not tokenizer.eos_token:\n",
    "    new_eos_token = \"<eos>\"\n",
    "    tokenizer.add_special_tokens({'eos_token': new_eos_token})\n",
    "\n",
    "if not tokenizer.pad_token:\n",
    "    tokenizer.pad_token = tokenizer.eos_token\n",
    "\n",
    "model = AutoModelWithLMHead.from_pretrained(\n",
    "    model_args.model_name_or_path,\n",
    "    from_tf=bool(\".ckpt\" in model_args.model_name_or_path),\n",
    "    config=config,\n",
    "    cache_dir=model_args.cache_dir,\n",
    ")\n",
    "model.resize_token_embeddings(len(tokenizer))\n",
    "print(\"load model done\")\n",
    "\n",
    "if data_args.block_size <= 0:\n",
    "    data_args.block_size = tokenizer.max_len\n",
    "    # Our input block size will be the max possible for the model\n",
    "else:\n",
    "    data_args.block_size = min(data_args.block_size, tokenizer.max_len)\n",
    "print(\"block size: \", data_args.block_size)"
   ]
  },
  {
   "cell_type": "code",
   "execution_count": 8,
   "metadata": {},
   "outputs": [
    {
     "name": "stderr",
     "output_type": "stream",
     "text": [
      "Some weights of XLMWithLMHeadModel were not initialized from the model checkpoint at xlm-mlm-en-2048 and are newly initialized: ['transformer.position_ids']\n",
      "You should probably TRAIN this model on a down-stream task to be able to use it for predictions and inference.\n"
     ]
    }
   ],
   "source": [
    "from transformers import XLMTokenizer, XLMWithLMHeadModel\n",
    "\n",
    "tokenizer = XLMTokenizer.from_pretrained('xlm-mlm-en-2048')\n",
    "model = XLMWithLMHeadModel.from_pretrained('xlm-mlm-en-2048', return_dict=True)"
   ]
  },
  {
   "cell_type": "code",
   "execution_count": 10,
   "metadata": {},
   "outputs": [],
   "source": [
    "# Get datasets\n",
    "train_dataset = get_dataset(data_args, tokenizer=tokenizer)\n",
    "eval_dataset = get_dataset(data_args, tokenizer=tokenizer, evaluate=True)"
   ]
  },
  {
   "cell_type": "code",
   "execution_count": 17,
   "metadata": {},
   "outputs": [],
   "source": [
    "# Initialize data collator\n",
    "if config.model_type == \"xlnet\":\n",
    "        data_collator = DataCollatorForPermutationLanguageModeling(\n",
    "            tokenizer=tokenizer,\n",
    "            plm_probability=data_args.plm_probability,\n",
    "            max_span_length=data_args.max_span_length,\n",
    "        )\n",
    "else:\n",
    "    data_collator = DataCollatorForLanguageModeling(\n",
    "        tokenizer=tokenizer, mlm=data_args.mlm, mlm_probability=data_args.mlm_probability\n",
    "    )"
   ]
  },
  {
   "cell_type": "code",
   "execution_count": 18,
   "metadata": {},
   "outputs": [
    {
     "name": "stderr",
     "output_type": "stream",
     "text": [
      "/home/qliu3/anaconda3/envs/detox-34/lib/python3.8/site-packages/transformers/trainer.py:259: FutureWarning: Passing `prediction_loss_only` as a keyword argument is deprecated and won't be possible in a future version. Use `args.prediction_loss_only` instead. Setting `args.prediction_loss_only=True\n",
      "  warnings.warn(\n"
     ]
    }
   ],
   "source": [
    "# Initialize Trainer\n",
    "trainer = Trainer(\n",
    "    model=model,\n",
    "    args=training_args,\n",
    "    data_collator=data_collator,\n",
    "    train_dataset=train_dataset,\n",
    "    eval_dataset=eval_dataset,\n",
    "    prediction_loss_only=True\n",
    ")"
   ]
  },
  {
   "cell_type": "code",
   "execution_count": 19,
   "metadata": {},
   "outputs": [
    {
     "name": "stderr",
     "output_type": "stream",
     "text": [
      "/home/qliu3/anaconda3/envs/detox-34/lib/python3.8/site-packages/torch/nn/_reduction.py:14: UserWarning: reduction='elementwise_mean' is deprecated, please use reduction='mean' instead.\n",
      "  warnings.warn(\"reduction='elementwise_mean' is deprecated, please use reduction='mean' instead.\")\n",
      "/home/qliu3/anaconda3/envs/detox-34/lib/python3.8/site-packages/torch/optim/lr_scheduler.py:131: UserWarning: Detected call of `lr_scheduler.step()` before `optimizer.step()`. In PyTorch 1.1.0 and later, you should call them in the opposite order: `optimizer.step()` before `lr_scheduler.step()`.  Failure to do this will result in PyTorch skipping the first value of the learning rate schedule. See more details at https://pytorch.org/docs/stable/optim.html#how-to-adjust-learning-rate\n",
      "  warnings.warn(\"Detected call of `lr_scheduler.step()` before `optimizer.step()`. \"\n"
     ]
    },
    {
     "data": {
      "text/html": [
       "\n",
       "    <div>\n",
       "        <style>\n",
       "            /* Turns off some styling */\n",
       "            progress {\n",
       "                /* gets rid of default border in Firefox and Opera. */\n",
       "                border: none;\n",
       "                /* Needs to be in here for Safari polyfill so background images work as expected. */\n",
       "                background-size: auto;\n",
       "            }\n",
       "        </style>\n",
       "      \n",
       "      <progress value='3000' max='3000' style='width:300px; height:20px; vertical-align: middle;'></progress>\n",
       "      [3000/3000 1:27:32, Epoch 0/1]\n",
       "    </div>\n",
       "    <table border=\"1\" class=\"dataframe\">\n",
       "  <thead>\n",
       "    <tr style=\"text-align: left;\">\n",
       "      <th>Step</th>\n",
       "      <th>Training Loss</th>\n",
       "      <th>Validation Loss</th>\n",
       "    </tr>\n",
       "  </thead>\n",
       "  <tbody>\n",
       "    <tr>\n",
       "      <td>500</td>\n",
       "      <td>2.318207</td>\n",
       "      <td>1.913968</td>\n",
       "    </tr>\n",
       "    <tr>\n",
       "      <td>1000</td>\n",
       "      <td>1.994319</td>\n",
       "      <td>1.799487</td>\n",
       "    </tr>\n",
       "    <tr>\n",
       "      <td>1500</td>\n",
       "      <td>1.923323</td>\n",
       "      <td>1.772992</td>\n",
       "    </tr>\n",
       "    <tr>\n",
       "      <td>2000</td>\n",
       "      <td>1.905310</td>\n",
       "      <td>1.767497</td>\n",
       "    </tr>\n",
       "    <tr>\n",
       "      <td>2500</td>\n",
       "      <td>1.911722</td>\n",
       "      <td>1.764506</td>\n",
       "    </tr>\n",
       "    <tr>\n",
       "      <td>3000</td>\n",
       "      <td>1.886666</td>\n",
       "      <td>1.737350</td>\n",
       "    </tr>\n",
       "  </tbody>\n",
       "</table><p>"
      ],
      "text/plain": [
       "<IPython.core.display.HTML object>"
      ]
     },
     "metadata": {},
     "output_type": "display_data"
    },
    {
     "name": "stderr",
     "output_type": "stream",
     "text": [
      "/home/qliu3/anaconda3/envs/detox-34/lib/python3.8/site-packages/torch/nn/_reduction.py:14: UserWarning: reduction='elementwise_mean' is deprecated, please use reduction='mean' instead.\n",
      "  warnings.warn(\"reduction='elementwise_mean' is deprecated, please use reduction='mean' instead.\")\n",
      "/home/qliu3/anaconda3/envs/detox-34/lib/python3.8/site-packages/torch/nn/_reduction.py:14: UserWarning: reduction='elementwise_mean' is deprecated, please use reduction='mean' instead.\n",
      "  warnings.warn(\"reduction='elementwise_mean' is deprecated, please use reduction='mean' instead.\")\n",
      "/home/qliu3/anaconda3/envs/detox-34/lib/python3.8/site-packages/torch/nn/_reduction.py:14: UserWarning: reduction='elementwise_mean' is deprecated, please use reduction='mean' instead.\n",
      "  warnings.warn(\"reduction='elementwise_mean' is deprecated, please use reduction='mean' instead.\")\n",
      "/home/qliu3/anaconda3/envs/detox-34/lib/python3.8/site-packages/torch/nn/_reduction.py:14: UserWarning: reduction='elementwise_mean' is deprecated, please use reduction='mean' instead.\n",
      "  warnings.warn(\"reduction='elementwise_mean' is deprecated, please use reduction='mean' instead.\")\n",
      "/home/qliu3/anaconda3/envs/detox-34/lib/python3.8/site-packages/torch/nn/_reduction.py:14: UserWarning: reduction='elementwise_mean' is deprecated, please use reduction='mean' instead.\n",
      "  warnings.warn(\"reduction='elementwise_mean' is deprecated, please use reduction='mean' instead.\")\n",
      "/home/qliu3/anaconda3/envs/detox-34/lib/python3.8/site-packages/transformers/trainer.py:1118: FutureWarning: This method is deprecated, use `Trainer.is_world_process_zero()` instead.\n",
      "  warnings.warn(\"This method is deprecated, use `Trainer.is_world_process_zero()` instead.\", FutureWarning)\n"
     ]
    }
   ],
   "source": [
    "# Training\n",
    "if training_args.do_train:\n",
    "    model_path = (\n",
    "        model_args.model_name_or_path\n",
    "        if model_args.model_name_or_path is not None and os.path.isdir(model_args.model_name_or_path)\n",
    "        else None\n",
    "    )\n",
    "    trainer.train(model_path=model_path)\n",
    "    trainer.save_model()\n",
    "    # re-save the tokenizer to the same directory\n",
    "    if trainer.is_world_master():\n",
    "        tokenizer.save_pretrained(training_args.output_dir)"
   ]
  },
  {
   "cell_type": "markdown",
   "metadata": {},
   "source": [
    "# Perplexity evaluation on WAE vs. AAE"
   ]
  },
  {
   "cell_type": "code",
   "execution_count": 16,
   "metadata": {},
   "outputs": [],
   "source": [
    "# set seed\n",
    "set_seed(221)\n",
    "\n",
    "# load the pt and ft models\n",
    "eval_data_dir = \"data/eval/translation_pairs/filtered\"\n",
    "eval_files = [\"nontoxic_aae.txt\", \"nontoxic_wae.txt\", \"toxic_aae.txt\", \"toxic_wae.txt\"]"
   ]
  },
  {
   "cell_type": "code",
   "execution_count": 12,
   "metadata": {},
   "outputs": [],
   "source": [
    "# base_model_path = \"gpt2-medium\"\n",
    "# ft_model_path = \"checkpoints/ft-gpt2/checkpoint-10000\"\n",
    "# ft_tokenizer_dir = \"checkpoints/ft-gpt2\"\n",
    "\n",
    "# base_model_path = \"roberta-base\"\n",
    "# ft_model_path = \"checkpoints/ft-RoBERTa/checkpoint-3000\"\n",
    "# ft_tokenizer_dir = \"checkpoints/ft-RoBERTa\"\n",
    "\n",
    "# base_model_path = \"bert-base-uncased\"\n",
    "# ft_model_path = \"checkpoints/ft-bert/checkpoint-5000\"\n",
    "# ft_tokenizer_dir = \"checkpoints/ft-bert\"\n",
    "\n",
    "base_model_path = \"xlm-mlm-en-2048\"\n",
    "ft_model_path = \"checkpoints/ft-XLM/checkpoint-3000\"\n",
    "ft_tokenizer_dir = \"checkpoints/ft-XLM\""
   ]
  },
  {
   "cell_type": "code",
   "execution_count": 13,
   "metadata": {},
   "outputs": [],
   "source": [
    "# training arguments for solely evaluation\n",
    "training_args = TrainingArguments(\n",
    "    output_dir=\"trash\",\n",
    "    do_train=False,                                     \n",
    "    do_eval=True,                       \n",
    "    evaluation_strategy=\"steps\",\n",
    "    eval_steps=500,\n",
    "    fp16=False,\n",
    ")"
   ]
  },
  {
   "cell_type": "code",
   "execution_count": 14,
   "metadata": {},
   "outputs": [],
   "source": [
    "# mkdir for the eval results\n",
    "if not os.path.exists(\"eval_results\"):\n",
    "    os.makedirs(\"eval_results\")\n",
    "\n",
    "# mkdir for the trash folder to avoid errors\n",
    "if not os.path.exists(\"trash\"):\n",
    "    os.makedirs(\"trash\")"
   ]
  },
  {
   "cell_type": "code",
   "execution_count": 9,
   "metadata": {},
   "outputs": [],
   "source": [
    "def load_model(model_path, tokenizer_dir, model_type=\"gpt2\"):\n",
    "\n",
    "    model_args = ModelArguments(\n",
    "        model_name_or_path=model_path,\n",
    "        model_type=model_type\n",
    "    )\n",
    "\n",
    "    config = AutoConfig.from_pretrained(model_path, cache_dir=model_args.cache_dir)\n",
    "\n",
    "    if config.model_type == \"xlm\":\n",
    "        model = XLMWithLMHeadModel.from_pretrained(model_path, return_dict=True)\n",
    "        tokenizer = XLMTokenizer.from_pretrained(tokenizer_dir, cache_dir=model_args.cache_dir)\n",
    "        return model, tokenizer, config\n",
    "\n",
    "    tokenizer = AutoTokenizer.from_pretrained(tokenizer_dir, cache_dir=model_args.cache_dir)\n",
    "\n",
    "    if not tokenizer.eos_token:\n",
    "        new_eos_token = \"<eos>\"\n",
    "        tokenizer.add_special_tokens({'eos_token': new_eos_token})\n",
    "\n",
    "    if not tokenizer.pad_token:\n",
    "        tokenizer.pad_token = tokenizer.eos_token\n",
    "\n",
    "    model = AutoModelWithLMHead.from_pretrained(\n",
    "        model_path,\n",
    "        from_tf=bool(\".ckpt\" in model_path),\n",
    "        config=config,\n",
    "        cache_dir=model_args.cache_dir,\n",
    "    )\n",
    "    model.resize_token_embeddings(len(tokenizer))\n",
    "    return model, tokenizer, config"
   ]
  },
  {
   "cell_type": "code",
   "execution_count": 10,
   "metadata": {},
   "outputs": [],
   "source": [
    "def eval_ppl(data_dir, eval_files, model, tokenizer, training_args, config):\n",
    "\n",
    "    eval_results = []\n",
    "\n",
    "    for file in eval_files:\n",
    "        data_args = DataTrainingArguments(\n",
    "            train_data_file=None,  # No training data\n",
    "            eval_data_file=f\"{data_dir}/{file}\",\n",
    "            line_by_line=True\n",
    "        )\n",
    "\n",
    "        if config.model_type in [\"roberta\", \"bert\", \"xlm\"]:\n",
    "            data_args.mlm = True\n",
    "            data_args.mlm_probability = 0.15\n",
    "\n",
    "        if data_args.block_size <= 0:\n",
    "            data_args.block_size = tokenizer.max_len\n",
    "            # Our input block size will be the max possible for the model\n",
    "        else:\n",
    "            data_args.block_size = min(data_args.block_size, tokenizer.max_len)\n",
    "\n",
    "        # Get datasets\n",
    "        train_dataset = (\n",
    "            get_dataset(data_args, tokenizer=tokenizer) \n",
    "            if training_args.do_train else None\n",
    "        )\n",
    "        eval_dataset = (\n",
    "            get_dataset(data_args, tokenizer=tokenizer, evaluate=True)\n",
    "            if training_args.do_eval else None\n",
    "        )\n",
    "        if config.model_type == \"xlnet\":\n",
    "            data_collator = DataCollatorForPermutationLanguageModeling(\n",
    "                tokenizer=tokenizer,\n",
    "                plm_probability=data_args.plm_probability,\n",
    "                max_span_length=data_args.max_span_length,\n",
    "            )\n",
    "        else:\n",
    "            data_collator = DataCollatorForLanguageModeling(\n",
    "                tokenizer=tokenizer, mlm=data_args.mlm, mlm_probability=data_args.mlm_probability\n",
    "            )\n",
    "\n",
    "        trainer = Trainer(\n",
    "            model=model,\n",
    "            args=training_args,\n",
    "            data_collator=data_collator,\n",
    "            train_dataset=train_dataset,\n",
    "            eval_dataset=eval_dataset,\n",
    "            prediction_loss_only=True\n",
    "        )\n",
    "\n",
    "        eval_output = trainer.evaluate()\n",
    "        perplexity = math.exp(eval_output[\"eval_loss\"])\n",
    "        print(f\"Perplexity for {file}: {perplexity}\")\n",
    "\n",
    "        eval_results.append((file, perplexity))\n",
    "    \n",
    "    return eval_results"
   ]
  },
  {
   "cell_type": "code",
   "execution_count": 17,
   "metadata": {},
   "outputs": [
    {
     "name": "stderr",
     "output_type": "stream",
     "text": [
      "/home/qliu3/anaconda3/envs/detox-34/lib/python3.8/site-packages/transformers/tokenization_utils_base.py:1372: FutureWarning: The `max_len` attribute has been deprecated and will be removed in a future version, use `model_max_length` instead.\n",
      "  warnings.warn(\n"
     ]
    },
    {
     "name": "stderr",
     "output_type": "stream",
     "text": [
      "/home/qliu3/anaconda3/envs/detox-34/lib/python3.8/site-packages/transformers/trainer.py:259: FutureWarning: Passing `prediction_loss_only` as a keyword argument is deprecated and won't be possible in a future version. Use `args.prediction_loss_only` instead. Setting `args.prediction_loss_only=True\n",
      "  warnings.warn(\n",
      "/home/qliu3/anaconda3/envs/detox-34/lib/python3.8/site-packages/torch/nn/_reduction.py:14: UserWarning: reduction='elementwise_mean' is deprecated, please use reduction='mean' instead.\n",
      "  warnings.warn(\"reduction='elementwise_mean' is deprecated, please use reduction='mean' instead.\")\n"
     ]
    },
    {
     "data": {
      "text/html": [
       "\n",
       "    <div>\n",
       "        <style>\n",
       "            /* Turns off some styling */\n",
       "            progress {\n",
       "                /* gets rid of default border in Firefox and Opera. */\n",
       "                border: none;\n",
       "                /* Needs to be in here for Safari polyfill so background images work as expected. */\n",
       "                background-size: auto;\n",
       "            }\n",
       "        </style>\n",
       "      \n",
       "      <progress value='208' max='208' style='width:300px; height:20px; vertical-align: middle;'></progress>\n",
       "      [208/208 00:04]\n",
       "    </div>\n",
       "    "
      ],
      "text/plain": [
       "<IPython.core.display.HTML object>"
      ]
     },
     "metadata": {},
     "output_type": "display_data"
    },
    {
     "name": "stdout",
     "output_type": "stream",
     "text": [
      "Perplexity for nontoxic_aae.txt: 196.52513349941339\n"
     ]
    },
    {
     "data": {
      "text/html": [
       "\n",
       "    <div>\n",
       "        <style>\n",
       "            /* Turns off some styling */\n",
       "            progress {\n",
       "                /* gets rid of default border in Firefox and Opera. */\n",
       "                border: none;\n",
       "                /* Needs to be in here for Safari polyfill so background images work as expected. */\n",
       "                background-size: auto;\n",
       "            }\n",
       "        </style>\n",
       "      \n",
       "      <progress value='208' max='208' style='width:300px; height:20px; vertical-align: middle;'></progress>\n",
       "      [208/208 00:03]\n",
       "    </div>\n",
       "    "
      ],
      "text/plain": [
       "<IPython.core.display.HTML object>"
      ]
     },
     "metadata": {},
     "output_type": "display_data"
    },
    {
     "name": "stdout",
     "output_type": "stream",
     "text": [
      "Perplexity for nontoxic_wae.txt: 53.65866087910983\n"
     ]
    },
    {
     "data": {
      "text/html": [
       "\n",
       "    <div>\n",
       "        <style>\n",
       "            /* Turns off some styling */\n",
       "            progress {\n",
       "                /* gets rid of default border in Firefox and Opera. */\n",
       "                border: none;\n",
       "                /* Needs to be in here for Safari polyfill so background images work as expected. */\n",
       "                background-size: auto;\n",
       "            }\n",
       "        </style>\n",
       "      \n",
       "      <progress value='45' max='45' style='width:300px; height:20px; vertical-align: middle;'></progress>\n",
       "      [45/45 00:00]\n",
       "    </div>\n",
       "    "
      ],
      "text/plain": [
       "<IPython.core.display.HTML object>"
      ]
     },
     "metadata": {},
     "output_type": "display_data"
    },
    {
     "name": "stdout",
     "output_type": "stream",
     "text": [
      "Perplexity for toxic_aae.txt: 308.143489024105\n"
     ]
    },
    {
     "data": {
      "text/html": [
       "\n",
       "    <div>\n",
       "        <style>\n",
       "            /* Turns off some styling */\n",
       "            progress {\n",
       "                /* gets rid of default border in Firefox and Opera. */\n",
       "                border: none;\n",
       "                /* Needs to be in here for Safari polyfill so background images work as expected. */\n",
       "                background-size: auto;\n",
       "            }\n",
       "        </style>\n",
       "      \n",
       "      <progress value='45' max='45' style='width:300px; height:20px; vertical-align: middle;'></progress>\n",
       "      [45/45 00:00]\n",
       "    </div>\n",
       "    "
      ],
      "text/plain": [
       "<IPython.core.display.HTML object>"
      ]
     },
     "metadata": {},
     "output_type": "display_data"
    },
    {
     "name": "stdout",
     "output_type": "stream",
     "text": [
      "Perplexity for toxic_wae.txt: 73.39525860361555\n"
     ]
    }
   ],
   "source": [
    "# do the evaluation on the base model\n",
    "model, tokenizer, config = load_model(base_model_path, base_model_path, base_model_path)\n",
    "eval_results = eval_ppl(eval_data_dir, eval_files, model, tokenizer, training_args, config)"
   ]
  },
  {
   "cell_type": "code",
   "execution_count": 18,
   "metadata": {},
   "outputs": [
    {
     "data": {
      "text/html": [
       "\n",
       "    <div>\n",
       "        <style>\n",
       "            /* Turns off some styling */\n",
       "            progress {\n",
       "                /* gets rid of default border in Firefox and Opera. */\n",
       "                border: none;\n",
       "                /* Needs to be in here for Safari polyfill so background images work as expected. */\n",
       "                background-size: auto;\n",
       "            }\n",
       "        </style>\n",
       "      \n",
       "      <progress value='208' max='208' style='width:300px; height:20px; vertical-align: middle;'></progress>\n",
       "      [208/208 00:03]\n",
       "    </div>\n",
       "    "
      ],
      "text/plain": [
       "<IPython.core.display.HTML object>"
      ]
     },
     "metadata": {},
     "output_type": "display_data"
    },
    {
     "name": "stdout",
     "output_type": "stream",
     "text": [
      "Perplexity for nontoxic_aae.txt: 27.676919663212985\n"
     ]
    },
    {
     "data": {
      "text/html": [
       "\n",
       "    <div>\n",
       "        <style>\n",
       "            /* Turns off some styling */\n",
       "            progress {\n",
       "                /* gets rid of default border in Firefox and Opera. */\n",
       "                border: none;\n",
       "                /* Needs to be in here for Safari polyfill so background images work as expected. */\n",
       "                background-size: auto;\n",
       "            }\n",
       "        </style>\n",
       "      \n",
       "      <progress value='208' max='208' style='width:300px; height:20px; vertical-align: middle;'></progress>\n",
       "      [208/208 00:05]\n",
       "    </div>\n",
       "    "
      ],
      "text/plain": [
       "<IPython.core.display.HTML object>"
      ]
     },
     "metadata": {},
     "output_type": "display_data"
    },
    {
     "name": "stdout",
     "output_type": "stream",
     "text": [
      "Perplexity for nontoxic_wae.txt: 8.623042829069732\n"
     ]
    },
    {
     "data": {
      "text/html": [
       "\n",
       "    <div>\n",
       "        <style>\n",
       "            /* Turns off some styling */\n",
       "            progress {\n",
       "                /* gets rid of default border in Firefox and Opera. */\n",
       "                border: none;\n",
       "                /* Needs to be in here for Safari polyfill so background images work as expected. */\n",
       "                background-size: auto;\n",
       "            }\n",
       "        </style>\n",
       "      \n",
       "      <progress value='45' max='45' style='width:300px; height:20px; vertical-align: middle;'></progress>\n",
       "      [45/45 00:01]\n",
       "    </div>\n",
       "    "
      ],
      "text/plain": [
       "<IPython.core.display.HTML object>"
      ]
     },
     "metadata": {},
     "output_type": "display_data"
    },
    {
     "name": "stdout",
     "output_type": "stream",
     "text": [
      "Perplexity for toxic_aae.txt: 55.19965836484263\n"
     ]
    },
    {
     "data": {
      "text/html": [
       "\n",
       "    <div>\n",
       "        <style>\n",
       "            /* Turns off some styling */\n",
       "            progress {\n",
       "                /* gets rid of default border in Firefox and Opera. */\n",
       "                border: none;\n",
       "                /* Needs to be in here for Safari polyfill so background images work as expected. */\n",
       "                background-size: auto;\n",
       "            }\n",
       "        </style>\n",
       "      \n",
       "      <progress value='45' max='45' style='width:300px; height:20px; vertical-align: middle;'></progress>\n",
       "      [45/45 00:00]\n",
       "    </div>\n",
       "    "
      ],
      "text/plain": [
       "<IPython.core.display.HTML object>"
      ]
     },
     "metadata": {},
     "output_type": "display_data"
    },
    {
     "name": "stdout",
     "output_type": "stream",
     "text": [
      "Perplexity for toxic_wae.txt: 12.207411255084105\n"
     ]
    }
   ],
   "source": [
    "# do evaluation on the fine-tuned model\n",
    "ft_model, ft_tokenizer, ft_config = load_model(ft_model_path, ft_tokenizer_dir, base_model_path)\n",
    "ft_direct_eval_results = eval_ppl(eval_data_dir, eval_files, ft_model, ft_tokenizer, training_args, ft_config)"
   ]
  },
  {
   "cell_type": "code",
   "execution_count": 19,
   "metadata": {},
   "outputs": [],
   "source": [
    "import matplotlib.pyplot as plt\n",
    "import seaborn as sns\n",
    "import numpy as np"
   ]
  },
  {
   "cell_type": "code",
   "execution_count": 44,
   "metadata": {},
   "outputs": [],
   "source": [
    "# seaborn plot the results as grouped bar chart, results for each evaluation file are grouped together\n",
    "def plot_perplexity(eval_files, eval_results, ft_direct_eval_results, model_type):\n",
    "    eval_files = [f.split(\".\")[0] for f in eval_files]\n",
    "    ppl_scores = [r[1] for r in eval_results]\n",
    "    ft_ppl_scores = [r[1] for r in ft_direct_eval_results]\n",
    "\n",
    "    gpt2_model_name = [model_type] * len(eval_files)\n",
    "    ft_model_name = [\"FT-Non-Toxic\"] * len(eval_files)\n",
    "\n",
    "    df = pd.DataFrame({\n",
    "        \"Model\": gpt2_model_name + ft_model_name,\n",
    "        \"Eval File\": eval_files*2,\n",
    "        \"Perplexity\": ppl_scores + ft_ppl_scores\n",
    "    })\n",
    "\n",
    "    plt.figure(figsize=(10, 6))\n",
    "    sns.barplot(x=\"Eval File\", y=\"Perplexity\", hue=\"Model\", data=df, palette=\"viridis\")\n",
    "    # add the perplexity scores on top of the bars\n",
    "    for i in range(len(eval_files)):\n",
    "        plt.text(i-0.3, ppl_scores[i] + 5, f\"{ppl_scores[i]:.2f}\", fontsize=10, color=\"red\")\n",
    "        plt.text(i+0.1, ft_ppl_scores[i] + 5, f\"{ft_ppl_scores[i]:.2f}\", fontsize=10, color=\"red\")\n",
    "\n",
    "    plt.title(f\"Perplexity Scores for {model_type} before and after DAPT detoxification\")\n",
    "\n",
    "    # save the plot as a png\n",
    "    plt.savefig(f\"eval_results/{model_type}.png\")\n",
    "    plt.show()"
   ]
  },
  {
   "cell_type": "code",
   "execution_count": 45,
   "metadata": {},
   "outputs": [
    {
     "data": {
      "image/png": "[encoded data removed]",
      "text/plain": [
       "<Figure size 1000x600 with 1 Axes>"
      ]
     },
     "metadata": {},
     "output_type": "display_data"
    }
   ],
   "source": [
    "# plot the perplexity scores for the xlm-mlm-en-2048 model\n",
    "plot_perplexity(eval_files, eval_results, ft_direct_eval_results, \"XLM-MLM-EN-2048\")"
   ]
  },
  {
   "cell_type": "code",
   "execution_count": 35,
   "metadata": {},
   "outputs": [
    {
     "data": {
      "image/png": "[encoded data removed]",
      "text/plain": [
       "<Figure size 1000x600 with 1 Axes>"
      ]
     },
     "metadata": {},
     "output_type": "display_data"
    }
   ],
   "source": [
    "# plot the perplexity scores for the bert-base model and the fine-tuned model\n",
    "plot_perplexity(eval_files, eval_results, ft_direct_eval_results, \"BERT-Base\")"
   ]
  },
  {
   "cell_type": "code",
   "execution_count": 137,
   "metadata": {},
   "outputs": [
    {
     "data": {
      "image/png": "[encoded data removed]",
      "text/plain": [
       "<Figure size 1000x600 with 1 Axes>"
      ]
     },
     "metadata": {},
     "output_type": "display_data"
    }
   ],
   "source": [
    "# plot the perplexity scores for the roberta-base model and the fine-tuned model\n",
    "plot_perplexity(eval_files, eval_results, ft_direct_eval_results, base_model_path)"
   ]
  },
  {
   "cell_type": "code",
   "execution_count": 130,
   "metadata": {},
   "outputs": [
    {
     "data": {
      "image/png": "[encoded data removed]",
      "text/plain": [
       "<Figure size 1000x600 with 1 Axes>"
      ]
     },
     "metadata": {},
     "output_type": "display_data"
    }
   ],
   "source": [
    "# plot the perplexity scores for the gpt2-medium and fine-tuned models\n",
    "plot_perplexity(eval_files, eval_results, ft_direct_eval_results, base_model_path)"
   ]
  }
 ],
 "metadata": {
  "kernelspec": {
   "display_name": "detox-rep",
   "language": "python",
   "name": "python3"
  },
  "language_info": {
   "codemirror_mode": {
    "name": "ipython",
    "version": 3
   },
   "file_extension": ".py",
   "mimetype": "text/x-python",
   "name": "python",
   "nbconvert_exporter": "python",
   "pygments_lexer": "ipython3",
   "version": "3.8.0"
  }
 },
 "nbformat": 4,
 "nbformat_minor": 2
}
