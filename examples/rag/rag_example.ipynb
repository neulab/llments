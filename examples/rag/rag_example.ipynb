{
  "cells": [
    {
      "cell_type": "markdown",
      "id": "8ca8370c",
      "metadata": {
        "id": "8ca8370c"
      },
      "source": [
        "# Retrieval Augmented Generation\n",
        "\n",
        "This is an example of RAG for the dataset provided by the user.\n",
        "```bash\n",
        "pip install -r requirements.txt\n",
        "```"
      ]
    },
    {
      "cell_type": "code",
      "execution_count": 3,
      "id": "29563e5d-41b0-4f89-8d8b-a54b40f8dfb7",
      "metadata": {
        "id": "29563e5d-41b0-4f89-8d8b-a54b40f8dfb7"
      },
      "outputs": [],
      "source": [
        "from llments.lm.base.hugging_face import HuggingFaceLM\n",
        "from llments.datastore.pyserini_datastore import PyseriniDatastore\n",
        "from llments.lm.rag import RAGLanguageModel\n",
        "import pandas as pd\n",
        "import numpy as np\n",
        "\n",
        "#device = 'cuda:0'  # change to 'mps' if you have a mac, or 'cuda:0' if you have an NVIDIA GPU\n",
        "device = 'cpu'"
      ]
    },
    {
      "cell_type": "markdown",
      "id": "d0022efe",
      "metadata": {
        "id": "d0022efe"
      },
      "source": [
        "## Encode the Documents file provided in jsonl format\n",
        "\n",
        "The following code generates an encoding for Documents."
      ]
    },
    {
      "cell_type": "code",
      "execution_count": 4,
      "id": "931a71d1",
      "metadata": {
        "id": "931a71d1"
      },
      "outputs": [],
      "source": [
        "language_model = HuggingFaceLM('openai-community/gpt2', device=device)"
      ]
    },
    {
      "cell_type": "code",
      "execution_count": 5,
      "id": "d84652e5",
      "metadata": {},
      "outputs": [],
      "source": [
        "#datastore = PyseriniDatastore(index_path='/home/mihirban/llments/examples/rag/msmarco_index', document_path='/home/mihirban/llments/examples/rag/collection.jsonl', index_encoder='castorini/aggretriever-cocondenser', fields=['text'], to_faiss=True, device=device)"
      ]
    },
    {
      "cell_type": "code",
      "execution_count": 15,
      "id": "8f4fbd8b",
      "metadata": {},
      "outputs": [
        {
          "name": "stdout",
          "output_type": "stream",
          "text": [
            "Creating the Datastore...\n",
            "Initializing the document encoder ...\n"
          ]
        },
        {
          "name": "stderr",
          "output_type": "stream",
          "text": [
            "5it [00:00, 37583.37it/s]\n"
          ]
        },
        {
          "name": "stdout",
          "output_type": "stream",
          "text": [
            "Building the index ...\n"
          ]
        },
        {
          "name": "stderr",
          "output_type": "stream",
          "text": [
            "100%|██████████| 1/1 [00:00<00:00,  1.31it/s]"
          ]
        },
        {
          "name": "stdout",
          "output_type": "stream",
          "text": [
            "\n",
            "Index creation completed sucessfully!\n"
          ]
        },
        {
          "name": "stderr",
          "output_type": "stream",
          "text": [
            "\n"
          ]
        }
      ],
      "source": [
        "datastore = PyseriniDatastore(index_path='examples/rag/msmarco_index_contriever', document_path='examples/rag/collection.jsonl', index_encoder='facebook/contriever', fields=['text'], to_faiss=True, device=device)"
      ]
    },
    {
      "cell_type": "code",
      "execution_count": 16,
      "id": "becda071",
      "metadata": {},
      "outputs": [],
      "source": [
        "datastore = PyseriniDatastore(index_path='examples/rag/msmarco_index_contriever', document_path='examples/rag/collection.jsonl', index_encoder='facebook/contriever', fields=['text'], device=device)"
      ]
    },
    {
      "cell_type": "code",
      "execution_count": 17,
      "id": "5b8e218f",
      "metadata": {
        "colab": {
          "base_uri": "https://localhost:8080/"
        },
        "id": "5b8e218f",
        "outputId": "17bfc02b-9cc0-4495-e9d5-ee9ad37771c3"
      },
      "outputs": [],
      "source": [
        "rag_LM = RAGLanguageModel(base=language_model, datastore=datastore, max_results=1)"
      ]
    },
    {
      "cell_type": "code",
      "execution_count": 18,
      "id": "456ecd6c",
      "metadata": {},
      "outputs": [
        {
          "name": "stderr",
          "output_type": "stream",
          "text": [
            "Setting `pad_token_id` to `eos_token_id`:50256 for open-end generation.\n"
          ]
        }
      ],
      "source": [
        "lm_response = rag_LM.generate(condition='What is the Manhattan Project about?', max_length=100, temperature=0.7, num_return_sequences=1)"
      ]
    },
    {
      "cell_type": "code",
      "execution_count": 19,
      "id": "e7ede0f5",
      "metadata": {},
      "outputs": [
        {
          "name": "stdout",
          "output_type": "stream",
          "text": [
            "Response 0 : The Manhattan Project was a major breakthrough in the development of the atomic bomb. It was the first\n"
          ]
        }
      ],
      "source": [
        "for i in range(0, len(lm_response)):\n",
        "    print(f\"Response {i} : \" + lm_response[i])"
      ]
    }
  ],
  "metadata": {
    "accelerator": "GPU",
    "colab": {
      "gpuType": "T4",
      "provenance": []
    },
    "kernelspec": {
      "display_name": "Python 3 (ipykernel)",
      "language": "python",
      "name": "python3"
    },
    "language_info": {
      "codemirror_mode": {
        "name": "ipython",
        "version": 3
      },
      "file_extension": ".py",
      "mimetype": "text/x-python",
      "name": "python",
      "nbconvert_exporter": "python",
      "pygments_lexer": "ipython3",
      "version": "3.11.8"
    }
  },
  "nbformat": 4,
  "nbformat_minor": 5
}
