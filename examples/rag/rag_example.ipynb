{
  "cells": [
    {
      "cell_type": "markdown",
      "id": "8ca8370c",
      "metadata": {
        "id": "8ca8370c"
      },
      "source": [
        "# Retrieval Augmented Generation\n",
        "\n",
        "This is an example of RAG for the dataset provided by the user.\n",
        "```bash\n",
        "pip install -r requirements.txt\n",
        "```"
      ]
    },
    {
      "cell_type": "code",
      "execution_count": 1,
      "id": "29563e5d-41b0-4f89-8d8b-a54b40f8dfb7",
      "metadata": {
        "id": "29563e5d-41b0-4f89-8d8b-a54b40f8dfb7"
      },
      "outputs": [],
      "source": [
        "from llments.lm.base.hugging_face import HuggingFaceLM\n",
        "from llments.datastore.pyserini_datastore import PyseriniDatastore\n",
        "from llments.lm.rag import RAGLanguageModel\n",
        "import pandas as pd\n",
        "import numpy as np\n",
        "\n",
        "#device = 'cuda:0'  # change to 'mps' if you have a mac, or 'cuda:0' if you have an NVIDIA GPU\n",
        "device = 'cpu'"
      ]
    },
    {
      "cell_type": "markdown",
      "id": "d0022efe",
      "metadata": {
        "id": "d0022efe"
      },
      "source": [
        "## Encode the Documents file provided in jsonl format\n",
        "\n",
        "The following code generates an encoding for Documents."
      ]
    },
    {
      "cell_type": "code",
      "execution_count": 2,
      "id": "931a71d1",
      "metadata": {
        "id": "931a71d1"
      },
      "outputs": [],
      "source": [
        "language_model = HuggingFaceLM('openai-community/gpt2', device=device)"
      ]
    },
    {
      "cell_type": "code",
      "execution_count": 3,
      "id": "d84652e5",
      "metadata": {},
      "outputs": [],
      "source": [
        "#datastore = PyseriniDatastore(index_path='/home/mihirban/llments/examples/rag/msmarco_index', document_path='/home/mihirban/llments/examples/rag/collection.jsonl', index_encoder='castorini/aggretriever-cocondenser', fields=['text'], to_faiss=True, device=device)"
      ]
    },
    {
      "cell_type": "code",
      "execution_count": 4,
      "id": "8f4fbd8b",
      "metadata": {},
      "outputs": [],
      "source": [
        "datastore = PyseriniDatastore(index_path='examples/rag/msmarco_index_contriever', document_path='examples/rag/collection.jsonl', index_encoder='facebook/contriever', fields=['contents'], to_faiss=True, device=device)"
      ]
    },
    {
      "cell_type": "code",
      "execution_count": 5,
      "id": "5b8e218f",
      "metadata": {
        "colab": {
          "base_uri": "https://localhost:8080/"
        },
        "id": "5b8e218f",
        "outputId": "17bfc02b-9cc0-4495-e9d5-ee9ad37771c3"
      },
      "outputs": [
        {
          "name": "stdout",
          "output_type": "stream",
          "text": [
            "Loading the index...\n",
            "Index loaded successfully!\n",
            "Loading the document file...\n",
            "Documents loaded successfully!\n"
          ]
        }
      ],
      "source": [
        "rag_LM = RAGLanguageModel(base=language_model, datastore=datastore, max_results=1)"
      ]
    },
    {
      "cell_type": "code",
      "execution_count": 6,
      "id": "456ecd6c",
      "metadata": {},
      "outputs": [
        {
          "name": "stderr",
          "output_type": "stream",
          "text": [
            "/home/mihirban/miniconda3/lib/python3.11/site-packages/transformers/generation/utils.py:1197: UserWarning: You have modified the pretrained model configuration to control generation. This is a deprecated strategy to control generation and will be removed soon, in a future version. Please use and modify the model generation configuration (see https://huggingface.co/docs/transformers/generation_strategies#default-text-generation-configuration )\n",
            "  warnings.warn(\n",
            "/home/mihirban/miniconda3/lib/python3.11/site-packages/transformers/generation/configuration_utils.py:492: UserWarning: `do_sample` is set to `False`. However, `temperature` is set to `0.7` -- this flag is only used in sample-based generation modes. You should set `do_sample=True` or unset `temperature`.\n",
            "  warnings.warn(\n",
            "Setting `pad_token_id` to `eos_token_id`:50256 for open-end generation.\n"
          ]
        }
      ],
      "source": [
        "lm_response = rag_LM.generate(condition='What is the Manhattan Project about?', max_length=100, temperature=0.7, num_return_sequences=1)"
      ]
    },
    {
      "cell_type": "code",
      "execution_count": 7,
      "id": "e7ede0f5",
      "metadata": {},
      "outputs": [
        {
          "name": "stdout",
          "output_type": "stream",
          "text": [
            "Response 0 :  The Manhattan Project was a project to develop a new type of atomic bomb. The Manhattan Project was a project to\n"
          ]
        }
      ],
      "source": [
        "for i in range(0, len(lm_response)):\n",
        "    print(f\"Response {i} : \" + lm_response[i].split(\"Answer: \")[1])"
      ]
    },
    {
      "cell_type": "code",
      "execution_count": null,
      "id": "1b58081f",
      "metadata": {},
      "outputs": [],
      "source": []
    }
  ],
  "metadata": {
    "accelerator": "GPU",
    "colab": {
      "gpuType": "T4",
      "provenance": []
    },
    "kernelspec": {
      "display_name": "Python 3 (ipykernel)",
      "language": "python",
      "name": "python3"
    },
    "language_info": {
      "codemirror_mode": {
        "name": "ipython",
        "version": 3
      },
      "file_extension": ".py",
      "mimetype": "text/x-python",
      "name": "python",
      "nbconvert_exporter": "python",
      "pygments_lexer": "ipython3",
      "version": "3.11.8"
    }
  },
  "nbformat": 4,
  "nbformat_minor": 5
}
