{
  "cells": [
    {
      "cell_type": "markdown",
      "id": "8ca8370c",
      "metadata": {
        "id": "8ca8370c"
      },
      "source": [
        "# Retrieval Augmented Generation\n",
        "\n",
        "This is an example of RAG for the dataset provided by the user.\n",
        "```bash\n",
        "pip install -r requirements.txt\n",
        "```"
      ]
    },
    {
      "cell_type": "code",
      "execution_count": 1,
      "id": "e111831a",
      "metadata": {},
      "outputs": [],
      "source": [
        "import sys\n",
        "sys.path.append('/home/mihirban/llments')"
      ]
    },
    {
      "cell_type": "code",
      "execution_count": 2,
      "id": "29563e5d-41b0-4f89-8d8b-a54b40f8dfb7",
      "metadata": {
        "id": "29563e5d-41b0-4f89-8d8b-a54b40f8dfb7"
      },
      "outputs": [],
      "source": [
        "from llments.lm.base.hugging_face import HuggingFaceLM\n",
        "from llments.datastore.pyserini_datastore import PyseriniDatastore\n",
        "from llments.lm.rag import RAGLanguageModel\n",
        "import pandas as pd\n",
        "import numpy as np\n",
        "\n",
        "#device = 'cuda:0'  # change to 'mps' if you have a mac, or 'cuda:0' if you have an NVIDIA GPU\n",
        "device = 'cpu'"
      ]
    },
    {
      "cell_type": "markdown",
      "id": "d0022efe",
      "metadata": {
        "id": "d0022efe"
      },
      "source": [
        "## Encode the Documents file provided in jsonl format\n",
        "\n",
        "The following code generates an encoding for Documents."
      ]
    },
    {
      "cell_type": "code",
      "execution_count": 3,
      "id": "931a71d1",
      "metadata": {
        "id": "931a71d1"
      },
      "outputs": [],
      "source": [
        "language_model = None"
      ]
    },
    {
      "cell_type": "code",
      "execution_count": 4,
      "id": "d84652e5",
      "metadata": {},
      "outputs": [
        {
          "name": "stdout",
          "output_type": "stream",
          "text": [
            "Creating the Datastore...\n",
            "Initializing the document encoder ...\n"
          ]
        },
        {
          "name": "stderr",
          "output_type": "stream",
          "text": [
            "5it [00:00, 43240.25it/s]\n"
          ]
        },
        {
          "name": "stdout",
          "output_type": "stream",
          "text": [
            "Building the index ...\n"
          ]
        },
        {
          "name": "stderr",
          "output_type": "stream",
          "text": [
            "100%|██████████| 1/1 [00:01<00:00,  1.59s/it]"
          ]
        },
        {
          "name": "stdout",
          "output_type": "stream",
          "text": [
            "\n",
            "Index creation completed sucessfully!\n"
          ]
        },
        {
          "name": "stderr",
          "output_type": "stream",
          "text": [
            "\n"
          ]
        }
      ],
      "source": [
        "datastore = PyseriniDatastore(index_path='/home/mihirban/llments/examples/rag/msmarco_index', document_path='/home/mihirban/llments/examples/rag/collection.jsonl', index_encoder='castorini/aggretriever-cocondenser', fields=['text'], to_faiss=True, device=device)"
      ]
    },
    {
      "cell_type": "code",
      "execution_count": 5,
      "id": "becda071",
      "metadata": {},
      "outputs": [],
      "source": [
        "datastore = PyseriniDatastore(index_path='/home/mihirban/llments/examples/rag/msmarco_index')"
      ]
    },
    {
      "cell_type": "code",
      "execution_count": 6,
      "id": "5b8e218f",
      "metadata": {
        "colab": {
          "base_uri": "https://localhost:8080/"
        },
        "id": "5b8e218f",
        "outputId": "17bfc02b-9cc0-4495-e9d5-ee9ad37771c3"
      },
      "outputs": [],
      "source": [
        "rag_LM = RAGLanguageModel(base=language_model, datastore=datastore)"
      ]
    },
    {
      "cell_type": "code",
      "execution_count": 7,
      "id": "456ecd6c",
      "metadata": {},
      "outputs": [],
      "source": [
        "lm_response = rag_LM.generate(condition=None)"
      ]
    },
    {
      "cell_type": "code",
      "execution_count": 7,
      "id": "f9a060e3",
      "metadata": {},
      "outputs": [
        {
          "name": "stdout",
          "output_type": "stream",
          "text": [
            "Creating the Datastore...\n",
            "Initializing the document encoder ...\n"
          ]
        },
        {
          "name": "stderr",
          "output_type": "stream",
          "text": [
            "5it [00:00, 34323.27it/s]\n"
          ]
        },
        {
          "name": "stdout",
          "output_type": "stream",
          "text": [
            "Building the index ...\n"
          ]
        },
        {
          "name": "stderr",
          "output_type": "stream",
          "text": [
            "100%|██████████| 1/1 [00:00<00:00,  1.53it/s]"
          ]
        },
        {
          "name": "stdout",
          "output_type": "stream",
          "text": [
            "\n",
            "Index creation completed sucessfully!\n"
          ]
        },
        {
          "name": "stderr",
          "output_type": "stream",
          "text": [
            "\n"
          ]
        }
      ],
      "source": [
        "datastore = PyseriniDatastore(index_path='/home/mihirban/llments/examples/rag/msmarco_index', document_path='/home/mihirban/llments/examples/rag/collection.jsonl', index_encoder='facebook/contriever', fields=['text'], to_faiss=True, device=device)"
      ]
    },
    {
      "cell_type": "code",
      "execution_count": null,
      "id": "a1a75629",
      "metadata": {},
      "outputs": [],
      "source": []
    }
  ],
  "metadata": {
    "accelerator": "GPU",
    "colab": {
      "gpuType": "T4",
      "provenance": []
    },
    "kernelspec": {
      "display_name": "Python 3 (ipykernel)",
      "language": "python",
      "name": "python3"
    },
    "language_info": {
      "codemirror_mode": {
        "name": "ipython",
        "version": 3
      },
      "file_extension": ".py",
      "mimetype": "text/x-python",
      "name": "python",
      "nbconvert_exporter": "python",
      "pygments_lexer": "ipython3",
      "version": "3.11.8"
    }
  },
  "nbformat": 4,
  "nbformat_minor": 5
}
