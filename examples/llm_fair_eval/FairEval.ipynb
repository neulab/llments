{
 "cells": [
  {
   "cell_type": "code",
   "execution_count": 1,
   "metadata": {},
   "outputs": [],
   "source": [
    "import json\n",
    "import os\n",
    "import time\n",
    "\n",
    "from llments.lm.base.api import APIBasedLM\n",
    "from tqdm import tqdm"
   ]
  },
  {
   "cell_type": "code",
   "execution_count": 2,
   "metadata": {},
   "outputs": [],
   "source": [
    "MAX_API_RETRY = 10000\n",
    "REQ_TIME_GAP = 4\n",
    "\n",
    "os.environ[\"OPENAI_API_KEY\"] = \"your-openai-api-key\""
   ]
  },
  {
   "cell_type": "markdown",
   "metadata": {},
   "source": [
    "### Positional Bias of the LLM Evaluator\n",
    "An evaluation template with three placeholders T (Q, R1, R2), is used to query the LLM for eval- uation. For each testing question q, given two re- sponses r1 and r2 from Assistant 1 and Assistant 2, respectively, the researchers populate these re- sponses into the corresponding slots of the evalu- ation template to form a prompt: T (Q = q, R1 = r1, R2 = r2). The prompt is then used to query the LLM in order to obtain the comparison result."
   ]
  },
  {
   "cell_type": "code",
   "execution_count": 3,
   "metadata": {},
   "outputs": [],
   "source": [
    "def gen_prompt(ques, ans1, ans2):\n",
    "    prompt_template = \"[Question]\\n{question}\\n\\n[The Start of Assistant 1's Answer]\\n{answer_1}\\n[The End of Assistant 1's Answer]\\n\\n[The Start of Assistant 2's Answer]\\n{answer_2}\\n[The End of Assistant 2's Answer]\\n\\n[System]\\n{prompt}\\n\"\n",
    "    default_prompt =  \"\"\"We would like to request your feedback on the performance of two AI assistants in response to the user question displayed above.\n",
    "    Please rate the helpfulness, relevance, accuracy, level of details of their responses. \n",
    "\n",
    "    Each assistant receives an overall score on a scale of 1 to 10, where a higher score indicates better overall performance.\n",
    "    Please first provide a comprehensive explanation of your evaluation, avoiding any potential bias and ensuring that the order in which the responses were presented does not affect your judgment. \n",
    "    Then, output two lines indicating the scores for Assistant 1 and 2, respectively.\n",
    "\n",
    "    Output with the following format:\n",
    "    Evaluation evidence: <your evluation explanation here>\n",
    "    Score of the Assistant 1: <score>\n",
    "    Score of the Assistant 2: <score>\"\"\"\n",
    "    return prompt_template.format(question=ques, answer_1=ans1, answer_2=ans2, prompt=default_prompt)\n",
    "\n",
    "def query_gpt(system_prompt, user_prompts, eval_model, num_sequences):\n",
    "    try:\n",
    "        responses = APIBasedLM(eval_model).chat_generate(\n",
    "            messages=[[{\"role\": \"system\", \"content\": system_prompt}, {\"role\": \"user\", \"content\": user_prompt}] for user_prompt in user_prompts],\n",
    "            temperature=1,\n",
    "            max_new_tokens=512,\n",
    "            num_return_sequences=num_sequences\n",
    "        )\n",
    "        return responses\n",
    "    except Exception as e:\n",
    "        print(f'Error: {e}')\n",
    "        raise RuntimeError(f\"Failed during query processing.\")\n",
    "    \n",
    "def get_eval(question_jsons, answer1_jsons, answer2_jsons, eval_model, bpc, k):\n",
    "    system_prompt = 'You are a helpful and precise assistant for checking the quality of the answer.'\n",
    "    user_prompts = []\n",
    "    user_prompts_bpc = []\n",
    "\n",
    "    for question_json, answer1_json, answer2_json in zip(question_jsons, answer1_jsons, answer2_jsons):\n",
    "        ques = question_json[\"text\"]\n",
    "        ans1 = answer1_json[\"text\"]\n",
    "        ans2 = answer2_json[\"text\"]\n",
    "\n",
    "        user_prompt = gen_prompt(ques, ans1, ans2)\n",
    "        user_prompts.append(user_prompt)\n",
    "\n",
    "        if bpc:\n",
    "            user_prompt_bpc = gen_prompt(ques, ans2, ans1)\n",
    "            user_prompts_bpc.append(user_prompt_bpc)\n",
    "\n",
    "    responses = query_gpt(system_prompt, user_prompts, eval_model, k)\n",
    "\n",
    "    if bpc == 1:\n",
    "        responses_bpc = query_gpt(system_prompt, user_prompts_bpc, eval_model, k)\n",
    "    else:\n",
    "        responses_bpc = [[] for _ in range(len(user_prompts))]\n",
    "\n",
    "    results = []\n",
    "\n",
    "    for i, response_choices in enumerate(responses):\n",
    "        question_id = question_jsons[i][\"question_id\"]\n",
    "        question_content = []\n",
    "        question_scores_list = []\n",
    "\n",
    "        for content in response_choices:\n",
    "            score1, score2 = parse_score_from_review(content)\n",
    "            if score1 != -1 and score2 != -1:\n",
    "                question_scores_list.append([score1, score2])\n",
    "                question_content.append(content)\n",
    "\n",
    "        if question_scores_list:\n",
    "            avg_score1 = sum([score[0] for score in question_scores_list]) / len(question_scores_list)\n",
    "            avg_score2 = sum([score[1] for score in question_scores_list]) / len(question_scores_list)\n",
    "        else:\n",
    "            avg_score1, avg_score2 = -1, -1\n",
    "\n",
    "        result = {\n",
    "            \"question_id\": question_id,\n",
    "            \"question\": question_jsons[i][\"text\"],\n",
    "            \"review\": question_content,\n",
    "            \"score\": [avg_score1, avg_score2]\n",
    "        }\n",
    "\n",
    "        if bpc == 1:\n",
    "            question_content_bpc = []\n",
    "            question_scores_list_bpc = []\n",
    "            for content_bpc in responses_bpc[i]:\n",
    "                score2_bpc, score1_bpc = parse_score_from_review(content_bpc)\n",
    "                if score1_bpc != -1 and score2_bpc != -1:\n",
    "                    question_scores_list_bpc.append([score1_bpc, score2_bpc])\n",
    "                    question_content_bpc.append(content_bpc)\n",
    "\n",
    "            if question_scores_list_bpc:\n",
    "                avg_score1_bpc = sum([score[0] for score in question_scores_list_bpc]) / len(question_scores_list_bpc)\n",
    "                avg_score2_bpc = sum([score[1] for score in question_scores_list_bpc]) / len(question_scores_list_bpc)\n",
    "                result[\"score\"] = [(result[\"score\"][0] + avg_score1_bpc) / 2, (result[\"score\"][1] + avg_score2_bpc) / 2]\n",
    "                result[\"review_bpc\"] = question_content_bpc\n",
    "            else:\n",
    "                result[\"review_bpc\"] = []\n",
    "        \n",
    "        results.append(result)\n",
    "\n",
    "    return results\n",
    "\n",
    "def parse_score_from_review(review):\n",
    "    try:\n",
    "        score1 = review.split(\"\\n\")[-2]\n",
    "        score2 = review.split(\"\\n\")[-1]\n",
    "        score1 = score1.split(\":\")[-1].strip()\n",
    "        score2 = score2.split(\":\")[-1].strip()\n",
    "        return [float(score1), float(score2)]\n",
    "    except:\n",
    "        return [-1, -1]\n",
    "    \n",
    "def get_json_list(file_path):\n",
    "    file_path = os.path.expanduser(file_path)\n",
    "    with open(file_path, \"r\") as f:\n",
    "        json_list = []\n",
    "        for line in f:\n",
    "            json_list.append(json.loads(line))\n",
    "        return json_list\n",
    "    \n",
    "def get_results(m1, m2, eval_model, bpc=0, k=1):\n",
    "    question_jsons = get_json_list(\"question.jsonl\")\n",
    "    answer1_jsons = get_json_list(f\"answer/answer_{m1}.jsonl\")\n",
    "    answer2_jsons = get_json_list(f\"answer/answer_{m2}.jsonl\")\n",
    "    output = f\"review/review_{m1}_vs_{m2}_eval={eval_model}_mec={k}_bpc={bpc}.json\"\n",
    "\n",
    "    assert len(question_jsons) == len(answer1_jsons) == len(answer2_jsons)\n",
    "\n",
    "    reviews = get_eval(question_jsons, answer1_jsons, answer2_jsons, eval_model, bpc, k)\n",
    "\n",
    "    model1_vs_model2 = {\n",
    "        'win': 0,\n",
    "        'tie': 0,\n",
    "        'loss': 0\n",
    "    }\n",
    "    \n",
    "    with open(f\"{output}\", \"w\") as output_review_file:\n",
    "        for review in reviews:\n",
    "            output_review_file.write(json.dumps(review) + \"\\n\")\n",
    "            \n",
    "            score1, score2 = review['score']\n",
    "            if score1 == score2:\n",
    "                model1_vs_model2['tie'] += 1\n",
    "            elif score1 > score2:\n",
    "                model1_vs_model2['win'] += 1\n",
    "            else:\n",
    "                model1_vs_model2['loss'] += 1\n",
    "\n",
    "    print(f'Evaluation results (model1_vs_model2):\\n{model1_vs_model2}')"
   ]
  },
  {
   "cell_type": "markdown",
   "metadata": {},
   "source": [
    "The Win Rate of Vicuna-13B significantly fluctuates when positioned as Assistant 1 and Assistant 2.\n",
    "Conflict Rate refers to the proportion of conflicting results given by the same evaluator when simply changing the position of two models."
   ]
  },
  {
   "cell_type": "markdown",
   "metadata": {},
   "source": [
    "### Vicuna-13B v.s. ChatGPT"
   ]
  },
  {
   "cell_type": "code",
   "execution_count": 4,
   "metadata": {},
   "outputs": [
    {
     "name": "stdout",
     "output_type": "stream",
     "text": [
      "Evaluation results (model1_vs_model2):\n",
      "{'win': 22, 'tie': 11, 'loss': 47}\n"
     ]
    }
   ],
   "source": [
    "m1=\"gpt35\"\n",
    "m2=\"vicuna-13b\"\n",
    "eval_model=\"gpt-3.5-turbo-0301\"\n",
    "\n",
    "get_results(m1, m2, eval_model)"
   ]
  },
  {
   "cell_type": "code",
   "execution_count": 5,
   "metadata": {},
   "outputs": [
    {
     "name": "stdout",
     "output_type": "stream",
     "text": [
      "Evaluation results (model1_vs_model2):\n",
      "{'win': 40, 'tie': 11, 'loss': 29}\n"
     ]
    }
   ],
   "source": [
    "m1=\"vicuna-13b\"\n",
    "m2=\"gpt35\"\n",
    "eval_model=\"gpt-3.5-turbo-0301\"\n",
    "\n",
    "get_results(m1, m2, eval_model)"
   ]
  },
  {
   "cell_type": "code",
   "execution_count": 6,
   "metadata": {},
   "outputs": [
    {
     "name": "stdout",
     "output_type": "stream",
     "text": [
      "Vicuna-13B v.s. ChatGPT | Evaluator: ChatGPT\n",
      "Vicuna-13b win rate as assistant 1: 50.0%\n",
      "Vicuna-13b win rate as assistant 2: 58.75%\n",
      "Conflict rate: 29/80 (36.25%)\n"
     ]
    }
   ],
   "source": [
    "gpt35_vs_vicuna13b_results = []\n",
    "\n",
    "with open('review/review_gpt35_vs_vicuna-13b_eval=gpt-3.5-turbo-0301_mec=1_bpc=0.json', 'r') as file:\n",
    "    for line in file:\n",
    "        json_object = json.loads(line)\n",
    "        gpt35_vs_vicuna13b_results.append(json_object)\n",
    "\n",
    "vicuna13b_vs_gpt35_results = []\n",
    "\n",
    "with open('review/review_vicuna-13b_vs_gpt35_eval=gpt-3.5-turbo-0301_mec=1_bpc=0.json', 'r') as file:\n",
    "    for line in file:\n",
    "        json_object = json.loads(line)\n",
    "        vicuna13b_vs_gpt35_results.append(json_object)\n",
    "\n",
    "vicuna13b_win_rate_first = 0\n",
    "vicuna13b_win_rate_second = 0\n",
    "conflict = 0\n",
    "\n",
    "for i in range(len(gpt35_vs_vicuna13b_results)):\n",
    "    vicuna_as_first_winner = False\n",
    "    vicuna_as_second_winner = False\n",
    "    if gpt35_vs_vicuna13b_results[i]['score'][0] < gpt35_vs_vicuna13b_results[i]['score'][1]:\n",
    "        vicuna13b_win_rate_second += 1\n",
    "        vicuna_as_second_winner = True\n",
    "    if vicuna13b_vs_gpt35_results[i]['score'][0] > vicuna13b_vs_gpt35_results[i]['score'][1]:\n",
    "        vicuna13b_win_rate_first += 1\n",
    "        vicuna_as_first_winner = True\n",
    "    if vicuna_as_first_winner != vicuna_as_second_winner:\n",
    "        conflict += 1\n",
    "\n",
    "\n",
    "print(\"Vicuna-13B v.s. ChatGPT | Evaluator: ChatGPT\")\n",
    "print(f\"Vicuna-13b win rate as assistant 1: {vicuna13b_win_rate_first / 80 * 100}%\")\n",
    "print(f\"Vicuna-13b win rate as assistant 2: {vicuna13b_win_rate_second / 80 * 100}%\")\n",
    "print(f\"Conflict rate: {conflict}/80 ({conflict / 80 * 100}%)\")\n",
    "    "
   ]
  },
  {
   "cell_type": "markdown",
   "metadata": {},
   "source": [
    "### Vicuna-13B v.s. Alpaca-13B"
   ]
  },
  {
   "cell_type": "code",
   "execution_count": 7,
   "metadata": {},
   "outputs": [
    {
     "name": "stdout",
     "output_type": "stream",
     "text": [
      "Evaluation results (model1_vs_model2):\n",
      "{'win': 6, 'tie': 3, 'loss': 71}\n"
     ]
    }
   ],
   "source": [
    "m1=\"alpaca-13b\"\n",
    "m2=\"vicuna-13b\"\n",
    "eval_model=\"gpt-3.5-turbo-0301\"\n",
    "\n",
    "get_results(m1, m2, eval_model)"
   ]
  },
  {
   "cell_type": "code",
   "execution_count": 8,
   "metadata": {},
   "outputs": [
    {
     "name": "stdout",
     "output_type": "stream",
     "text": [
      "Evaluation results (model1_vs_model2):\n",
      "{'win': 73, 'tie': 3, 'loss': 4}\n"
     ]
    }
   ],
   "source": [
    "m1=\"vicuna-13b\"\n",
    "m2=\"alpaca-13b\"\n",
    "eval_model=\"gpt-3.5-turbo-0301\"\n",
    "\n",
    "get_results(m1, m2, eval_model)"
   ]
  },
  {
   "cell_type": "code",
   "execution_count": 9,
   "metadata": {},
   "outputs": [
    {
     "name": "stdout",
     "output_type": "stream",
     "text": [
      "Vicuna-13B v.s. Alpaca-13B | Evaluator: ChatGPT\n",
      "Vicuna-13b win rate as assistant 1: 91.25%\n",
      "Vicuna-13b win rate as assistant 2: 88.75%\n",
      "Conflict rate: 10/80 (12.5%)\n"
     ]
    }
   ],
   "source": [
    "alpaca13b_vs_vicuna13b_results = []\n",
    "\n",
    "with open('review/review_alpaca-13b_vs_vicuna-13b_eval=gpt-3.5-turbo-0301_mec=1_bpc=0.json', 'r') as file:\n",
    "    for line in file:\n",
    "        json_object = json.loads(line)\n",
    "        alpaca13b_vs_vicuna13b_results.append(json_object)\n",
    "\n",
    "vicuna13b_vs_alpaca13b_results = []\n",
    "\n",
    "with open('review/review_vicuna-13b_vs_alpaca-13b_eval=gpt-3.5-turbo-0301_mec=1_bpc=0.json', 'r') as file:\n",
    "    for line in file:\n",
    "        json_object = json.loads(line)\n",
    "        vicuna13b_vs_alpaca13b_results.append(json_object)\n",
    "\n",
    "vicuna13b_win_rate_first = 0\n",
    "vicuna13b_win_rate_second = 0\n",
    "conflict = 0\n",
    "\n",
    "for i in range(len(gpt35_vs_vicuna13b_results)):\n",
    "    vicuna_as_first_winner = False\n",
    "    vicuna_as_second_winner = False\n",
    "    if alpaca13b_vs_vicuna13b_results[i]['score'][0] < alpaca13b_vs_vicuna13b_results[i]['score'][1]:\n",
    "        vicuna13b_win_rate_second += 1\n",
    "        vicuna_as_second_winner = True\n",
    "    if vicuna13b_vs_alpaca13b_results[i]['score'][0] > vicuna13b_vs_alpaca13b_results[i]['score'][1]:\n",
    "        vicuna13b_win_rate_first += 1\n",
    "        vicuna_as_first_winner = True\n",
    "    if vicuna_as_first_winner != vicuna_as_second_winner:\n",
    "        conflict += 1\n",
    "\n",
    "\n",
    "print(\"Vicuna-13B v.s. Alpaca-13B | Evaluator: ChatGPT\")\n",
    "print(f\"Vicuna-13b win rate as assistant 1: {vicuna13b_win_rate_first / 80 * 100}%\")\n",
    "print(f\"Vicuna-13b win rate as assistant 2: {vicuna13b_win_rate_second / 80 * 100}%\")\n",
    "print(f\"Conflict rate: {conflict}/80 ({conflict / 80 * 100}%)\")\n",
    "    "
   ]
  },
  {
   "cell_type": "markdown",
   "metadata": {},
   "source": [
    "### Calibrating the Positional Bias using Multiple Evidence Calibration (MEC) and Balanced Position Calibration (BPC)\n"
   ]
  },
  {
   "cell_type": "markdown",
   "metadata": {},
   "source": [
    "### Variation of accuracy with different number of evidence k when ChatGPT is used as the evaluator."
   ]
  },
  {
   "cell_type": "code",
   "execution_count": 10,
   "metadata": {},
   "outputs": [
    {
     "name": "stdout",
     "output_type": "stream",
     "text": [
      "Evaluation results (model1_vs_model2):\n",
      "{'win': 32, 'tie': 3, 'loss': 45}\n"
     ]
    }
   ],
   "source": [
    "m1=\"gpt35\"\n",
    "m2=\"vicuna-13b\"\n",
    "eval_model=\"gpt-3.5-turbo-0301\"\n",
    "bpc=1\n",
    "k=3\n",
    "\n",
    "get_results(m1, m2, eval_model, bpc, k)"
   ]
  },
  {
   "cell_type": "code",
   "execution_count": 11,
   "metadata": {},
   "outputs": [
    {
     "name": "stdout",
     "output_type": "stream",
     "text": [
      "Evaluation results (model1_vs_model2):\n",
      "{'win': 30, 'tie': 11, 'loss': 39}\n"
     ]
    }
   ],
   "source": [
    "m1=\"gpt35\"\n",
    "m2=\"vicuna-13b\"\n",
    "eval_model=\"gpt-3.5-turbo-0301\"\n",
    "bpc=1\n",
    "k=1\n",
    "\n",
    "get_results(m1, m2, eval_model, bpc, k)"
   ]
  },
  {
   "cell_type": "code",
   "execution_count": 12,
   "metadata": {},
   "outputs": [
    {
     "name": "stdout",
     "output_type": "stream",
     "text": [
      "Evaluation results (model1_vs_model2):\n",
      "{'win': 34, 'tie': 1, 'loss': 45}\n"
     ]
    }
   ],
   "source": [
    "m1=\"gpt35\"\n",
    "m2=\"vicuna-13b\"\n",
    "eval_model=\"gpt-3.5-turbo-0301\"\n",
    "bpc=1\n",
    "k=5\n",
    "\n",
    "get_results(m1, m2, eval_model, bpc, k)"
   ]
  },
  {
   "cell_type": "code",
   "execution_count": 13,
   "metadata": {},
   "outputs": [],
   "source": [
    "def get_MEC_BPC_results(k):\n",
    "    gpt35_vs_vicuna13b_results = []\n",
    "\n",
    "    with open(f'review/review_gpt35_vs_vicuna-13b_eval=gpt-3.5-turbo-0301_mec={k}_bpc=1.json', 'r') as file:\n",
    "        for line in file:\n",
    "            json_object = json.loads(line)\n",
    "            gpt35_vs_vicuna13b_results.append(json_object)\n",
    "\n",
    "    human_annotations = []\n",
    "\n",
    "    with open('review/review_gpt35_vicuna-13b_human.txt', 'r') as file:\n",
    "        for line in file:\n",
    "            human_annotations.append(line.strip())\n",
    "\n",
    "    num_correct = 0\n",
    "    vicuna13b_win_rate = 0\n",
    "\n",
    "    for i in range(len(gpt35_vs_vicuna13b_results)):\n",
    "        gpt35_vs_vicuna13b_winner = \"\"\n",
    "        if gpt35_vs_vicuna13b_results[i]['score'][0] < gpt35_vs_vicuna13b_results[i]['score'][1]:\n",
    "            gpt35_vs_vicuna13b_winner = \"VICUNA13B\"\n",
    "        elif gpt35_vs_vicuna13b_results[i]['score'][0] > gpt35_vs_vicuna13b_results[i]['score'][1]:\n",
    "            gpt35_vs_vicuna13b_winner = \"CHATGPT\"\n",
    "        else:\n",
    "            gpt35_vs_vicuna13b_winner = \"TIE\"\n",
    "\n",
    "        if gpt35_vs_vicuna13b_winner == human_annotations[i]:\n",
    "            num_correct += 1\n",
    "        if gpt35_vs_vicuna13b_winner == \"VICUNA13B\":\n",
    "            vicuna13b_win_rate += 1\n",
    "\n",
    "\n",
    "    print(f\"Vicuna-13B v.s. ChatGPT | Evaluator: ChatGPT | MEC (k={k}) + BPC (k={k})\")\n",
    "    print(f\"Vicuna-13b win rate: {vicuna13b_win_rate / 80 * 100}%\")\n",
    "    print(f\"Accuracy in terms of closeness with human annotations: {num_correct}/80 ({num_correct / 80 * 100}%)\")\n",
    "    print()\n",
    "    return num_correct / 80 * 100"
   ]
  },
  {
   "cell_type": "code",
   "execution_count": 14,
   "metadata": {},
   "outputs": [
    {
     "name": "stdout",
     "output_type": "stream",
     "text": [
      "Vicuna-13B v.s. ChatGPT | Evaluator: ChatGPT | MEC (k=1) + BPC (k=1)\n",
      "Vicuna-13b win rate: 48.75%\n",
      "Accuracy in terms of closeness with human annotations: 41/80 (51.24999999999999%)\n",
      "\n",
      "Vicuna-13B v.s. ChatGPT | Evaluator: ChatGPT | MEC (k=3) + BPC (k=3)\n",
      "Vicuna-13b win rate: 56.25%\n",
      "Accuracy in terms of closeness with human annotations: 46/80 (57.49999999999999%)\n",
      "\n",
      "Vicuna-13B v.s. ChatGPT | Evaluator: ChatGPT | MEC (k=5) + BPC (k=5)\n",
      "Vicuna-13b win rate: 56.25%\n",
      "Accuracy in terms of closeness with human annotations: 47/80 (58.75%)\n",
      "\n"
     ]
    }
   ],
   "source": [
    "accuracy_k_1 = get_MEC_BPC_results(1)\n",
    "accuracy_k_3 = get_MEC_BPC_results(3)\n",
    "accuracy_k_5 = get_MEC_BPC_results(5)"
   ]
  },
  {
   "cell_type": "code",
   "execution_count": 15,
   "metadata": {},
   "outputs": [
    {
     "data": {
      "image/png": "[encoded data removed]",
      "text/plain": [
       "<Figure size 640x480 with 1 Axes>"
      ]
     },
     "metadata": {},
     "output_type": "display_data"
    }
   ],
   "source": [
    "import matplotlib.pyplot as plt\n",
    "\n",
    "k = [1, 3, 5]\n",
    "accuracy = [accuracy_k_1, accuracy_k_3, accuracy_k_5]\n",
    "\n",
    "plt.plot(k, accuracy, 'o-', color='red')\n",
    "plt.xticks(k)\n",
    "plt.xlabel('k')\n",
    "plt.ylabel('Accuracy')\n",
    "plt.grid(True)"
   ]
  },
  {
   "cell_type": "code",
   "execution_count": null,
   "metadata": {},
   "outputs": [],
   "source": []
  }
 ],
 "metadata": {
  "kernelspec": {
   "display_name": "env",
   "language": "python",
   "name": "python3"
  },
  "language_info": {
   "codemirror_mode": {
    "name": "ipython",
    "version": 3
   },
   "file_extension": ".py",
   "mimetype": "text/x-python",
   "name": "python",
   "nbconvert_exporter": "python",
   "pygments_lexer": "ipython3",
   "version": "3.12.2"
  }
 },
 "nbformat": 4,
 "nbformat_minor": 2
}
