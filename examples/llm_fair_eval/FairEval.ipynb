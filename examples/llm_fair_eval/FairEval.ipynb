{
 "cells": [
  {
   "cell_type": "code",
   "execution_count": 48,
   "metadata": {},
   "outputs": [],
   "source": [
    "import json\n",
    "import os\n",
    "import time\n",
    "\n",
    "import openai\n",
    "from tqdm import tqdm"
   ]
  },
  {
   "cell_type": "code",
   "execution_count": 49,
   "metadata": {},
   "outputs": [],
   "source": [
    "MAX_API_RETRY = 10000\n",
    "REQ_TIME_GAP = 4\n",
    "\n",
    "os.environ[\"OPENAI_API_KEY\"] = \"your-openai-api-key-here\"\n",
    "openai.api_key = os.environ[\"OPENAI_API_KEY\"]"
   ]
  },
  {
   "cell_type": "markdown",
   "metadata": {},
   "source": [
    "### Positional Bias of the LLM Evaluator\n",
    "An evaluation template with three placeholders T (Q, R1, R2), is used to query the LLM for eval- uation. For each testing question q, given two re- sponses r1 and r2 from Assistant 1 and Assistant 2, respectively, the researchers populate these re- sponses into the corresponding slots of the evalu- ation template to form a prompt: T (Q = q, R1 = r1, R2 = r2). The prompt is then used to query the LLM in order to obtain the comparison result."
   ]
  },
  {
   "cell_type": "code",
   "execution_count": 4,
   "metadata": {},
   "outputs": [],
   "source": [
    "def gen_prompt(ques, ans1, ans2):\n",
    "    sys_prompt = 'You are a helpful and precise assistant for checking the quality of the answer.'\n",
    "    prompt_template = \"[Question]\\n{question}\\n\\n[The Start of Assistant 1's Answer]\\n{answer_1}\\n[The End of Assistant 1's Answer]\\n\\n[The Start of Assistant 2's Answer]\\n{answer_2}\\n[The End of Assistant 2's Answer]\\n\\n[System]\\n{prompt}\\n\"\n",
    "    default_prompt = \"\"\"We would like to request your feedback on the per- formance of two AI assistants in response to the user question displayed above.\n",
    "    Please rate the helpfulness, relevance, accuracy, level of details of their responses. Each assistant receives an overall score on a scale of 1 to 10, where a higher score indicates better overall performance.\n",
    "    Please first output a single line containing only two values indicating the scores for Assistant 1 and 2, respectively.\n",
    "    The two scores are separated by a space. In the sub- sequent line, please provide a comprehensive explanation of your evaluation, avoiding any potential bias and ensuring that the order in which the responses were presented does not affect your judgment.\"\"\"\n",
    "    return sys_prompt, prompt_template.format(question=ques, answer_1=ans1, answer_2=ans2, prompt=default_prompt)\n",
    "\n",
    "def query_gpt(eval_model, system_prompt, user_prompt):\n",
    "    for i in range(MAX_API_RETRY):\n",
    "        try:\n",
    "            response = openai.ChatCompletion.create(\n",
    "                model=eval_model,\n",
    "                messages=[\n",
    "                    {\"role\": \"system\", \"content\": system_prompt},\n",
    "                    {\"role\": \"user\", \"content\": user_prompt},\n",
    "                ],\n",
    "                temperature=1,\n",
    "                max_tokens=512,\n",
    "            )\n",
    "            return response\n",
    "        except openai.error.RateLimitError:\n",
    "            print('rate limit')\n",
    "            time.sleep(30)\n",
    "        except Exception as e:\n",
    "            print('error')\n",
    "    raise RuntimeError(f\"Failed after {MAX_API_RETRY} retries.\")\n",
    "\n",
    "def get_eval(ques, ans1, ans2, eval_model):\n",
    "    system_prompt, user_prompt = gen_prompt(ques, ans1, ans2)\n",
    "    response = query_gpt(eval_model, system_prompt, user_prompt)\n",
    "    all_scores = []\n",
    "    contents = []\n",
    "    contents_bpc = []\n",
    "    choice = response[\"choices\"][0]\n",
    "    content = choice[\"message\"][\"content\"]\n",
    "    score1, score2 = parse_score_from_review(content)\n",
    "    if score1 != -1 and score2 != -1:\n",
    "        all_scores.append([score1, score2])\n",
    "        contents.append(content)\n",
    "    \n",
    "    return contents, contents_bpc, [score1, score2]\n",
    "\n",
    "def parse_score_from_review(review):\n",
    "    try:\n",
    "        scores = review.split(\"\\n\")[0]\n",
    "        score1 = scores.split(\" \")[0].strip()\n",
    "        score2 = scores.split(\" \")[1].strip()\n",
    "        return [float(score1), float(score2)]\n",
    "    except:\n",
    "        return [-1, -1]\n",
    "\n",
    "def get_json_list(file_path):\n",
    "    file_path = os.path.expanduser(file_path)\n",
    "    with open(file_path, \"r\") as f:\n",
    "        json_list = []\n",
    "        for line in f:\n",
    "            json_list.append(json.loads(line))\n",
    "        return json_list"
   ]
  },
  {
   "cell_type": "code",
   "execution_count": 5,
   "metadata": {},
   "outputs": [],
   "source": [
    "def get_results(m1, m2, eval_model):\n",
    "    question_jsons = get_json_list(\"question.jsonl\")\n",
    "    answer1_jsons = get_json_list(f\"answer/answer_{m1}.jsonl\")\n",
    "    answer2_jsons = get_json_list(f\"answer/answer_{m2}.jsonl\")\n",
    "    output = f\"review/review_{m1}_{m2}_{eval_model}.json\"\n",
    "\n",
    "    assert len(question_jsons) == len(answer1_jsons) == len(answer2_jsons)\n",
    "\n",
    "    reviews = []\n",
    "    total_len = len(question_jsons)\n",
    "    question_idx_list = list(range(total_len))\n",
    "\n",
    "    for i in tqdm(question_idx_list):\n",
    "        assert (\n",
    "            answer1_jsons[i][\"question_id\"]\n",
    "            == question_jsons[i][\"question_id\"]\n",
    "            == answer2_jsons[i][\"question_id\"]\n",
    "        )\n",
    "\n",
    "        ques = question_jsons[i][\"text\"]\n",
    "        ans1 = answer1_jsons[i][\"text\"]\n",
    "        ans2 = answer2_jsons[i][\"text\"]\n",
    "        \n",
    "        reviews.append(get_eval(ques, ans1, ans2, eval_model))\n",
    "        \n",
    "        # To avoid the rate limit set by OpenAI\n",
    "        time.sleep(REQ_TIME_GAP)\n",
    "\n",
    "    model1_vs_model2 = {\n",
    "        'win': 0,\n",
    "        'tie': 0,\n",
    "        'loss': 0\n",
    "    }\n",
    "    with open(f\"{output}\", \"w\") as output_review_file:\n",
    "        for idx, (contents, contents_bpc, [score1, score2]) in enumerate(reviews):\n",
    "            results = {\n",
    "                \"question_id\": question_jsons[idx][\"question_id\"],\n",
    "                \"question\": question_jsons[idx][\"text\"],\n",
    "                \"review\": contents,\n",
    "                \"review_bpc\": contents_bpc,\n",
    "                \"score\": [score1, score2],\n",
    "            }\n",
    "            output_review_file.write(json.dumps(results) + \"\\n\")\n",
    "            \n",
    "            if score1 == score2:\n",
    "                model1_vs_model2['tie'] += 1\n",
    "                \n",
    "            elif score1 > score2:\n",
    "                model1_vs_model2['win'] += 1\n",
    "            else:\n",
    "                model1_vs_model2['loss'] += 1\n",
    "\n",
    "    print(f'Evaluation results (model1_vs_model2):\\n{model1_vs_model2}')"
   ]
  },
  {
   "cell_type": "markdown",
   "metadata": {},
   "source": [
    "The Win Rate of Vicuna-13B significantly fluctuates when positioned as Assistant 1 and Assistant 2.\n",
    "Conflict Rate refers to the proportion of conflicting results given by the same evaluator when simply changing the position of two models."
   ]
  },
  {
   "cell_type": "markdown",
   "metadata": {},
   "source": [
    "### Vicuna-13B v.s. ChatGPT"
   ]
  },
  {
   "cell_type": "code",
   "execution_count": 47,
   "metadata": {},
   "outputs": [
    {
     "name": "stderr",
     "output_type": "stream",
     "text": [
      "100%|██████████| 80/80 [07:37<00:00,  5.72s/it]"
     ]
    },
    {
     "name": "stdout",
     "output_type": "stream",
     "text": [
      "Evaluation results (model1_vs_model2):\n",
      "{'win': 21, 'tie': 1, 'loss': 58}\n"
     ]
    },
    {
     "name": "stderr",
     "output_type": "stream",
     "text": [
      "\n"
     ]
    }
   ],
   "source": [
    "m1=\"gpt35\"\n",
    "m2=\"vicuna-13b\"\n",
    "eval_model=\"gpt-3.5-turbo-0301\"\n",
    "\n",
    "get_results(m1, m2, eval_model)"
   ]
  },
  {
   "cell_type": "code",
   "execution_count": 48,
   "metadata": {},
   "outputs": [
    {
     "name": "stderr",
     "output_type": "stream",
     "text": [
      "100%|██████████| 80/80 [07:31<00:00,  5.65s/it]"
     ]
    },
    {
     "name": "stdout",
     "output_type": "stream",
     "text": [
      "Evaluation results (model1_vs_model2):\n",
      "{'win': 18, 'tie': 1, 'loss': 61}\n"
     ]
    },
    {
     "name": "stderr",
     "output_type": "stream",
     "text": [
      "\n"
     ]
    }
   ],
   "source": [
    "m1=\"vicuna-13b\"\n",
    "m2=\"gpt35\"\n",
    "eval_model=\"gpt-3.5-turbo-0301\"\n",
    "\n",
    "get_results(m1, m2, eval_model)"
   ]
  },
  {
   "cell_type": "code",
   "execution_count": 77,
   "metadata": {},
   "outputs": [
    {
     "name": "stdout",
     "output_type": "stream",
     "text": [
      "Vicuna-13B v.s. ChatGPT | Evaluator: ChatGPT\n",
      "Vicuna-13b win rate as assistant 1: 22.5%\n",
      "Vicuna-13b win rate as assistant 2: 72.5%\n",
      "Conflict rate: 56/80 (70.0%)\n"
     ]
    }
   ],
   "source": [
    "gpt35_vs_vicuna13b_results = []\n",
    "\n",
    "with open('review/review_gpt35_vicuna-13b_gpt-3.5-turbo-0301.json', 'r') as file:\n",
    "    for line in file:\n",
    "        json_object = json.loads(line)\n",
    "        gpt35_vs_vicuna13b_results.append(json_object)\n",
    "\n",
    "vicuna13b_vs_gpt35_results = []\n",
    "\n",
    "with open('review/review_vicuna-13b_gpt35_gpt-3.5-turbo-0301.json', 'r') as file:\n",
    "    for line in file:\n",
    "        json_object = json.loads(line)\n",
    "        vicuna13b_vs_gpt35_results.append(json_object)\n",
    "\n",
    "vicuna13b_win_rate_first = 0\n",
    "vicuna13b_win_rate_second = 0\n",
    "conflict = 0\n",
    "\n",
    "for i in range(len(gpt35_vs_vicuna13b_results)):\n",
    "    vicuna_as_first_winner = False\n",
    "    vicuna_as_second_winner = False\n",
    "    if gpt35_vs_vicuna13b_results[i]['score'][0] < gpt35_vs_vicuna13b_results[i]['score'][1]:\n",
    "        vicuna13b_win_rate_second += 1\n",
    "        vicuna_as_second_winner = True\n",
    "    if vicuna13b_vs_gpt35_results[i]['score'][0] > vicuna13b_vs_gpt35_results[i]['score'][1]:\n",
    "        vicuna13b_win_rate_first += 1\n",
    "        vicuna_as_first_winner = True\n",
    "    if vicuna_as_first_winner != vicuna_as_second_winner:\n",
    "        conflict += 1\n",
    "\n",
    "\n",
    "print(\"Vicuna-13B v.s. ChatGPT | Evaluator: ChatGPT\")\n",
    "print(f\"Vicuna-13b win rate as assistant 1: {vicuna13b_win_rate_first / 80 * 100}%\")\n",
    "print(f\"Vicuna-13b win rate as assistant 2: {vicuna13b_win_rate_second / 80 * 100}%\")\n",
    "print(f\"Conflict rate: {conflict}/80 ({conflict / 80 * 100}%)\")\n",
    "    "
   ]
  },
  {
   "cell_type": "markdown",
   "metadata": {},
   "source": [
    "### Vicuna-13B v.s. Alpaca-13B"
   ]
  },
  {
   "cell_type": "code",
   "execution_count": 6,
   "metadata": {},
   "outputs": [
    {
     "name": "stderr",
     "output_type": "stream",
     "text": [
      "100%|██████████| 80/80 [07:33<00:00,  5.67s/it]"
     ]
    },
    {
     "name": "stdout",
     "output_type": "stream",
     "text": [
      "Evaluation results (model1_vs_model2):\n",
      "{'win': 7, 'tie': 0, 'loss': 73}\n"
     ]
    },
    {
     "name": "stderr",
     "output_type": "stream",
     "text": [
      "\n"
     ]
    }
   ],
   "source": [
    "m1=\"alpaca-13b\"\n",
    "m2=\"vicuna-13b\"\n",
    "eval_model=\"gpt-3.5-turbo-0301\"\n",
    "\n",
    "get_results(m1, m2, eval_model)"
   ]
  },
  {
   "cell_type": "code",
   "execution_count": 7,
   "metadata": {},
   "outputs": [
    {
     "name": "stderr",
     "output_type": "stream",
     "text": [
      "100%|██████████| 80/80 [07:18<00:00,  5.49s/it]"
     ]
    },
    {
     "name": "stdout",
     "output_type": "stream",
     "text": [
      "Evaluation results (model1_vs_model2):\n",
      "{'win': 55, 'tie': 0, 'loss': 25}\n"
     ]
    },
    {
     "name": "stderr",
     "output_type": "stream",
     "text": [
      "\n"
     ]
    }
   ],
   "source": [
    "m1=\"vicuna-13b\"\n",
    "m2=\"alpaca-13b\"\n",
    "eval_model=\"gpt-3.5-turbo-0301\"\n",
    "\n",
    "get_results(m1, m2, eval_model)"
   ]
  },
  {
   "cell_type": "code",
   "execution_count": 78,
   "metadata": {},
   "outputs": [
    {
     "name": "stdout",
     "output_type": "stream",
     "text": [
      "Vicuna-13B v.s. Alpaca-13B | Evaluator: ChatGPT\n",
      "Vicuna-13b win rate as assistant 1: 68.75%\n",
      "Vicuna-13b win rate as assistant 2: 91.25%\n",
      "Conflict rate: 26/80 (32.5%)\n"
     ]
    }
   ],
   "source": [
    "alpaca13b_vs_vicuna13b_results = []\n",
    "\n",
    "with open('review/review_alpaca-13b_vicuna-13b_gpt-3.5-turbo-0301.json', 'r') as file:\n",
    "    for line in file:\n",
    "        json_object = json.loads(line)\n",
    "        alpaca13b_vs_vicuna13b_results.append(json_object)\n",
    "\n",
    "vicuna13b_vs_alpaca13b_results = []\n",
    "\n",
    "with open('review/review_vicuna-13b_alpaca-13b_gpt-3.5-turbo-0301.json', 'r') as file:\n",
    "    for line in file:\n",
    "        json_object = json.loads(line)\n",
    "        vicuna13b_vs_alpaca13b_results.append(json_object)\n",
    "\n",
    "vicuna13b_win_rate_first = 0\n",
    "vicuna13b_win_rate_second = 0\n",
    "conflict = 0\n",
    "\n",
    "for i in range(len(gpt35_vs_vicuna13b_results)):\n",
    "    vicuna_as_first_winner = False\n",
    "    vicuna_as_second_winner = False\n",
    "    if alpaca13b_vs_vicuna13b_results[i]['score'][0] < alpaca13b_vs_vicuna13b_results[i]['score'][1]:\n",
    "        vicuna13b_win_rate_second += 1\n",
    "        vicuna_as_second_winner = True\n",
    "    if vicuna13b_vs_alpaca13b_results[i]['score'][0] > vicuna13b_vs_alpaca13b_results[i]['score'][1]:\n",
    "        vicuna13b_win_rate_first += 1\n",
    "        vicuna_as_first_winner = True\n",
    "    if vicuna_as_first_winner != vicuna_as_second_winner:\n",
    "        conflict += 1\n",
    "\n",
    "\n",
    "print(\"Vicuna-13B v.s. Alpaca-13B | Evaluator: ChatGPT\")\n",
    "print(f\"Vicuna-13b win rate as assistant 1: {vicuna13b_win_rate_first / 80 * 100}%\")\n",
    "print(f\"Vicuna-13b win rate as assistant 2: {vicuna13b_win_rate_second / 80 * 100}%\")\n",
    "print(f\"Conflict rate: {conflict}/80 ({conflict / 80 * 100}%)\")\n",
    "    "
   ]
  },
  {
   "cell_type": "markdown",
   "metadata": {},
   "source": [
    "### Calibrating the Positional Bias using Multiple Evidence Calibration (MEC) and Balanced Position Calibration (BPC)\n"
   ]
  },
  {
   "cell_type": "code",
   "execution_count": 65,
   "metadata": {},
   "outputs": [],
   "source": [
    "def gen_prompt(ques, ans1, ans2):\n",
    "    sys_prompt = 'You are a helpful and precise assistant for checking the quality of the answer.'\n",
    "    prompt_template = \"[Question]\\n{question}\\n\\n[The Start of Assistant 1's Answer]\\n{answer_1}\\n[The End of Assistant 1's Answer]\\n\\n[The Start of Assistant 2's Answer]\\n{answer_2}\\n[The End of Assistant 2's Answer]\\n\\n[System]\\n{prompt}\\n\"\n",
    "    default_prompt =  \"\"\"We would like to request your feedback on the performance of two AI assistants in response to the user question displayed above.\n",
    "    Please rate the helpfulness, relevance, accuracy, level of details of their responses. \n",
    "\n",
    "    Each assistant receives an overall score on a scale of 1 to 10, where a higher score indicates better overall performance.\n",
    "    Please first provide a comprehensive explanation of your evaluation, avoiding any potential bias and ensuring that the order in which the responses were presented does not affect your judgment. \n",
    "    Then, output two lines indicating the scores for Assistant 1 and 2, respectively.\n",
    "\n",
    "    Output with the following format:\n",
    "    Evaluation evidence: <your evluation explanation here>\n",
    "    Score of the Assistant 1: <score>\n",
    "    Score of the Assistant 2: <score>\"\"\"\n",
    "    return sys_prompt, prompt_template.format(question=ques, answer_1=ans1, answer_2=ans2, prompt=default_prompt)\n",
    "\n",
    "def query_gpt(eval_model, k, system_prompt, user_prompt):\n",
    "    for i in range(MAX_API_RETRY):\n",
    "        try:\n",
    "            response = openai.ChatCompletion.create(\n",
    "                model=eval_model,\n",
    "                messages=[\n",
    "                    {\"role\": \"system\", \"content\": system_prompt},\n",
    "                    {\"role\": \"user\", \"content\": user_prompt},\n",
    "                ],\n",
    "                temperature=1,\n",
    "                max_tokens=512,\n",
    "                n=k\n",
    "            )\n",
    "            return response\n",
    "        except openai.error.RateLimitError:\n",
    "            print('rate limit')\n",
    "            time.sleep(30)\n",
    "        except Exception as e:\n",
    "            print('error')\n",
    "    raise RuntimeError(f\"Failed after {MAX_API_RETRY} retries.\")\n",
    "\n",
    "\n",
    "def get_eval(ques, ans1, ans2, eval_model, k, bpc=1):\n",
    "    cost = 0\n",
    "    system_prompt, user_prompt = gen_prompt(ques, ans1, ans2)\n",
    "    response = query_gpt(eval_model, k, system_prompt, user_prompt)\n",
    "    all_scores = []\n",
    "    contents = []\n",
    "    contents_bpc = []\n",
    "    for choice in response[\"choices\"]:\n",
    "        content = choice[\"message\"][\"content\"]\n",
    "        score1, score2 = parse_score_from_review(content)\n",
    "        if score1 == -1 or score2 == -1:\n",
    "            continue\n",
    "        all_scores.append([score1, score2])\n",
    "        contents.append(content)\n",
    "    \n",
    "    if bpc == 1:\n",
    "        system_prompt, user_prompt_bpc = gen_prompt(ques, ans2, ans1)\n",
    "        response_bpc = query_gpt(eval_model, k, system_prompt, user_prompt)\n",
    "        for choice in response_bpc[\"choices\"]:\n",
    "            content = choice[\"message\"][\"content\"]\n",
    "            score2, score1 = parse_score_from_review(content)\n",
    "            if score1 == -1 or score2 == -1:\n",
    "                continue\n",
    "            all_scores.append([score1, score2])\n",
    "            contents_bpc.append(content)\n",
    "    \n",
    "    score1 = sum([score[0] for score in all_scores]) / len(all_scores)\n",
    "    score2 = sum([score[1] for score in all_scores]) / len(all_scores)\n",
    "    return contents, contents_bpc, [score1, score2]\n",
    "\n",
    "\n",
    "def parse_score_from_review(review):\n",
    "    try:\n",
    "        score1 = review.split(\"\\n\")[-2]\n",
    "        score2 = review.split(\"\\n\")[-1]\n",
    "        score1 = score1.split(\":\")[-1].strip()\n",
    "        score2 = score2.split(\":\")[-1].strip()\n",
    "        return [float(score1), float(score2)]\n",
    "    except:\n",
    "        return [-1, -1]\n",
    "\n",
    "def get_json_list(file_path):\n",
    "    file_path = os.path.expanduser(file_path)\n",
    "    with open(file_path, \"r\") as f:\n",
    "        json_list = []\n",
    "        for line in f:\n",
    "            json_list.append(json.loads(line))\n",
    "        return json_list"
   ]
  },
  {
   "cell_type": "code",
   "execution_count": 66,
   "metadata": {},
   "outputs": [],
   "source": [
    "def get_results(m1, m2, eval_model, bpc, k):\n",
    "    question_jsons = get_json_list(\"question.jsonl\")\n",
    "    answer1_jsons = get_json_list(f\"answer/answer_{m1}.jsonl\")\n",
    "    answer2_jsons = get_json_list(f\"answer/answer_{m2}.jsonl\")\n",
    "    output = f\"review/review_{m1}_{m2}_{eval_model}_mec{k}_bpc{bpc}.json\"\n",
    "\n",
    "    assert len(question_jsons) == len(answer1_jsons) == len(answer2_jsons)\n",
    "\n",
    "    reviews = []\n",
    "    total_len = len(question_jsons)\n",
    "    question_idx_list = list(range(total_len))\n",
    "\n",
    "    for i in tqdm(question_idx_list):\n",
    "        assert (\n",
    "            answer1_jsons[i][\"question_id\"]\n",
    "            == question_jsons[i][\"question_id\"]\n",
    "            == answer2_jsons[i][\"question_id\"]\n",
    "        )\n",
    "\n",
    "        ques = question_jsons[i][\"text\"]\n",
    "        ans1 = answer1_jsons[i][\"text\"]\n",
    "        ans2 = answer2_jsons[i][\"text\"]\n",
    "        \n",
    "        reviews.append(get_eval(ques, ans1, ans2, eval_model, k, bpc))\n",
    "        \n",
    "        # To avoid the rate limit set by OpenAI\n",
    "        time.sleep(REQ_TIME_GAP)\n",
    "\n",
    "    model1_vs_model2 = {\n",
    "        'win': 0,\n",
    "        'tie': 0,\n",
    "        'loss': 0\n",
    "    }\n",
    "    with open(f\"{output}\", \"w\") as output_review_file:\n",
    "        for idx, (contents, contents_bpc, [score1, score2]) in enumerate(reviews):\n",
    "            results = {\n",
    "                \"question_id\": question_jsons[idx][\"question_id\"],\n",
    "                \"question\": question_jsons[idx][\"text\"],\n",
    "                \"review\": contents,\n",
    "                \"review_bpc\": contents_bpc,\n",
    "                \"score\": [score1, score2],\n",
    "            }\n",
    "            output_review_file.write(json.dumps(results) + \"\\n\")\n",
    "            \n",
    "            if score1 == score2:\n",
    "                model1_vs_model2['tie'] += 1\n",
    "                \n",
    "            elif score1 > score2:\n",
    "                model1_vs_model2['win'] += 1\n",
    "            else:\n",
    "                model1_vs_model2['loss'] += 1\n",
    "\n",
    "    print(f'Evaluation results (model1_vs_model2):\\n{model1_vs_model2}')"
   ]
  },
  {
   "cell_type": "markdown",
   "metadata": {},
   "source": [
    "### Variation of accuracy with different number of evidence k when ChatGPT is used as the evaluator."
   ]
  },
  {
   "cell_type": "code",
   "execution_count": 67,
   "metadata": {},
   "outputs": [
    {
     "name": "stderr",
     "output_type": "stream",
     "text": [
      "100%|██████████| 80/80 [12:06<00:00,  9.08s/it]"
     ]
    },
    {
     "name": "stdout",
     "output_type": "stream",
     "text": [
      "Evaluation results (model1_vs_model2):\n",
      "{'win': 35, 'tie': 6, 'loss': 39}\n"
     ]
    },
    {
     "name": "stderr",
     "output_type": "stream",
     "text": [
      "\n"
     ]
    }
   ],
   "source": [
    "m1=\"gpt35\"\n",
    "m2=\"vicuna-13b\"\n",
    "eval_model=\"gpt-3.5-turbo-0301\"\n",
    "bpc=1\n",
    "k=3\n",
    "\n",
    "get_results(m1, m2, eval_model, bpc, k)"
   ]
  },
  {
   "cell_type": "code",
   "execution_count": 68,
   "metadata": {},
   "outputs": [
    {
     "name": "stderr",
     "output_type": "stream",
     "text": [
      "100%|██████████| 80/80 [10:45<00:00,  8.07s/it]"
     ]
    },
    {
     "name": "stdout",
     "output_type": "stream",
     "text": [
      "Evaluation results (model1_vs_model2):\n",
      "{'win': 33, 'tie': 21, 'loss': 26}\n"
     ]
    },
    {
     "name": "stderr",
     "output_type": "stream",
     "text": [
      "\n"
     ]
    }
   ],
   "source": [
    "m1=\"gpt35\"\n",
    "m2=\"vicuna-13b\"\n",
    "eval_model=\"gpt-3.5-turbo-0301\"\n",
    "bpc=1\n",
    "k=1\n",
    "\n",
    "get_results(m1, m2, eval_model, bpc, k)"
   ]
  },
  {
   "cell_type": "code",
   "execution_count": 69,
   "metadata": {},
   "outputs": [
    {
     "name": "stderr",
     "output_type": "stream",
     "text": [
      "100%|██████████| 80/80 [13:21<00:00, 10.02s/it]"
     ]
    },
    {
     "name": "stdout",
     "output_type": "stream",
     "text": [
      "Evaluation results (model1_vs_model2):\n",
      "{'win': 38, 'tie': 10, 'loss': 32}\n"
     ]
    },
    {
     "name": "stderr",
     "output_type": "stream",
     "text": [
      "\n"
     ]
    }
   ],
   "source": [
    "m1=\"gpt35\"\n",
    "m2=\"vicuna-13b\"\n",
    "eval_model=\"gpt-3.5-turbo-0301\"\n",
    "bpc=1\n",
    "k=5\n",
    "\n",
    "get_results(m1, m2, eval_model, bpc, k)"
   ]
  },
  {
   "cell_type": "code",
   "execution_count": 81,
   "metadata": {},
   "outputs": [],
   "source": [
    "def get_MEC_BPC_results(k):\n",
    "    gpt35_vs_vicuna13b_results = []\n",
    "\n",
    "    with open(f'review/review_gpt35_vicuna-13b_gpt-3.5-turbo-0301_mec{k}_bpc1.json', 'r') as file:\n",
    "        for line in file:\n",
    "            json_object = json.loads(line)\n",
    "            gpt35_vs_vicuna13b_results.append(json_object)\n",
    "\n",
    "    human_annotations = []\n",
    "\n",
    "    with open('review/review_gpt35_vicuna-13b_human.txt', 'r') as file:\n",
    "        for line in file:\n",
    "            human_annotations.append(line.strip())\n",
    "\n",
    "    num_correct = 0\n",
    "    vicuna13b_win_rate = 0\n",
    "\n",
    "    for i in range(len(gpt35_vs_vicuna13b_results)):\n",
    "        gpt35_vs_vicuna13b_winner = \"\"\n",
    "        if gpt35_vs_vicuna13b_results[i]['score'][0] < gpt35_vs_vicuna13b_results[i]['score'][1]:\n",
    "            gpt35_vs_vicuna13b_winner = \"VICUNA13B\"\n",
    "        elif gpt35_vs_vicuna13b_results[i]['score'][0] > gpt35_vs_vicuna13b_results[i]['score'][1]:\n",
    "            gpt35_vs_vicuna13b_winner = \"CHATGPT\"\n",
    "        else:\n",
    "            gpt35_vs_vicuna13b_winner = \"TIE\"\n",
    "\n",
    "        if gpt35_vs_vicuna13b_winner == human_annotations[i]:\n",
    "            num_correct += 1\n",
    "        if gpt35_vs_vicuna13b_winner == \"VICUNA13B\":\n",
    "            vicuna13b_win_rate += 1\n",
    "\n",
    "\n",
    "    print(f\"Vicuna-13B v.s. ChatGPT | Evaluator: ChatGPT | MEC (k={k}) + BPC (k={k})\")\n",
    "    print(f\"Vicuna-13b win rate: {vicuna13b_win_rate / 80 * 100}%\")\n",
    "    print(f\"Accuracy in terms of closeness with human annotations: {num_correct}/80 ({num_correct / 80 * 100}%)\")\n",
    "    print()\n",
    "    return num_correct / 80 * 100"
   ]
  },
  {
   "cell_type": "code",
   "execution_count": 82,
   "metadata": {},
   "outputs": [
    {
     "name": "stdout",
     "output_type": "stream",
     "text": [
      "Vicuna-13B v.s. ChatGPT | Evaluator: ChatGPT | MEC (k=1) + BPC (k=1)\n",
      "Vicuna-13b win rate: 32.5%\n",
      "Accuracy in terms of closeness with human annotations: 37/80 (46.25%)\n",
      "\n",
      "Vicuna-13B v.s. ChatGPT | Evaluator: ChatGPT | MEC (k=3) + BPC (k=3)\n",
      "Vicuna-13b win rate: 48.75%\n",
      "Accuracy in terms of closeness with human annotations: 32/80 (40.0%)\n",
      "\n",
      "Vicuna-13B v.s. ChatGPT | Evaluator: ChatGPT | MEC (k=5) + BPC (k=5)\n",
      "Vicuna-13b win rate: 40.0%\n",
      "Accuracy in terms of closeness with human annotations: 31/80 (38.75%)\n",
      "\n"
     ]
    }
   ],
   "source": [
    "accuracy_k_1 = get_MEC_BPC_results(1)\n",
    "accuracy_k_3 = get_MEC_BPC_results(3)\n",
    "accuracy_k_5 = get_MEC_BPC_results(5)"
   ]
  },
  {
   "cell_type": "code",
   "execution_count": 84,
   "metadata": {},
   "outputs": [
    {
     "data": {
      "image/png": "[encoded data removed]",
      "text/plain": [
       "<Figure size 640x480 with 1 Axes>"
      ]
     },
     "metadata": {},
     "output_type": "display_data"
    }
   ],
   "source": [
    "import matplotlib.pyplot as plt\n",
    "\n",
    "k = [1, 3, 5]\n",
    "accuracy = [accuracy_k_1, accuracy_k_3, accuracy_k_5]\n",
    "\n",
    "plt.plot(k, accuracy, 'o-', color='red')\n",
    "plt.xticks(k)\n",
    "plt.xlabel('k')\n",
    "plt.ylabel('Accuracy')\n",
    "plt.grid(True)"
   ]
  },
  {
   "cell_type": "code",
   "execution_count": null,
   "metadata": {},
   "outputs": [],
   "source": []
  }
 ],
 "metadata": {
  "kernelspec": {
   "display_name": "env",
   "language": "python",
   "name": "python3"
  },
  "language_info": {
   "codemirror_mode": {
    "name": "ipython",
    "version": 3
   },
   "file_extension": ".py",
   "mimetype": "text/x-python",
   "name": "python",
   "nbconvert_exporter": "python",
   "pygments_lexer": "ipython3",
   "version": "3.12.2"
  }
 },
 "nbformat": 4,
 "nbformat_minor": 2
}
